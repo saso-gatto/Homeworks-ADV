{
  "cells": [
    {
      "cell_type": "markdown",
      "metadata": {
        "id": "A3dvUo-Iz6wD"
      },
      "source": [
        "# Imports\n",
        "\n"
      ]
    },
    {
      "cell_type": "code",
      "execution_count": 1,
      "metadata": {
        "id": "oI2OurybwM81",
        "colab": {
          "base_uri": "https://localhost:8080/"
        },
        "outputId": "9cd97bbd-ef5e-4694-af85-f4e8804d54ab"
      },
      "outputs": [
        {
          "output_type": "stream",
          "name": "stdout",
          "text": [
            "Collecting columnar\n",
            "  Downloading Columnar-1.4.1-py3-none-any.whl (11 kB)\n",
            "Requirement already satisfied: wcwidth in /usr/local/lib/python3.7/dist-packages (from columnar) (0.2.5)\n",
            "Requirement already satisfied: toolz in /usr/local/lib/python3.7/dist-packages (from columnar) (0.11.2)\n",
            "Installing collected packages: columnar\n",
            "Successfully installed columnar-1.4.1\n"
          ]
        }
      ],
      "source": [
        "pip install columnar #package to print table of data "
      ]
    },
    {
      "cell_type": "code",
      "execution_count": 2,
      "metadata": {
        "id": "2TpUl7iDD8Rw"
      },
      "outputs": [],
      "source": [
        "from collections import defaultdict\n",
        "import sys\n",
        "import math\n",
        "import time\n",
        "import heapq\n",
        "import gc\n",
        "import zipfile\n",
        "from time import perf_counter_ns\n",
        "import os\n",
        "import matplotlib.pyplot as plt\n",
        "from columnar import columnar\n",
        "import random\n",
        "import copy\n",
        "from tabulate import tabulate\n"
      ]
    },
    {
      "cell_type": "code",
      "execution_count": 3,
      "metadata": {
        "colab": {
          "base_uri": "https://localhost:8080/"
        },
        "id": "u8ztBEn2noYM",
        "outputId": "93421023-71cf-4c83-a568-e898410e1117"
      },
      "outputs": [
        {
          "output_type": "stream",
          "name": "stdout",
          "text": [
            "Mounted at /content/drive\n"
          ]
        }
      ],
      "source": [
        "from google.colab import drive\n",
        "drive.mount('/content/drive')"
      ]
    },
    {
      "cell_type": "code",
      "execution_count": 4,
      "metadata": {
        "id": "AsY343bAmG50"
      },
      "outputs": [],
      "source": [
        "with zipfile.ZipFile('/content/drive/MyDrive/tsp_dataset.zip', 'r') as zip_ref:\n",
        "\n",
        "     zip_ref.extractall('/content/')"
      ]
    },
    {
      "cell_type": "markdown",
      "metadata": {
        "id": "hb3ZngYLz5n3"
      },
      "source": [
        "# Classes and handy functions"
      ]
    },
    {
      "cell_type": "markdown",
      "metadata": {
        "id": "JvdJRbeL0EiX"
      },
      "source": [
        "In this section we define some useful classes and functions for our algorithm implementations."
      ]
    },
    {
      "cell_type": "markdown",
      "source": [
        "## Data structures"
      ],
      "metadata": {
        "id": "OWvqMm8urZWI"
      }
    },
    {
      "cell_type": "code",
      "execution_count": 5,
      "metadata": {
        "id": "1WTU5Nr40YWq"
      },
      "outputs": [],
      "source": [
        "class Graph():\n",
        "  def __init__ (self):\n",
        "    self.V=[]\n",
        "    self.E= defaultdict(list)\n",
        "    self.adjacency_list = defaultdict(list)\n",
        "\n",
        "  def add_vertex(self,v):\n",
        "    self.V.append(v)\n",
        "\n",
        "  def remove_vertex (self,v):\n",
        "    self.V.remove(v)\n",
        "\n",
        "  def add_edge(self, source_node, destination_node, weight):\n",
        "    # First case\n",
        "    # We add the source and the destination node only if the are not already present\n",
        "    if (source_node not in self.V):\n",
        "      self.V.append(source_node)\n",
        "    \n",
        "    if (destination_node not in self.V):\n",
        "      self.V.append(destination_node)\n",
        "    \n",
        "    # Now we can add the edge\n",
        "    #edge = (source_node.vertex, destination_node.vertex, weight)\n",
        "    self.E[(source_node,destination_node)] = weight\n",
        "\n",
        "    # Now we update the graph\n",
        "    self.adjacency_list[source_node].append((destination_node,weight))\n",
        "    if (source_node != destination_node):\n",
        "      self.adjacency_list[destination_node].append((source_node,weight))\n",
        "\n",
        "  def get_edge(self, v1,v2):\n",
        "    if((v1,v2) in self.E):\n",
        "      return self.E.get((v1,v2))\n",
        "    else:\n",
        "      return self.E.get((v2,v1))\n",
        "      "
      ]
    },
    {
      "cell_type": "code",
      "execution_count": 6,
      "metadata": {
        "id": "CFkkKviCCHTp"
      },
      "outputs": [],
      "source": [
        "def convert_to_rad(x): # radians conversion\n",
        "  PI = 3.141592\n",
        "  deg = x\n",
        "  min = x- deg\n",
        "  rad = PI * (deg + 5.0 * min/ 3.0) / 180.0\n",
        "  return rad"
      ]
    },
    {
      "cell_type": "code",
      "source": [
        "class Point():\n",
        "  def __init__(self,v,x,y):\n",
        "    self.vertex=v\n",
        "    self.x = x\n",
        "    self.y = y\n",
        "  \n",
        "  def get_x(self):\n",
        "    return self.x\n",
        "\n",
        "  def get_y(self):\n",
        "    return self.y\n",
        "\n",
        "  def __repr__(self):\n",
        "    return str(self.vertex)+\":(\"+str(self.x)+\", \"+str(self.y)+\")\"\n",
        "\n",
        "  def __str__(self):\n",
        "    return str(self.vertex)+\":(\"+str(self.x)+\", \"+str(self.y)+\")\"\n"
      ],
      "metadata": {
        "id": "RkpTWntjPlXI"
      },
      "execution_count": 7,
      "outputs": []
    },
    {
      "cell_type": "code",
      "execution_count": 8,
      "metadata": {
        "id": "flNZyF-KPX9-"
      },
      "outputs": [],
      "source": [
        "def compute_weight(weight_type, u,v):\n",
        "  # Compute the euclidean distance, then round to the nearest integer\n",
        "  if (weight_type==\"EUC_2D\"):\n",
        "    dis = math.floor(math.sqrt(math.pow((v.x-u.x),2)+math.pow((v.y-u.y),2)))\n",
        "    return dis\n",
        "  elif (weight_type ==\"GEO\"):\n",
        "    # Convert x, y coordinates to radians using the code specified in the TSPLIB FAQ.\n",
        "    # The formula uses the integer part of x and y (DOES NOT ROUND TO THE NEAREST INTEGER).\n",
        "\n",
        "    PI = 3.141592\n",
        "        \n",
        "    rad_ux = convert_to_rad(u.x)\n",
        "    rad_vx = convert_to_rad(v.x)\n",
        "    rad_uy = convert_to_rad(u.y)\n",
        "    rad_vy = convert_to_rad(v.y)\n",
        "                             \n",
        "    RRR = 6378.388\n",
        "    \n",
        "    q1 = math.cos(rad_uy - rad_vy)\n",
        "    q2 = math.cos(rad_ux - rad_vx)\n",
        "    q3 = math.cos(rad_ux + rad_vx)\n",
        "    \n",
        "    dij = (int) ( RRR * math.acos( 0.5*((1.0+q1)*q2 - (1.0-q1)*q3) ) + 1.0)\n",
        "    return dij "
      ]
    },
    {
      "cell_type": "markdown",
      "source": [
        "## Reading data"
      ],
      "metadata": {
        "id": "l0rpc1_4reQY"
      }
    },
    {
      "cell_type": "code",
      "source": [
        "def read_input_data(filepath):\n",
        "  f = open(filepath, \"r\")\n",
        "  lines = f.readlines()\n",
        "  data =[]\n",
        "  for index, line in enumerate (lines):\n",
        "    text = line.strip()\n",
        "    data.append(float(text))\n",
        "  return data"
      ],
      "metadata": {
        "id": "XX5CQZPT6lzk"
      },
      "execution_count": 9,
      "outputs": []
    },
    {
      "cell_type": "code",
      "source": [
        "def read_sizes(filepath):\n",
        "  f = open(filepath, \"r\")\n",
        "  lines = f.readlines()\n",
        "  data =[]\n",
        "  for index, line in enumerate (lines):\n",
        "    text = line.strip()\n",
        "    data.append(int(text))\n",
        "  return data"
      ],
      "metadata": {
        "id": "S3PgdKfWkPs0"
      },
      "execution_count": 10,
      "outputs": []
    },
    {
      "cell_type": "code",
      "source": [
        "def read_files(filepath):\n",
        "  f = open(filepath, \"r\")\n",
        "  lines = f.readlines()\n",
        "  data =[]\n",
        "  for index, line in enumerate (lines):\n",
        "    text = line.strip()   \n",
        "    data.append(text)\n",
        "  return data"
      ],
      "metadata": {
        "id": "3fuDfoSEkuOy"
      },
      "execution_count": 11,
      "outputs": []
    },
    {
      "cell_type": "code",
      "source": [
        "def take_integer(number):\n",
        "  splitted_number = number.split('.')\n",
        "  return int(splitted_number[0])"
      ],
      "metadata": {
        "id": "jDt-A-CTT3Xp"
      },
      "execution_count": 12,
      "outputs": []
    },
    {
      "cell_type": "code",
      "source": [
        "def get_optimal_solution(filename):\n",
        "  if filename == \"burma14.tsp\":\n",
        "    return 3323\n",
        "  if filename == \"ulysses16.tsp\":\n",
        "    return 6859\n",
        "  if filename == \"ulysses22.tsp\":\n",
        "    return 7013\n",
        "  if filename == \"eil51.tsp\":\n",
        "    return 426\n",
        "  if filename == \"berlin52.tsp\":\n",
        "    return 7542\n",
        "  if filename == \"kroD100.tsp\":\n",
        "    return 21294\n",
        "  if filename == \"kroA100.tsp\":\n",
        "    return 21282\n",
        "  if filename == \"ch150.tsp\":\n",
        "    return 6528\n",
        "  if filename == \"gr202.tsp\":\n",
        "    return 40160\n",
        "  if filename == \"gr229.tsp\":\n",
        "    return 134602\n",
        "  if filename == \"pcb442.tsp\":\n",
        "    return 50778 \n",
        "  if filename == \"d493.tsp\":\n",
        "    return 35002\n",
        "  if filename == \"dsj1000.tsp\":\n",
        "    return 18659688 "
      ],
      "metadata": {
        "id": "nwSqauJfnO_V"
      },
      "execution_count": 13,
      "outputs": []
    },
    {
      "cell_type": "code",
      "execution_count": 14,
      "metadata": {
        "id": "IloBa0s4zRXt"
      },
      "outputs": [],
      "source": [
        "def read_input_graph(filepath):\n",
        "  f = open(filepath, \"r\")\n",
        "  lines = f.readlines()\n",
        "  save_coordinate= False\n",
        "  weight_type = \"\"\n",
        "  graph = Graph()\n",
        "  space_points =[]\n",
        "  for index, line in enumerate (lines):\n",
        "    text = line.strip()\n",
        "    text_splitted = text.split()\n",
        "    if (\"EOF\" in text):\n",
        "      break\n",
        "    if (\"DIMENSION\" in text):\n",
        "      for dim in text_splitted:\n",
        "        if (dim.isdigit()):\n",
        "          size = dim\n",
        "    elif (\"EDGE_WEIGHT_TYPE\" in text):\n",
        "      if (\"GEO\" in text):\n",
        "        weight_type = \"GEO\"\n",
        "      elif (\"EUC_2D\" in text):\n",
        "        weight_type = \"EUC_2D\"\n",
        "    elif (\"NODE_COORD_SECTION\" in text):\n",
        "      save_coordinate = True\n",
        "      continue\n",
        "    elif (\"EOF\" in text):\n",
        "      save_coordinate = False\n",
        "    if (save_coordinate):\n",
        "      if weight_type==\"GEO\":\n",
        "        p = Point(int(text_splitted[0]),take_integer(text_splitted[1]),take_integer(text_splitted[2]))\n",
        "      elif (weight_type==\"EUC_2D\"):\n",
        "        p = Point(int(text_splitted[0]),float(text_splitted[1]),float(text_splitted[2]))\n",
        "      space_points.append(p)\n",
        "  \n",
        "  f.close()\n",
        "  return graph,int(size),weight_type,space_points"
      ]
    },
    {
      "cell_type": "markdown",
      "source": [
        "## Functions for TSP"
      ],
      "metadata": {
        "id": "bqhe_Ojwrm9h"
      }
    },
    {
      "cell_type": "code",
      "source": [
        "# Computes weight of hamilton cycle found by the approximation algorithm\n",
        "def weight_hamilton_cycle(graph,hamilton_cycle):\n",
        "  weight = 0\n",
        "  for i in range(len(hamilton_cycle)-1):\n",
        "    edge_weight = graph.get_edge(hamilton_cycle[i],hamilton_cycle[i+1])\n",
        "    weight += edge_weight\n",
        "  return weight\n",
        "  "
      ],
      "metadata": {
        "id": "QPR-BBbYVRuM"
      },
      "execution_count": 15,
      "outputs": []
    },
    {
      "cell_type": "code",
      "source": [
        "def prim(graph, starting_vertex):\n",
        "\n",
        "    mst = defaultdict(set) # We'll save the minimum spanning tree here\n",
        "    heap = []\n",
        "    keys =[]\n",
        "    for i in range(len(graph)+1):\n",
        "      keys.append(1e6)\n",
        "    keys[int(starting_vertex)] = 0\n",
        "    #Let's now initialize our heap structure\n",
        "    for adjacent_vertex,weight in graph.get(starting_vertex):\n",
        "       # each heap node contains the edge's weight and the two incident vertices\n",
        "      heap.append((int(weight), starting_vertex, adjacent_vertex))\n",
        "    heapq.heapify(heap) \n",
        "\n",
        "    while heap: #iterates until heap is empty\n",
        "        weight, vertex, adj_vertex = heapq.heappop(heap) #extracts minimum node from the heap\n",
        "       \n",
        "        if keys[int(adj_vertex)]== 1e6 and weight < keys[int(adj_vertex)]:\n",
        "            mst[vertex].add((adj_vertex,weight))\n",
        "            keys[int(adj_vertex)] = weight\n",
        "\n",
        "            for next_vertex, weight in graph.get(adj_vertex):\n",
        "\n",
        "                if keys[int(next_vertex)]== 1e6 :\n",
        "                    heapq.heappush(heap, (int(weight), adj_vertex, next_vertex))\n",
        "                   \n",
        "\n",
        "    return mst"
      ],
      "metadata": {
        "id": "3nPpGosDlVLU"
      },
      "execution_count": 16,
      "outputs": []
    },
    {
      "cell_type": "code",
      "source": [
        "# Computes error rate of approximate solution given optimal\n",
        "def compute_error(optimal, approx_solution):\n",
        "  return (approx_solution- optimal)/optimal "
      ],
      "metadata": {
        "id": "AYSRTTqaoe30"
      },
      "execution_count": 17,
      "outputs": []
    },
    {
      "cell_type": "code",
      "source": [
        "def measure_run_time(num_iterations,input_directory,weights,algorithm,errors):\n",
        "  sum_times = 0.0\n",
        "  sizes = []\n",
        "  avg_run_times = []\n",
        "  files = []\n",
        "  for file in (os.listdir(input_directory)):\n",
        "    print(\"------------------------------------------------------------------------\")\n",
        "    file_path = f\"{input_directory}/{file}\"\n",
        "    graph,size,weight_type,space_points = read_input_graph(file_path)\n",
        "    files.append(file)\n",
        "    for i in range(len(space_points)):\n",
        "      u=space_points[i]\n",
        "      for j in range(i+1,len(space_points)):\n",
        "        v=space_points[j]\n",
        "        weight = compute_weight(weight_type,u,v)\n",
        "        graph.add_edge(u.vertex,v.vertex,weight)\n",
        "    print(f\"Reading file {file}\")\n",
        "    gc.disable()\n",
        "    for i in range(num_iterations):\n",
        "      start_time = perf_counter_ns()\n",
        "      cycle = algorithm(graph)\n",
        "      end_time = perf_counter_ns()\n",
        "      sum_times += (end_time-start_time)\n",
        "    solution = weight_hamilton_cycle(graph,cycle)\n",
        "    weights.append(solution) #weight of the hamiltonian cycle\n",
        "    optimal = get_optimal_solution(file)\n",
        "    errors.append(compute_error(optimal,solution)) # error rate\n",
        "    sizes.append(size)\n",
        "    gc.enable()\n",
        "    time = ((end_time - start_time)/num_iterations) #running time\n",
        "    avg_run_times.append(time)\n",
        "    print(f\"Total weight using {algorithm}: {solution}, in {time} ns\")\n",
        "\n",
        "  return avg_run_times,sizes,files\n",
        "\n"
      ],
      "metadata": {
        "id": "IEDBZNSGrIcL"
      },
      "execution_count": 18,
      "outputs": []
    },
    {
      "cell_type": "markdown",
      "source": [
        "# Input reading\n",
        "This section is to open one file at a time and to check whether the triangle inequality holds"
      ],
      "metadata": {
        "id": "xRjCC9-_Yqos"
      }
    },
    {
      "cell_type": "code",
      "execution_count": null,
      "metadata": {
        "id": "qi1vV02rPD2L",
        "colab": {
          "base_uri": "https://localhost:8080/"
        },
        "outputId": "0cd05d25-b179-4bdd-df7e-112064f9103f"
      },
      "outputs": [
        {
          "output_type": "stream",
          "name": "stdout",
          "text": [
            "Graph initialized!\n"
          ]
        }
      ],
      "source": [
        "graph,size,weight_type,space_points= read_input_graph('/content/tsp_dataset/eil51.tsp')\n",
        "\n",
        "for i in range(len(space_points)):\n",
        "  u=space_points[i]\n",
        "  for j in range(i+1,len(space_points)):\n",
        "    v=space_points[j]\n",
        "    weight = compute_weight(weight_type,u,v)\n",
        "    graph.add_edge(u.vertex,v.vertex,weight)\n",
        "\n",
        "print(\"Graph initialized!\")"
      ]
    },
    {
      "cell_type": "markdown",
      "source": [
        "Let's check whether our weights respect the triangle inequality"
      ],
      "metadata": {
        "id": "M_RUXZ2zvPhG"
      }
    },
    {
      "cell_type": "code",
      "source": [
        "triangle_inequality = True\n",
        "\n",
        "for i in range(len(space_points)):\n",
        "  if triangle_inequality:\n",
        "    break\n",
        "  u = space_points[i]\n",
        "  for j in range(i+1,len(space_points)):\n",
        "    if not triangle_inequality:\n",
        "      break\n",
        "    v = space_points[j]\n",
        "    weight_uv = compute_weight(weight_type,u,v)\n",
        "    for k in range(i+2,len(space_points)):\n",
        "      if (not triangle_inequality):\n",
        "        break\n",
        "      w = space_points[k]\n",
        "      weight_uw = compute_weight(weight_type,u,w)\n",
        "      weight_vw = compute_weight(weight_type,v,w)\n",
        "      if (weight_uv> (weight_uw + weight_vw)):\n",
        "        print(f\"U:{u}, V:{v}, W:{w}, {weight_uv}>{weight_uw + weight_vw}\")\n",
        "        print(\"Triangle inequality is not respected\")\n",
        "        break\n",
        "        triangle_inequality=False\n",
        "\n",
        "if (triangle_inequality):\n",
        "  print(\"Triangle inequality is respected\")"
      ],
      "metadata": {
        "colab": {
          "base_uri": "https://localhost:8080/"
        },
        "id": "wN46__cHvK_z",
        "outputId": "e8f1056e-0fc6-46f5-dbaf-b5ce263356a8"
      },
      "execution_count": null,
      "outputs": [
        {
          "output_type": "stream",
          "name": "stdout",
          "text": [
            "Triangle inequality is respected\n"
          ]
        }
      ]
    },
    {
      "cell_type": "code",
      "source": [
        "graph.V"
      ],
      "metadata": {
        "id": "Mt7vXI-Mniau",
        "colab": {
          "base_uri": "https://localhost:8080/"
        },
        "outputId": "31dfc8b6-e89b-4419-8b5a-207d1c83b0c3"
      },
      "execution_count": null,
      "outputs": [
        {
          "output_type": "execute_result",
          "data": {
            "text/plain": [
              "[1, 2, 3, 4, 5, 6, 7, 8, 9, 10, 11, 12, 13, 14, 15, 16, 17, 18, 19, 20, 21, 22]"
            ]
          },
          "metadata": {},
          "execution_count": 25
        }
      ]
    },
    {
      "cell_type": "code",
      "source": [
        "graph.E.items()"
      ],
      "metadata": {
        "id": "ptNRY0F1oJsS",
        "colab": {
          "base_uri": "https://localhost:8080/"
        },
        "outputId": "cb0f53f5-b6dc-4ccb-8105-fb229c0a90fe"
      },
      "execution_count": null,
      "outputs": [
        {
          "output_type": "execute_result",
          "data": {
            "text/plain": [
              "dict_items([((1, 2), 535), ((1, 3), 487), ((1, 4), 348), ((1, 5), 1063), ((1, 6), 716), ((1, 7), 614), ((1, 8), 112), ((1, 9), 1002), ((1, 10), 688), ((1, 11), 2228), ((1, 12), 439), ((1, 13), 439), ((1, 14), 456), ((1, 15), 633), ((1, 16), 142), ((1, 17), 351), ((1, 18), 348), ((1, 19), 646), ((1, 20), 565), ((1, 21), 565), ((1, 22), 209), ((2, 3), 141), ((2, 4), 427), ((2, 5), 1586), ((2, 6), 1247), ((2, 7), 1138), ((2, 8), 572), ((2, 9), 1465), ((2, 10), 1130), ((2, 11), 2745), ((2, 12), 965), ((2, 13), 965), ((2, 14), 990), ((2, 15), 1155), ((2, 16), 606), ((2, 17), 207), ((2, 18), 427), ((2, 19), 1122), ((2, 20), 1036), ((2, 21), 1036), ((2, 22), 416), ((3, 4), 479), ((3, 5), 1550), ((3, 6), 1180), ((3, 7), 1061), ((3, 8), 549), ((3, 9), 1358), ((3, 10), 1022), ((3, 11), 2657), ((3, 12), 893), ((3, 13), 893), ((3, 14), 933), ((3, 15), 1119), ((3, 16), 528), ((3, 17), 239), ((3, 18), 479), ((3, 19), 1023), ((3, 20), 938), ((3, 21), 938), ((3, 22), 425), ((4, 5), 1238), ((4, 6), 991), ((4, 7), 917), ((4, 8), 291), ((4, 9), 1339), ((4, 10), 1033), ((4, 11), 2513), ((4, 12), 745), ((4, 13), 745), ((4, 14), 725), ((4, 15), 823), ((4, 16), 487), ((4, 17), 240), ((4, 18), 1), ((4, 19), 983), ((4, 20), 906), ((4, 21), 906), ((4, 22), 143), ((5, 6), 482), ((5, 7), 620), ((5, 8), 1015), ((5, 9), 895), ((5, 10), 930), ((5, 11), 1415), ((5, 12), 718), ((5, 13), 718), ((5, 14), 638), ((5, 15), 432), ((5, 16), 1050), ((5, 17), 1384), ((5, 18), 1238), ((5, 19), 825), ((5, 20), 858), ((5, 21), 858), ((5, 22), 1181), ((6, 7), 143), ((6, 8), 712), ((6, 9), 516), ((6, 10), 454), ((6, 11), 1524), ((6, 12), 288), ((6, 13), 288), ((6, 14), 267), ((6, 15), 287), ((6, 16), 653), ((6, 17), 1065), ((6, 18), 991), ((6, 19), 346), ((6, 20), 377), ((6, 21), 377), ((6, 22), 889), ((7, 8), 629), ((7, 9), 480), ((7, 10), 334), ((7, 11), 1614), ((7, 12), 176), ((7, 13), 176), ((7, 14), 209), ((7, 15), 346), ((7, 16), 535), ((7, 17), 965), ((7, 18), 917), ((7, 19), 223), ((7, 20), 239), ((7, 21), 239), ((7, 22), 803), ((8, 9), 1050), ((8, 10), 752), ((8, 11), 2234), ((8, 12), 456), ((8, 13), 456), ((8, 14), 445), ((8, 15), 585), ((8, 16), 240), ((8, 17), 371), ((8, 18), 291), ((8, 19), 696), ((8, 20), 621), ((8, 21), 621), ((8, 22), 178), ((9, 10), 337), ((9, 11), 1339), ((9, 12), 614), ((9, 13), 614), ((9, 14), 684), ((9, 15), 799), ((9, 16), 881), ((9, 17), 1330), ((9, 18), 1339), ((9, 19), 357), ((9, 20), 438), ((9, 21), 438), ((9, 22), 1209), ((10, 11), 1661), ((10, 12), 376), ((10, 13), 376), ((10, 14), 478), ((10, 15), 674), ((10, 16), 558), ((10, 17), 1002), ((10, 18), 1033), ((10, 19), 112), ((10, 20), 140), ((10, 21), 140), ((10, 22), 897), ((11, 12), 1789), ((11, 13), 1789), ((11, 14), 1790), ((11, 15), 1723), ((11, 16), 2140), ((11, 17), 2578), ((11, 18), 2513), ((11, 19), 1638), ((11, 20), 1722), ((11, 21), 1722), ((11, 22), 2411), ((12, 13), 1), ((12, 14), 112), ((12, 15), 346), ((12, 16), 366), ((12, 17), 790), ((12, 18), 745), ((12, 19), 282), ((12, 20), 239), ((12, 21), 239), ((12, 22), 629), ((13, 14), 112), ((13, 15), 346), ((13, 16), 366), ((13, 17), 790), ((13, 18), 745), ((13, 19), 282), ((13, 20), 239), ((13, 21), 239), ((13, 22), 629), ((14, 15), 241), ((14, 16), 416), ((14, 17), 803), ((14, 18), 725), ((14, 19), 377), ((14, 20), 346), ((14, 21), 346), ((14, 22), 623), ((15, 16), 629), ((15, 17), 955), ((15, 18), 823), ((15, 19), 564), ((15, 20), 557), ((15, 21), 557), ((15, 22), 754), ((16, 17), 450), ((16, 18), 487), ((16, 19), 528), ((16, 20), 444), ((16, 21), 444), ((16, 22), 345), ((17, 18), 240), ((17, 19), 977), ((17, 20), 893), ((17, 21), 893), ((17, 22), 209), ((18, 19), 983), ((18, 20), 906), ((18, 21), 906), ((18, 22), 143), ((19, 20), 86), ((19, 21), 86), ((19, 22), 852), ((20, 21), 1), ((20, 22), 773), ((21, 22), 773)])"
            ]
          },
          "metadata": {},
          "execution_count": 26
        }
      ]
    },
    {
      "cell_type": "code",
      "source": [
        "graph.adjacency_list.items()"
      ],
      "metadata": {
        "id": "CWwx0iSWoi8e",
        "colab": {
          "base_uri": "https://localhost:8080/"
        },
        "outputId": "922674e8-b6d4-4102-c362-0566878000ec"
      },
      "execution_count": null,
      "outputs": [
        {
          "output_type": "execute_result",
          "data": {
            "text/plain": [
              "dict_items([(1, [(2, 535), (3, 487), (4, 348), (5, 1063), (6, 716), (7, 614), (8, 112), (9, 1002), (10, 688), (11, 2228), (12, 439), (13, 439), (14, 456), (15, 633), (16, 142), (17, 351), (18, 348), (19, 646), (20, 565), (21, 565), (22, 209)]), (2, [(1, 535), (3, 141), (4, 427), (5, 1586), (6, 1247), (7, 1138), (8, 572), (9, 1465), (10, 1130), (11, 2745), (12, 965), (13, 965), (14, 990), (15, 1155), (16, 606), (17, 207), (18, 427), (19, 1122), (20, 1036), (21, 1036), (22, 416)]), (3, [(1, 487), (2, 141), (4, 479), (5, 1550), (6, 1180), (7, 1061), (8, 549), (9, 1358), (10, 1022), (11, 2657), (12, 893), (13, 893), (14, 933), (15, 1119), (16, 528), (17, 239), (18, 479), (19, 1023), (20, 938), (21, 938), (22, 425)]), (4, [(1, 348), (2, 427), (3, 479), (5, 1238), (6, 991), (7, 917), (8, 291), (9, 1339), (10, 1033), (11, 2513), (12, 745), (13, 745), (14, 725), (15, 823), (16, 487), (17, 240), (18, 1), (19, 983), (20, 906), (21, 906), (22, 143)]), (5, [(1, 1063), (2, 1586), (3, 1550), (4, 1238), (6, 482), (7, 620), (8, 1015), (9, 895), (10, 930), (11, 1415), (12, 718), (13, 718), (14, 638), (15, 432), (16, 1050), (17, 1384), (18, 1238), (19, 825), (20, 858), (21, 858), (22, 1181)]), (6, [(1, 716), (2, 1247), (3, 1180), (4, 991), (5, 482), (7, 143), (8, 712), (9, 516), (10, 454), (11, 1524), (12, 288), (13, 288), (14, 267), (15, 287), (16, 653), (17, 1065), (18, 991), (19, 346), (20, 377), (21, 377), (22, 889)]), (7, [(1, 614), (2, 1138), (3, 1061), (4, 917), (5, 620), (6, 143), (8, 629), (9, 480), (10, 334), (11, 1614), (12, 176), (13, 176), (14, 209), (15, 346), (16, 535), (17, 965), (18, 917), (19, 223), (20, 239), (21, 239), (22, 803)]), (8, [(1, 112), (2, 572), (3, 549), (4, 291), (5, 1015), (6, 712), (7, 629), (9, 1050), (10, 752), (11, 2234), (12, 456), (13, 456), (14, 445), (15, 585), (16, 240), (17, 371), (18, 291), (19, 696), (20, 621), (21, 621), (22, 178)]), (9, [(1, 1002), (2, 1465), (3, 1358), (4, 1339), (5, 895), (6, 516), (7, 480), (8, 1050), (10, 337), (11, 1339), (12, 614), (13, 614), (14, 684), (15, 799), (16, 881), (17, 1330), (18, 1339), (19, 357), (20, 438), (21, 438), (22, 1209)]), (10, [(1, 688), (2, 1130), (3, 1022), (4, 1033), (5, 930), (6, 454), (7, 334), (8, 752), (9, 337), (11, 1661), (12, 376), (13, 376), (14, 478), (15, 674), (16, 558), (17, 1002), (18, 1033), (19, 112), (20, 140), (21, 140), (22, 897)]), (11, [(1, 2228), (2, 2745), (3, 2657), (4, 2513), (5, 1415), (6, 1524), (7, 1614), (8, 2234), (9, 1339), (10, 1661), (12, 1789), (13, 1789), (14, 1790), (15, 1723), (16, 2140), (17, 2578), (18, 2513), (19, 1638), (20, 1722), (21, 1722), (22, 2411)]), (12, [(1, 439), (2, 965), (3, 893), (4, 745), (5, 718), (6, 288), (7, 176), (8, 456), (9, 614), (10, 376), (11, 1789), (13, 1), (14, 112), (15, 346), (16, 366), (17, 790), (18, 745), (19, 282), (20, 239), (21, 239), (22, 629)]), (13, [(1, 439), (2, 965), (3, 893), (4, 745), (5, 718), (6, 288), (7, 176), (8, 456), (9, 614), (10, 376), (11, 1789), (12, 1), (14, 112), (15, 346), (16, 366), (17, 790), (18, 745), (19, 282), (20, 239), (21, 239), (22, 629)]), (14, [(1, 456), (2, 990), (3, 933), (4, 725), (5, 638), (6, 267), (7, 209), (8, 445), (9, 684), (10, 478), (11, 1790), (12, 112), (13, 112), (15, 241), (16, 416), (17, 803), (18, 725), (19, 377), (20, 346), (21, 346), (22, 623)]), (15, [(1, 633), (2, 1155), (3, 1119), (4, 823), (5, 432), (6, 287), (7, 346), (8, 585), (9, 799), (10, 674), (11, 1723), (12, 346), (13, 346), (14, 241), (16, 629), (17, 955), (18, 823), (19, 564), (20, 557), (21, 557), (22, 754)]), (16, [(1, 142), (2, 606), (3, 528), (4, 487), (5, 1050), (6, 653), (7, 535), (8, 240), (9, 881), (10, 558), (11, 2140), (12, 366), (13, 366), (14, 416), (15, 629), (17, 450), (18, 487), (19, 528), (20, 444), (21, 444), (22, 345)]), (17, [(1, 351), (2, 207), (3, 239), (4, 240), (5, 1384), (6, 1065), (7, 965), (8, 371), (9, 1330), (10, 1002), (11, 2578), (12, 790), (13, 790), (14, 803), (15, 955), (16, 450), (18, 240), (19, 977), (20, 893), (21, 893), (22, 209)]), (18, [(1, 348), (2, 427), (3, 479), (4, 1), (5, 1238), (6, 991), (7, 917), (8, 291), (9, 1339), (10, 1033), (11, 2513), (12, 745), (13, 745), (14, 725), (15, 823), (16, 487), (17, 240), (19, 983), (20, 906), (21, 906), (22, 143)]), (19, [(1, 646), (2, 1122), (3, 1023), (4, 983), (5, 825), (6, 346), (7, 223), (8, 696), (9, 357), (10, 112), (11, 1638), (12, 282), (13, 282), (14, 377), (15, 564), (16, 528), (17, 977), (18, 983), (20, 86), (21, 86), (22, 852)]), (20, [(1, 565), (2, 1036), (3, 938), (4, 906), (5, 858), (6, 377), (7, 239), (8, 621), (9, 438), (10, 140), (11, 1722), (12, 239), (13, 239), (14, 346), (15, 557), (16, 444), (17, 893), (18, 906), (19, 86), (21, 1), (22, 773)]), (21, [(1, 565), (2, 1036), (3, 938), (4, 906), (5, 858), (6, 377), (7, 239), (8, 621), (9, 438), (10, 140), (11, 1722), (12, 239), (13, 239), (14, 346), (15, 557), (16, 444), (17, 893), (18, 906), (19, 86), (20, 1), (22, 773)]), (22, [(1, 209), (2, 416), (3, 425), (4, 143), (5, 1181), (6, 889), (7, 803), (8, 178), (9, 1209), (10, 897), (11, 2411), (12, 629), (13, 629), (14, 623), (15, 754), (16, 345), (17, 209), (18, 143), (19, 852), (20, 773), (21, 773)])])"
            ]
          },
          "metadata": {},
          "execution_count": 30
        }
      ]
    },
    {
      "cell_type": "markdown",
      "source": [
        "# 2-Approximation Algorithm\n"
      ],
      "metadata": {
        "id": "n96E8ha1-igR"
      }
    },
    {
      "cell_type": "code",
      "source": [
        "def preorder(visited_nodes, v, mst):\n",
        "  visited_nodes.append(v)\n",
        "  if (v in mst.keys()):  # if v is internal to the MST i.e. it's not a leaf\n",
        "    for u in mst.get(v):\n",
        "      preorder(visited_nodes,u[0],mst)\n",
        "  return visited_nodes"
      ],
      "metadata": {
        "id": "vKLmkqnX-nDF"
      },
      "execution_count": 19,
      "outputs": []
    },
    {
      "cell_type": "code",
      "source": [
        "def approx_metric_tsp(graph):\n",
        "  root = graph.V[0]\n",
        "  mst = prim(graph.adjacency_list,root)\n",
        "  preordered_nodes = []\n",
        "  visited_nodes = preorder(preordered_nodes,root,mst)\n",
        "  visited_nodes.append(visited_nodes[0])\n",
        "  return visited_nodes #hamiltonian cycle"
      ],
      "metadata": {
        "id": "DnejqEdzCqKw"
      },
      "execution_count": 20,
      "outputs": []
    },
    {
      "cell_type": "code",
      "source": [
        "#cycle_2approx = approx_metric_tsp(graph)\n",
        "#weight_2approx= weight_hamilton_cycle(graph,cycle_2approx)\n",
        "#print(f\"Hamiltonian cycle found: \\n{hamilton_cycle}\")\n",
        "#print(f\"Weight: {weight_2approx}\")"
      ],
      "metadata": {
        "id": "GrGDRgBZDL2G"
      },
      "execution_count": 21,
      "outputs": []
    },
    {
      "cell_type": "markdown",
      "source": [
        "# Nearest Neighbor"
      ],
      "metadata": {
        "id": "bD4nEOdvkZwn"
      }
    },
    {
      "cell_type": "markdown",
      "source": [
        "\n",
        "\n",
        "```\n",
        "# 1. Initialization: start from the single-node path 0\n",
        "2. Selection: let (v0, . . . , vk ) be the current path. Find the\n",
        "vertex vk+1 not in the path with minimimun distance from vk ;\n",
        "3. Insertion: insert vk+1 immediately after vk ;\n",
        "4. repeat from (2) until all vertices are inserted in the path.\n",
        "```\n",
        "O(logn) approximation\n"
      ],
      "metadata": {
        "id": "0ORNAzfnoEqS"
      }
    },
    {
      "cell_type": "code",
      "source": [
        "def nn_tsp(graph):\n",
        "    unvisited =graph.V.copy()\n",
        "    visited = [unvisited[0]]\n",
        "    ad=[] # list in which we store the adjacency list of current node containing only the unvisited nodes\n",
        "    while(len(visited) != len(unvisited)):\n",
        "        current_node = visited [-1]\n",
        "        ad = [item for item in graph.adjacency_list.get(current_node) if item[0] not in visited] \n",
        "        next_node = min(ad,key=lambda t:t[1])[0] #take the adjacent node with minimum distance\n",
        "        visited.append(next_node)\n",
        "    visited.append(graph.V[0]) #insert the first node at the end of the cycle\n",
        "    return visited "
      ],
      "metadata": {
        "id": "00qfZyJB-WuT"
      },
      "execution_count": 22,
      "outputs": []
    },
    {
      "cell_type": "code",
      "source": [
        "#cycle_nn=nn_tsp(graph)\n",
        "#print(cycle_nn)"
      ],
      "metadata": {
        "id": "EXbYsdMJCXPE"
      },
      "execution_count": 23,
      "outputs": []
    },
    {
      "cell_type": "code",
      "source": [
        "#weight_nn =weight_hamilton_cycle(graph,cycle_nn)\n",
        "#weight_nn"
      ],
      "metadata": {
        "id": "4VjOSCt_ktEc"
      },
      "execution_count": 24,
      "outputs": []
    },
    {
      "cell_type": "markdown",
      "source": [
        "# Random Insertion\n",
        "\n",
        "\n",
        "\n",
        "\n"
      ],
      "metadata": {
        "id": "T2j4GFBNbZF3"
      }
    },
    {
      "cell_type": "markdown",
      "source": [
        "```\n",
        "1. Initialization: start from the single-node path 0. Find the\n",
        "vertex j that minimize w (0, j) and build the partial circuit\n",
        "(0, j);\n",
        "2. Selection: randomly select a vertex k not in the circuit;\n",
        "3. Insertion: find the edge {i, j} of the partial circuit that\n",
        "minimize w (i, k) + w (k, j) − w (i, j) and insert k between i\n",
        "and j;\n",
        "4. repeat from (2) until all vertices are inserted in the path\n",
        "```\n",
        "O(logn) approximation"
      ],
      "metadata": {
        "id": "qrPFWyAlqC9z"
      }
    },
    {
      "cell_type": "code",
      "source": [
        "def random_insertion(graph):\n",
        "\n",
        "  # 1. Initialization\n",
        "  circuit =[]\n",
        "  unvisited =graph.V.copy()\n",
        "  starting_node = unvisited[0] #node 0\n",
        "  # find the vertex that minimizes w(0,j): we look through the weights of the \n",
        "  # the starting node's adjacency list, and take the vertex j that corresponds to the  min weight\n",
        "  j = min(graph.adjacency_list.get(starting_node),key=lambda t:t[1])[0] #returns first element of tuple (vertex,weight)\n",
        "  # build partial circuit (0,j)\n",
        "  circuit.append(starting_node)\n",
        "  circuit.append(j)\n",
        "  unvisited.remove((starting_node))\n",
        "  unvisited.remove((j))\n",
        "\n",
        "  # 2. Selection\n",
        "  while(len(unvisited)>0):\n",
        "    k = (random.choice(unvisited))  # randomly select a vertex k not in the circuit\n",
        "    # 3. Insertion\n",
        "    # find the edge {i, j} of the partial circuit that minimize w (i, k) + w (k, j) − w (i, j) \n",
        "    min_triangular = (-1,-1,1e6)\n",
        "    for x in range(len(circuit)-1):\n",
        "      i = circuit[x]\n",
        "      j = circuit[x+1]\n",
        "      w1 = graph.get_edge(i,k)\n",
        "      w2 = graph.get_edge(k,j)\n",
        "      w3 = graph.get_edge(i,j)\n",
        "\n",
        "      if ((w1+w2-w3)<min_triangular[2]): # look for minimum inequality\n",
        "        min_triangular = (x,x+1,(w1+w2-w3))\n",
        "\n",
        "    x = min_triangular[0] #index of i\n",
        "    y = min_triangular[1] #index of j\n",
        "    # insert k between i and j\n",
        "    circuit.insert(x+1,k)\n",
        "    unvisited.remove(k)\n",
        "  circuit.append(starting_node)\n",
        "  return circuit\n"
      ],
      "metadata": {
        "id": "8XUIStLzbhdD"
      },
      "execution_count": 25,
      "outputs": []
    },
    {
      "cell_type": "code",
      "source": [
        "#cycle_random_insertion = random_insertion(graph)\n",
        "#cycle_random_insertion"
      ],
      "metadata": {
        "id": "7sAsf-NUgBQe"
      },
      "execution_count": 26,
      "outputs": []
    },
    {
      "cell_type": "code",
      "source": [
        "#weight_random_insertion = weight_hamilton_cycle(graph,cycle_random_insertion)\n",
        "#weight_random_insertion"
      ],
      "metadata": {
        "id": "4MTggMldgCg_"
      },
      "execution_count": 27,
      "outputs": []
    },
    {
      "cell_type": "markdown",
      "source": [
        "# Metrics\n",
        "In this section we compute the algorithms' running times and compare the results."
      ],
      "metadata": {
        "id": "LOoYIWkUor4E"
      }
    },
    {
      "cell_type": "markdown",
      "source": [
        "## Performance Computations"
      ],
      "metadata": {
        "id": "ORq7yDmksjwR"
      }
    },
    {
      "cell_type": "markdown",
      "source": [
        "We run each algorithm for 1000 iterations on each graph, and we store its average running times in nanoseconds, its error rate and the solution found. "
      ],
      "metadata": {
        "id": "ErYR8wUPIAE5"
      }
    },
    {
      "cell_type": "code",
      "source": [
        "num_iterations = 1000\n",
        "input_directory = '/content/tsp_dataset'\n",
        "weights_2approx =[]\n",
        "errors_2approx = []\n",
        "weights_nn = []\n",
        "errors_nn =[]\n",
        "weights_rand_ins = []\n",
        "errors_rand_ins =[]\n"
      ],
      "metadata": {
        "id": "q1pavJwitf2H"
      },
      "execution_count": null,
      "outputs": []
    },
    {
      "cell_type": "markdown",
      "source": [
        "### 2-approx"
      ],
      "metadata": {
        "id": "oBs3t6iJvCeW"
      }
    },
    {
      "cell_type": "markdown",
      "source": [
        "Runtime measures for 2-approx. algorithm:"
      ],
      "metadata": {
        "id": "MQWwUqXXukPJ"
      }
    },
    {
      "cell_type": "code",
      "source": [
        "avg_runtimes_2approx,sizes,files = measure_run_time(num_iterations,input_directory,weights_2approx,approx_metric_tsp,errors_2approx)"
      ],
      "metadata": {
        "colab": {
          "base_uri": "https://localhost:8080/"
        },
        "outputId": "8f9495cc-3713-4965-8e5f-04483254882b",
        "id": "FrLhQGZoFG6p"
      },
      "execution_count": null,
      "outputs": [
        {
          "output_type": "stream",
          "name": "stdout",
          "text": [
            "------------------------------------------------------------------------\n",
            "Reading file berlin52.tsp\n",
            "Total weight using <function approx_metric_tsp at 0x7f95c5de4c20>: 10341, in 2684.67 ns\n",
            "------------------------------------------------------------------------\n",
            "Reading file burma14.tsp\n",
            "Total weight using <function approx_metric_tsp at 0x7f95c5de4c20>: 3835, in 156.514 ns\n",
            "------------------------------------------------------------------------\n",
            "Reading file ch150.tsp\n",
            "Total weight using <function approx_metric_tsp at 0x7f95c5de4c20>: 8783, in 24108.37 ns\n",
            "------------------------------------------------------------------------\n",
            "Reading file d493.tsp\n",
            "Total weight using <function approx_metric_tsp at 0x7f95c5de4c20>: 46227, in 445816.417 ns\n",
            "------------------------------------------------------------------------\n",
            "Reading file dsj1000.tsp\n",
            "Total weight using <function approx_metric_tsp at 0x7f95c5de4c20>: 25734567, in 2938410.894 ns\n",
            "------------------------------------------------------------------------\n",
            "Reading file eil51.tsp\n",
            "Total weight using <function approx_metric_tsp at 0x7f95c5de4c20>: 604, in 2113.928 ns\n",
            "------------------------------------------------------------------------\n",
            "Reading file gr202.tsp\n",
            "Total weight using <function approx_metric_tsp at 0x7f95c5de4c20>: 52334, in 48458.958 ns\n",
            "------------------------------------------------------------------------\n",
            "Reading file gr229.tsp\n",
            "Total weight using <function approx_metric_tsp at 0x7f95c5de4c20>: 176287, in 72138.427 ns\n",
            "------------------------------------------------------------------------\n",
            "Reading file kroA100.tsp\n",
            "Total weight using <function approx_metric_tsp at 0x7f95c5de4c20>: 29715, in 10124.154 ns\n",
            "------------------------------------------------------------------------\n",
            "Reading file kroD100.tsp\n",
            "Total weight using <function approx_metric_tsp at 0x7f95c5de4c20>: 27418, in 9383.57 ns\n",
            "------------------------------------------------------------------------\n",
            "Reading file pcb442.tsp\n",
            "Total weight using <function approx_metric_tsp at 0x7f95c5de4c20>: 76723, in 363372.583 ns\n",
            "------------------------------------------------------------------------\n",
            "Reading file ulysses16.tsp\n",
            "Total weight using <function approx_metric_tsp at 0x7f95c5de4c20>: 7520, in 290.551 ns\n",
            "------------------------------------------------------------------------\n",
            "Reading file ulysses22.tsp\n",
            "Total weight using <function approx_metric_tsp at 0x7f95c5de4c20>: 8148, in 344.582 ns\n"
          ]
        }
      ]
    },
    {
      "cell_type": "code",
      "source": [
        "avg_runtimes_2approx"
      ],
      "metadata": {
        "colab": {
          "base_uri": "https://localhost:8080/"
        },
        "id": "jqathKcQCO-4",
        "outputId": "070443d9-6b06-4775-870d-78b1804f78df"
      },
      "execution_count": null,
      "outputs": [
        {
          "output_type": "execute_result",
          "data": {
            "text/plain": [
              "[2684.67,\n",
              " 156.514,\n",
              " 24108.37,\n",
              " 445816.417,\n",
              " 2938410.894,\n",
              " 2113.928,\n",
              " 48458.958,\n",
              " 72138.427,\n",
              " 10124.154,\n",
              " 9383.57,\n",
              " 363372.583,\n",
              " 290.551,\n",
              " 344.582]"
            ]
          },
          "metadata": {},
          "execution_count": 99
        }
      ]
    },
    {
      "cell_type": "code",
      "source": [
        "weights_2approx"
      ],
      "metadata": {
        "colab": {
          "base_uri": "https://localhost:8080/"
        },
        "id": "AwGVHQe6CRP4",
        "outputId": "70b583b0-7632-4e16-ec19-1ef74950705c"
      },
      "execution_count": null,
      "outputs": [
        {
          "output_type": "execute_result",
          "data": {
            "text/plain": [
              "[10341,\n",
              " 3835,\n",
              " 8783,\n",
              " 46227,\n",
              " 25734567,\n",
              " 604,\n",
              " 52334,\n",
              " 176287,\n",
              " 29715,\n",
              " 27418,\n",
              " 76723,\n",
              " 7520,\n",
              " 8148]"
            ]
          },
          "metadata": {},
          "execution_count": 100
        }
      ]
    },
    {
      "cell_type": "code",
      "source": [
        "errors_2approx"
      ],
      "metadata": {
        "colab": {
          "base_uri": "https://localhost:8080/"
        },
        "id": "t3RnOfQTCT9B",
        "outputId": "1fcbc6ae-9cc7-4005-e349-9d01a7052bc8"
      },
      "execution_count": null,
      "outputs": [
        {
          "output_type": "execute_result",
          "data": {
            "text/plain": [
              "[0.3711217183770883,\n",
              " 0.154077640686127,\n",
              " 0.34543504901960786,\n",
              " 0.32069596023084396,\n",
              " 0.37915312410368274,\n",
              " 0.41784037558685444,\n",
              " 0.3031374501992032,\n",
              " 0.3096907921130444,\n",
              " 0.3962503524104877,\n",
              " 0.2875927491312107,\n",
              " 0.5109496238528497,\n",
              " 0.09636973319725907,\n",
              " 0.1618422928846428]"
            ]
          },
          "metadata": {},
          "execution_count": 101
        }
      ]
    },
    {
      "cell_type": "markdown",
      "source": [
        "### Nearest Neighbor"
      ],
      "metadata": {
        "id": "Qb-tcqTIvFnL"
      }
    },
    {
      "cell_type": "markdown",
      "source": [
        "Runtime measures for Nearest Neighbor heuristics:"
      ],
      "metadata": {
        "id": "RS6qmvYouoMN"
      }
    },
    {
      "cell_type": "code",
      "source": [
        "avg_runtimes_nn, sizes,files = measure_run_time(num_iterations,input_directory,weights_nn,nn_tsp,errors_nn)"
      ],
      "metadata": {
        "colab": {
          "base_uri": "https://localhost:8080/"
        },
        "id": "EvcRDI9NuWn_",
        "outputId": "8274c412-2d90-4f32-e4c1-2441572bd9ed"
      },
      "execution_count": null,
      "outputs": [
        {
          "output_type": "stream",
          "name": "stdout",
          "text": [
            "------------------------------------------------------------------------\n",
            "Reading file berlin52.tsp\n",
            "Total weight using <function nn_tsp at 0x7f9d37c19320>: 8962, in 2025.707 ns\n",
            "------------------------------------------------------------------------\n",
            "Reading file burma14.tsp\n",
            "Total weight using <function nn_tsp at 0x7f9d37c19320>: 4694, in 84.492 ns\n",
            "------------------------------------------------------------------------\n",
            "Reading file ch150.tsp\n",
            "Total weight using <function nn_tsp at 0x7f9d37c19320>: 8259, in 23243.461 ns\n",
            "------------------------------------------------------------------------\n",
            "Reading file d493.tsp\n",
            "Total weight using <function nn_tsp at 0x7f9d37c19320>: 43244, in 639248.013 ns\n",
            "------------------------------------------------------------------------\n",
            "Reading file dsj1000.tsp\n",
            "Total weight using <function nn_tsp at 0x7f9d37c19320>: 24630468, in 6042081.878 ns\n",
            "------------------------------------------------------------------------\n",
            "Reading file eil51.tsp\n",
            "Total weight using <function nn_tsp at 0x7f9d37c19320>: 497, in 1010.894 ns\n",
            "------------------------------------------------------------------------\n",
            "Reading file gr202.tsp\n",
            "Total weight using <function nn_tsp at 0x7f9d37c19320>: 52774, in 53630.489 ns\n",
            "------------------------------------------------------------------------\n",
            "Reading file gr229.tsp\n",
            "Total weight using <function nn_tsp at 0x7f9d37c19320>: 168661, in 68024.444 ns\n",
            "------------------------------------------------------------------------\n",
            "Reading file kroA100.tsp\n",
            "Total weight using <function nn_tsp at 0x7f9d37c19320>: 27772, in 7434.701 ns\n",
            "------------------------------------------------------------------------\n",
            "Reading file kroD100.tsp\n",
            "Total weight using <function nn_tsp at 0x7f9d37c19320>: 26906, in 6859.419 ns\n",
            "------------------------------------------------------------------------\n",
            "Reading file pcb442.tsp\n",
            "Total weight using <function nn_tsp at 0x7f9d37c19320>: 61926, in 485099.17 ns\n",
            "------------------------------------------------------------------------\n",
            "Reading file ulysses16.tsp\n",
            "Total weight using <function nn_tsp at 0x7f9d37c19320>: 9465, in 62.054 ns\n",
            "------------------------------------------------------------------------\n",
            "Reading file ulysses22.tsp\n",
            "Total weight using <function nn_tsp at 0x7f9d37c19320>: 8056, in 125.523 ns\n"
          ]
        }
      ]
    },
    {
      "cell_type": "code",
      "source": [
        "weights_nn"
      ],
      "metadata": {
        "colab": {
          "base_uri": "https://localhost:8080/"
        },
        "id": "0deFprR1dkbX",
        "outputId": "70b4a5b8-05e3-427c-d1d7-e04b8b98fd01"
      },
      "execution_count": null,
      "outputs": [
        {
          "output_type": "execute_result",
          "data": {
            "text/plain": [
              "[8962,\n",
              " 4694,\n",
              " 8259,\n",
              " 43244,\n",
              " 24630468,\n",
              " 497,\n",
              " 52774,\n",
              " 168661,\n",
              " 27772,\n",
              " 26906,\n",
              " 61926,\n",
              " 9465,\n",
              " 8056]"
            ]
          },
          "metadata": {},
          "execution_count": 48
        }
      ]
    },
    {
      "cell_type": "code",
      "source": [
        "avg_runtimes_nn"
      ],
      "metadata": {
        "colab": {
          "base_uri": "https://localhost:8080/"
        },
        "id": "5N929Tjodoqa",
        "outputId": "bcc10bae-e46b-44f3-ff5c-039021eaac46"
      },
      "execution_count": null,
      "outputs": [
        {
          "output_type": "execute_result",
          "data": {
            "text/plain": [
              "[2025.707,\n",
              " 84.492,\n",
              " 23243.461,\n",
              " 639248.013,\n",
              " 6042081.878,\n",
              " 1010.894,\n",
              " 53630.489,\n",
              " 68024.444,\n",
              " 7434.701,\n",
              " 6859.419,\n",
              " 485099.17,\n",
              " 62.054,\n",
              " 125.523]"
            ]
          },
          "metadata": {},
          "execution_count": 49
        }
      ]
    },
    {
      "cell_type": "code",
      "source": [
        "errors_nn"
      ],
      "metadata": {
        "colab": {
          "base_uri": "https://localhost:8080/"
        },
        "id": "3WfZpSpPdsCf",
        "outputId": "d7642538-65d7-49ac-be0e-d78f2ffa9e21"
      },
      "execution_count": null,
      "outputs": [
        {
          "output_type": "execute_result",
          "data": {
            "text/plain": [
              "[0.18827897109520023,\n",
              " 0.41257899488414085,\n",
              " 0.26516544117647056,\n",
              " 0.23547225872807268,\n",
              " 0.31998284215684636,\n",
              " 0.16666666666666666,\n",
              " 0.31409362549800796,\n",
              " 0.25303487318167633,\n",
              " 0.3049525420543182,\n",
              " 0.26354841739457124,\n",
              " 0.2195438969632518,\n",
              " 0.3799387665840502,\n",
              " 0.14872379865963212]"
            ]
          },
          "metadata": {},
          "execution_count": 50
        }
      ]
    },
    {
      "cell_type": "markdown",
      "source": [
        "### Random Insertion"
      ],
      "metadata": {
        "id": "NmGcU-7TvI12"
      }
    },
    {
      "cell_type": "markdown",
      "source": [
        "Runtime measures for Random Insertion:"
      ],
      "metadata": {
        "id": "C4jwZQdEuqqP"
      }
    },
    {
      "cell_type": "code",
      "source": [
        "avg_runtimes_rand_ins, sizes,files = measure_run_time(num_iterations,input_directory,weights_rand_ins,random_insertion,errors_rand_ins)"
      ],
      "metadata": {
        "colab": {
          "base_uri": "https://localhost:8080/"
        },
        "outputId": "f076e762-6702-4da5-cbe3-4f7c351a12e7",
        "id": "hJjHF5wpFS2o"
      },
      "execution_count": null,
      "outputs": [
        {
          "output_type": "stream",
          "name": "stdout",
          "text": [
            "------------------------------------------------------------------------\n",
            "Reading file berlin52.tsp\n",
            "Total weight using <function random_insertion at 0x7f95c5de4440>: 7744, in 1735.297 ns\n",
            "------------------------------------------------------------------------\n",
            "Reading file burma14.tsp\n",
            "Total weight using <function random_insertion at 0x7f95c5de4440>: 3683, in 135.281 ns\n",
            "------------------------------------------------------------------------\n",
            "Reading file ch150.tsp\n",
            "Total weight using <function random_insertion at 0x7f95c5de4440>: 7065, in 16369.733 ns\n",
            "------------------------------------------------------------------------\n",
            "Reading file d493.tsp\n",
            "Total weight using <function random_insertion at 0x7f95c5de4440>: 37899, in 220189.918 ns\n",
            "------------------------------------------------------------------------\n",
            "Reading file dsj1000.tsp\n",
            "Total weight using <function random_insertion at 0x7f95c5de4440>: 20838071, in 1041993.537 ns\n",
            "------------------------------------------------------------------------\n",
            "Reading file eil51.tsp\n",
            "Total weight using <function random_insertion at 0x7f95c5de4440>: 448, in 1631.094 ns\n",
            "------------------------------------------------------------------------\n",
            "Reading file gr202.tsp\n",
            "Total weight using <function random_insertion at 0x7f95c5de4440>: 42890, in 30972.018 ns\n",
            "------------------------------------------------------------------------\n",
            "Reading file gr229.tsp\n",
            "Total weight using <function random_insertion at 0x7f95c5de4440>: 148748, in 41322.109 ns\n",
            "------------------------------------------------------------------------\n",
            "Reading file kroA100.tsp\n",
            "Total weight using <function random_insertion at 0x7f95c5de4440>: 21854, in 7232.309 ns\n",
            "------------------------------------------------------------------------\n",
            "Reading file kroD100.tsp\n",
            "Total weight using <function random_insertion at 0x7f95c5de4440>: 22246, in 6893.036 ns\n",
            "------------------------------------------------------------------------\n",
            "Reading file pcb442.tsp\n",
            "Total weight using <function random_insertion at 0x7f95c5de4440>: 57394, in 175428.627 ns\n",
            "------------------------------------------------------------------------\n",
            "Reading file ulysses16.tsp\n",
            "Total weight using <function random_insertion at 0x7f95c5de4440>: 7103, in 164.434 ns\n",
            "------------------------------------------------------------------------\n",
            "Reading file ulysses22.tsp\n",
            "Total weight using <function random_insertion at 0x7f95c5de4440>: 7416, in 305.635 ns\n"
          ]
        }
      ]
    },
    {
      "cell_type": "code",
      "source": [
        "avg_runtimes_rand_ins"
      ],
      "metadata": {
        "colab": {
          "base_uri": "https://localhost:8080/"
        },
        "id": "PKWRDk2YCYtI",
        "outputId": "9f11270f-b2e2-4471-d55a-18b6b6a2992f"
      },
      "execution_count": null,
      "outputs": [
        {
          "output_type": "execute_result",
          "data": {
            "text/plain": [
              "[1735.297,\n",
              " 135.281,\n",
              " 16369.733,\n",
              " 220189.918,\n",
              " 1041993.537,\n",
              " 1631.094,\n",
              " 30972.018,\n",
              " 41322.109,\n",
              " 7232.309,\n",
              " 6893.036,\n",
              " 175428.627,\n",
              " 164.434,\n",
              " 305.635]"
            ]
          },
          "metadata": {},
          "execution_count": 102
        }
      ]
    },
    {
      "cell_type": "code",
      "source": [
        "weights_rand_ins"
      ],
      "metadata": {
        "colab": {
          "base_uri": "https://localhost:8080/"
        },
        "id": "_mAynw0ICbvD",
        "outputId": "e32fed93-fb5b-4b3a-94ad-d751c0eb8613"
      },
      "execution_count": null,
      "outputs": [
        {
          "output_type": "execute_result",
          "data": {
            "text/plain": [
              "[7744,\n",
              " 3683,\n",
              " 7065,\n",
              " 37899,\n",
              " 20838071,\n",
              " 448,\n",
              " 42890,\n",
              " 148748,\n",
              " 21854,\n",
              " 22246,\n",
              " 57394,\n",
              " 7103,\n",
              " 7416]"
            ]
          },
          "metadata": {},
          "execution_count": 103
        }
      ]
    },
    {
      "cell_type": "code",
      "source": [
        "errors_rand_ins"
      ],
      "metadata": {
        "colab": {
          "base_uri": "https://localhost:8080/"
        },
        "id": "oBlKIII0CeTd",
        "outputId": "33eaddac-faab-4b63-aef3-b186c5e9b1c1"
      },
      "execution_count": null,
      "outputs": [
        {
          "output_type": "execute_result",
          "data": {
            "text/plain": [
              "[0.026783346592415803,\n",
              " 0.10833584110743304,\n",
              " 0.0822610294117647,\n",
              " 0.08276669904576882,\n",
              " 0.11674273439084297,\n",
              " 0.051643192488262914,\n",
              " 0.06797808764940239,\n",
              " 0.10509502087636143,\n",
              " 0.026877173198007705,\n",
              " 0.044707429322813935,\n",
              " 0.13029264642167868,\n",
              " 0.03557369878991107,\n",
              " 0.05746470839868815]"
            ]
          },
          "metadata": {},
          "execution_count": 104
        }
      ]
    },
    {
      "cell_type": "markdown",
      "source": [
        "##  Importing outputs\n",
        "We use this section after having saved our performance results into several output files. We get the values from the files so not to run the algorithms again every time."
      ],
      "metadata": {
        "id": "BpFmErI7kh7D"
      }
    },
    {
      "cell_type": "code",
      "source": [
        "avg_runtimes_2approx = read_input_data('/content/average_time_2app.txt')\n",
        "avg_runtimes_2approx"
      ],
      "metadata": {
        "colab": {
          "base_uri": "https://localhost:8080/"
        },
        "id": "pAwAM6lo6x1m",
        "outputId": "c7301244-a228-4756-91f3-41e721a9bbe1"
      },
      "execution_count": 31,
      "outputs": [
        {
          "output_type": "execute_result",
          "data": {
            "text/plain": [
              "[2684.67,\n",
              " 156.514,\n",
              " 24108.37,\n",
              " 445816.417,\n",
              " 2938410.894,\n",
              " 2113.928,\n",
              " 48458.958,\n",
              " 72138.427,\n",
              " 10124.154,\n",
              " 9383.57,\n",
              " 363372.583,\n",
              " 290.551,\n",
              " 344.582]"
            ]
          },
          "metadata": {},
          "execution_count": 31
        }
      ]
    },
    {
      "cell_type": "code",
      "source": [
        "errors_2approx = read_input_data('/content/errors_2app.txt')\n",
        "errors_2approx"
      ],
      "metadata": {
        "colab": {
          "base_uri": "https://localhost:8080/"
        },
        "id": "rafo6znD69wH",
        "outputId": "eb6ceb22-2a4d-42ca-d1a0-1fef36cee59b"
      },
      "execution_count": 32,
      "outputs": [
        {
          "output_type": "execute_result",
          "data": {
            "text/plain": [
              "[0.3711217183770883,\n",
              " 0.154077640686127,\n",
              " 0.34543504901960786,\n",
              " 0.32069596023084396,\n",
              " 0.37915312410368274,\n",
              " 0.41784037558685444,\n",
              " 0.3031374501992032,\n",
              " 0.3096907921130444,\n",
              " 0.3962503524104877,\n",
              " 0.2875927491312107,\n",
              " 0.5109496238528497,\n",
              " 0.09636973319725907,\n",
              " 0.1618422928846428]"
            ]
          },
          "metadata": {},
          "execution_count": 32
        }
      ]
    },
    {
      "cell_type": "code",
      "source": [
        "weights_2approx = read_input_data('/content/weights_2app.txt')\n",
        "weights_2approx"
      ],
      "metadata": {
        "colab": {
          "base_uri": "https://localhost:8080/"
        },
        "id": "ZQKKQBBi7Ept",
        "outputId": "d75d5fe7-2418-4982-c981-6b9c0fc8b028"
      },
      "execution_count": 33,
      "outputs": [
        {
          "output_type": "execute_result",
          "data": {
            "text/plain": [
              "[10341.0,\n",
              " 3835.0,\n",
              " 8783.0,\n",
              " 46227.0,\n",
              " 25734567.0,\n",
              " 604.0,\n",
              " 52334.0,\n",
              " 176287.0,\n",
              " 29715.0,\n",
              " 27418.0,\n",
              " 76723.0,\n",
              " 7520.0,\n",
              " 8148.0]"
            ]
          },
          "metadata": {},
          "execution_count": 33
        }
      ]
    },
    {
      "cell_type": "code",
      "source": [
        "sizes = read_sizes('/content/sizes.txt')\n",
        "sizes"
      ],
      "metadata": {
        "colab": {
          "base_uri": "https://localhost:8080/"
        },
        "id": "fD_aGbV360wD",
        "outputId": "72215797-c9fd-4922-c3c6-0325235e348c"
      },
      "execution_count": 34,
      "outputs": [
        {
          "output_type": "execute_result",
          "data": {
            "text/plain": [
              "[52, 14, 150, 493, 1000, 51, 202, 229, 100, 100, 442, 16, 22]"
            ]
          },
          "metadata": {},
          "execution_count": 34
        }
      ]
    },
    {
      "cell_type": "code",
      "source": [
        "files = read_files('/content/files.txt')\n",
        "files"
      ],
      "metadata": {
        "colab": {
          "base_uri": "https://localhost:8080/"
        },
        "id": "rvpk5XYW6uOk",
        "outputId": "f1028d6f-0c12-47b3-fcb2-24152b4c2477"
      },
      "execution_count": 35,
      "outputs": [
        {
          "output_type": "execute_result",
          "data": {
            "text/plain": [
              "['berlin52.tsp',\n",
              " 'burma14.tsp',\n",
              " 'ch150.tsp',\n",
              " 'd493.tsp',\n",
              " 'dsj1000.tsp',\n",
              " 'eil51.tsp',\n",
              " 'gr202.tsp',\n",
              " 'gr229.tsp',\n",
              " 'kroA100.tsp',\n",
              " 'kroD100.tsp',\n",
              " 'pcb442.tsp',\n",
              " 'ulysses16.tsp',\n",
              " 'ulysses22.tsp']"
            ]
          },
          "metadata": {},
          "execution_count": 35
        }
      ]
    },
    {
      "cell_type": "code",
      "source": [
        "avg_runtimes_nn = read_input_data('/content/average_time_nn.txt')\n",
        "avg_runtimes_nn"
      ],
      "metadata": {
        "colab": {
          "base_uri": "https://localhost:8080/"
        },
        "outputId": "82964466-9c3a-47b5-ccaa-7cc1d390429a",
        "id": "u5fGfRfl7Rne"
      },
      "execution_count": 36,
      "outputs": [
        {
          "output_type": "execute_result",
          "data": {
            "text/plain": [
              "[2025.707,\n",
              " 84.492,\n",
              " 23243.461,\n",
              " 639248.013,\n",
              " 6042081.878,\n",
              " 1010.894,\n",
              " 53630.489,\n",
              " 68024.444,\n",
              " 7434.701,\n",
              " 6859.419,\n",
              " 485099.17,\n",
              " 62.054,\n",
              " 125.523]"
            ]
          },
          "metadata": {},
          "execution_count": 36
        }
      ]
    },
    {
      "cell_type": "code",
      "source": [
        "errors_nn = read_input_data('/content/errors_nn.txt')\n",
        "errors_nn"
      ],
      "metadata": {
        "colab": {
          "base_uri": "https://localhost:8080/"
        },
        "outputId": "8c3637b5-6a92-42d4-de8c-6ee748eba933",
        "id": "UDqoKTey7Rng"
      },
      "execution_count": 37,
      "outputs": [
        {
          "output_type": "execute_result",
          "data": {
            "text/plain": [
              "[0.18827897109520023,\n",
              " 0.41257899488414085,\n",
              " 0.26516544117647056,\n",
              " 0.23547225872807268,\n",
              " 0.31998284215684636,\n",
              " 0.16666666666666666,\n",
              " 0.31409362549800796,\n",
              " 0.25303487318167633,\n",
              " 0.3049525420543182,\n",
              " 0.26354841739457124,\n",
              " 0.2195438969632518,\n",
              " 0.3799387665840502,\n",
              " 0.14872379865963212]"
            ]
          },
          "metadata": {},
          "execution_count": 37
        }
      ]
    },
    {
      "cell_type": "code",
      "source": [
        "weights_nn = read_input_data('/content/weights_nn.txt')\n",
        "weights_nn"
      ],
      "metadata": {
        "colab": {
          "base_uri": "https://localhost:8080/"
        },
        "outputId": "a36fbca8-2d1b-425c-a108-2e628093ef70",
        "id": "SsDPqaJT7Rnh"
      },
      "execution_count": 38,
      "outputs": [
        {
          "output_type": "execute_result",
          "data": {
            "text/plain": [
              "[8962.0,\n",
              " 4694.0,\n",
              " 8259.0,\n",
              " 43244.0,\n",
              " 24630468.0,\n",
              " 497.0,\n",
              " 52774.0,\n",
              " 168661.0,\n",
              " 27772.0,\n",
              " 26906.0,\n",
              " 61926.0,\n",
              " 9465.0,\n",
              " 8056.0]"
            ]
          },
          "metadata": {},
          "execution_count": 38
        }
      ]
    },
    {
      "cell_type": "code",
      "source": [
        "avg_runtimes_rand_ins = read_input_data('/content/average_time_rand.txt')\n",
        "avg_runtimes_rand_ins"
      ],
      "metadata": {
        "colab": {
          "base_uri": "https://localhost:8080/"
        },
        "id": "3ifmW39O37yF",
        "outputId": "7dc22965-3fa2-4672-f037-7a55bcf5236a"
      },
      "execution_count": 39,
      "outputs": [
        {
          "output_type": "execute_result",
          "data": {
            "text/plain": [
              "[1735.297,\n",
              " 135.281,\n",
              " 16369.733,\n",
              " 220189.918,\n",
              " 1041993.537,\n",
              " 1631.094,\n",
              " 30972.018,\n",
              " 41322.109,\n",
              " 7232.309,\n",
              " 6893.036,\n",
              " 175428.627,\n",
              " 164.434,\n",
              " 305.635]"
            ]
          },
          "metadata": {},
          "execution_count": 39
        }
      ]
    },
    {
      "cell_type": "code",
      "source": [
        "errors_rand_ins = read_input_data('/content/errors_rand.txt')\n",
        "errors_rand_ins"
      ],
      "metadata": {
        "colab": {
          "base_uri": "https://localhost:8080/"
        },
        "id": "T0Q5ZBIb4EAa",
        "outputId": "04f1cae6-69fe-4de4-b339-abf1e13da377"
      },
      "execution_count": 40,
      "outputs": [
        {
          "output_type": "execute_result",
          "data": {
            "text/plain": [
              "[0.026783346592415803,\n",
              " 0.10833584110743304,\n",
              " 0.0822610294117647,\n",
              " 0.08276669904576882,\n",
              " 0.11674273439084297,\n",
              " 0.051643192488262914,\n",
              " 0.06797808764940239,\n",
              " 0.10509502087636143,\n",
              " 0.026877173198007705,\n",
              " 0.044707429322813935,\n",
              " 0.13029264642167868,\n",
              " 0.03557369878991107,\n",
              " 0.05746470839868815]"
            ]
          },
          "metadata": {},
          "execution_count": 40
        }
      ]
    },
    {
      "cell_type": "code",
      "source": [
        "weights_rand_ins = read_input_data('/content/weights_rand.txt')\n",
        "weights_rand_ins"
      ],
      "metadata": {
        "colab": {
          "base_uri": "https://localhost:8080/"
        },
        "id": "0scR4k-54Lmw",
        "outputId": "77de8c90-1cca-492d-c15b-7ee52dd58591"
      },
      "execution_count": 41,
      "outputs": [
        {
          "output_type": "execute_result",
          "data": {
            "text/plain": [
              "[7744.0,\n",
              " 3683.0,\n",
              " 7065.0,\n",
              " 37899.0,\n",
              " 20838071.0,\n",
              " 448.0,\n",
              " 42890.0,\n",
              " 148748.0,\n",
              " 21854.0,\n",
              " 22246.0,\n",
              " 57394.0,\n",
              " 7103.0,\n",
              " 7416.0]"
            ]
          },
          "metadata": {},
          "execution_count": 41
        }
      ]
    },
    {
      "cell_type": "markdown",
      "source": [
        "## Tables"
      ],
      "metadata": {
        "id": "k0RJ3DfQ7BvG"
      }
    },
    {
      "cell_type": "markdown",
      "source": [
        "We plot a table summarizing our results. In particular, for each algorithm we print the solution (weight of the hamiltonian cycle), the average running time per graph and the error rate. The table is sorted by input size."
      ],
      "metadata": {
        "id": "cTUehosYIZA9"
      }
    },
    {
      "cell_type": "code",
      "source": [
        "#Let's define some useful variables\n",
        "tuples_2app = sorted(list(zip(sizes,files,errors_2approx,avg_runtimes_2approx,weights_2approx)))\n",
        "sorted_sizes = sorted(list(list(zip(*tuples_2app))[0]))\n",
        "sorted_errors_2approx= sorted(list(list(zip(*tuples_2app))[2]))\n",
        "sorted_runtimes_2approx = sorted(list(list(zip(*tuples_2app))[3]))\n",
        "sorted_weights_2approx = (list(list(zip(*tuples_2app))[4]))\n",
        "\n",
        "tuples_nn = sorted(list(zip(sizes,files,errors_nn,avg_runtimes_nn,weights_nn)))\n",
        "sorted_errors_nn = sorted(list(list(zip(*tuples_nn))[2]))\n",
        "sorted_runtimes_nn = sorted(list(list(zip(*tuples_nn))[3]))\n",
        "sorted_weights_nn = (list(list(zip(*tuples_nn))[4]))\n",
        "\n",
        "tuples_randins = sorted(list(zip(sizes,files,errors_rand_ins,avg_runtimes_rand_ins,weights_rand_ins)))\n",
        "sorted_errors_randins = sorted(list(list(zip(*tuples_randins))[2]))\n",
        "sorted_runtimes_randins = sorted(list(list(zip(*tuples_randins))[3]))\n",
        "sorted_weights_rand_ins = (list(list(zip(*tuples_randins))[4]))\n"
      ],
      "metadata": {
        "id": "_lPfAiEkLtze"
      },
      "execution_count": 42,
      "outputs": []
    },
    {
      "cell_type": "code",
      "source": [
        "print(\"\\t\\t\\t       2-approx \\t\\t\\tNearest Neighbor \\t\\t      Random Insertion\")\n",
        "print(\"-\"*126)\n",
        "headers = [\"Instance\",\"Solution\",\"Time\",\"Error\",\"Solution\",\"Time\",\"Error\",\"Solution\",\"Time\",\"Error\"]\n",
        "data =[]\n",
        "for i in range(len(sizes)):\n",
        "  data.append([tuples_2app[i][1],sorted_weights_2approx[i],sorted_runtimes_2approx[i],round(sorted_errors_2approx[i],3),\n",
        "               sorted_weights_nn[i],sorted_runtimes_nn[i],round(sorted_errors_nn[i],3),\n",
        "               sorted_weights_rand_ins[i],sorted_runtimes_randins[i],round(sorted_errors_randins[i],3)])\n",
        "\n",
        "\n",
        "table = tabulate(data,headers,numalign=\"center\",tablefmt = \"presto\")\n",
        "print(table)"
      ],
      "metadata": {
        "id": "XyjE_IUqyw7f",
        "colab": {
          "base_uri": "https://localhost:8080/"
        },
        "outputId": "2a2900c1-b265-41fc-b260-9af6d68fe234"
      },
      "execution_count": 43,
      "outputs": [
        {
          "output_type": "stream",
          "name": "stdout",
          "text": [
            "\t\t\t       2-approx \t\t\tNearest Neighbor \t\t      Random Insertion\n",
            "------------------------------------------------------------------------------------------------------------------------------\n",
            " Instance      |  Solution   |    Time     |  Error  |  Solution   |    Time     |  Error  |  Solution   |    Time     |  Error\n",
            "---------------+-------------+-------------+---------+-------------+-------------+---------+-------------+-------------+---------\n",
            " burma14.tsp   |    3835     |   156.514   |  0.096  |    4694     |   62.054    |  0.149  |    3683     |   135.281   |  0.027\n",
            " ulysses16.tsp |    7520     |   290.551   |  0.154  |    9465     |   84.492    |  0.167  |    7103     |   164.434   |  0.027\n",
            " ulysses22.tsp |    8148     |   344.582   |  0.162  |    8056     |   125.523   |  0.188  |    7416     |   305.635   |  0.036\n",
            " eil51.tsp     |     604     |   2113.93   |  0.288  |     497     |   1010.89   |  0.22   |     448     |   1631.09   |  0.045\n",
            " berlin52.tsp  |    10341    |   2684.67   |  0.303  |    8962     |   2025.71   |  0.235  |    7744     |   1735.3    |  0.052\n",
            " kroA100.tsp   |    29715    |   9383.57   |  0.31   |    27772    |   6859.42   |  0.253  |    21854    |   6893.04   |  0.057\n",
            " kroD100.tsp   |    27418    |   10124.2   |  0.321  |    26906    |   7434.7    |  0.264  |    22246    |   7232.31   |  0.068\n",
            " ch150.tsp     |    8783     |   24108.4   |  0.345  |    8259     |   23243.5   |  0.265  |    7065     |   16369.7   |  0.082\n",
            " gr202.tsp     |    52334    |    48459    |  0.371  |    52774    |   53630.5   |  0.305  |    42890    |    30972    |  0.083\n",
            " gr229.tsp     |   176287    |   72138.4   |  0.379  |   168661    |   68024.4   |  0.314  |   148748    |   41322.1   |  0.105\n",
            " pcb442.tsp    |    76723    |   363373    |  0.396  |    61926    |   485099    |  0.32   |    57394    |   175429    |  0.108\n",
            " d493.tsp      |    46227    |   445816    |  0.418  |    43244    |   639248    |  0.38   |    37899    |   220190    |  0.117\n",
            " dsj1000.tsp   | 2.57346e+07 | 2.93841e+06 |  0.511  | 2.46305e+07 | 6.04208e+06 |  0.413  | 2.08381e+07 | 1.04199e+06 |  0.13\n"
          ]
        }
      ]
    },
    {
      "cell_type": "markdown",
      "source": [
        "Next, we plot each algorithm's results in comparison with the optimal solution"
      ],
      "metadata": {
        "id": "rHDmjOz2jvQV"
      }
    },
    {
      "cell_type": "code",
      "source": [
        "headers = [\"File\",\"Optimal\",\"2-Approx\",\"Error\",\"Optimal * 2\",\"approx <= 2*optimal\"]\n",
        "data =[]\n",
        "for i in range(len(sizes)):\n",
        "  data.append([tuples_2app[i][1],get_optimal_solution(tuples_2app[i][1]),tuples_2app[i][4],round(tuples_2app[i][2],3),\n",
        "               get_optimal_solution(tuples_2app[i][1])*2,tuples_2app[i][4]<=2*get_optimal_solution(tuples_2app[i][1])])\n",
        "\n",
        "\n",
        "table = tabulate(data,headers,numalign=\"center\",tablefmt = \"presto\")\n",
        "print(table)\n",
        "print(\"-\"*90)\n",
        "print(f\"Average error: {sum(errors_2approx)/len(files)}\")"
      ],
      "metadata": {
        "colab": {
          "base_uri": "https://localhost:8080/"
        },
        "id": "8KC7mwdllwCx",
        "outputId": "963ce0f2-cdca-4f30-8e18-eae58daf931c"
      },
      "execution_count": 44,
      "outputs": [
        {
          "output_type": "stream",
          "name": "stdout",
          "text": [
            " File          |  Optimal  |  2-Approx   |  Error  |  Optimal * 2  | approx <= 2*optimal\n",
            "---------------+-----------+-------------+---------+---------------+-----------------------\n",
            " burma14.tsp   |   3323    |    3835     |  0.154  |     6646      | True\n",
            " ulysses16.tsp |   6859    |    7520     |  0.096  |     13718     | True\n",
            " ulysses22.tsp |   7013    |    8148     |  0.162  |     14026     | True\n",
            " eil51.tsp     |    426    |     604     |  0.418  |      852      | True\n",
            " berlin52.tsp  |   7542    |    10341    |  0.371  |     15084     | True\n",
            " kroA100.tsp   |   21282   |    29715    |  0.396  |     42564     | True\n",
            " kroD100.tsp   |   21294   |    27418    |  0.288  |     42588     | True\n",
            " ch150.tsp     |   6528    |    8783     |  0.345  |     13056     | True\n",
            " gr202.tsp     |   40160   |    52334    |  0.303  |     80320     | True\n",
            " gr229.tsp     |  134602   |   176287    |  0.31   |    269204     | True\n",
            " pcb442.tsp    |   50778   |    76723    |  0.511  |    101556     | True\n",
            " d493.tsp      |   35002   |    46227    |  0.321  |     70004     | True\n",
            " dsj1000.tsp   | 18659688  | 2.57346e+07 |  0.379  |   37319376    | True\n",
            "------------------------------------------------------------------------------------------\n",
            "Average error: 0.3118582201379155\n"
          ]
        }
      ]
    },
    {
      "cell_type": "markdown",
      "source": [
        "Comparison of Nearest Neighbor with optimal "
      ],
      "metadata": {
        "id": "tLX55IQipsnW"
      }
    },
    {
      "cell_type": "code",
      "source": [
        "headers = [\"File\",\"Optimal\",\"Nearest Neighbor\",\"Error\",\"Optimal * log(n)\",\"approx <= log(n)*optimal\"]\n",
        "data =[]\n",
        "for i in range(len(sizes)):\n",
        "  data.append([tuples_nn[i][1],get_optimal_solution(tuples_nn[i][1]),tuples_nn[i][4],round(tuples_nn[i][2],3),\n",
        "               get_optimal_solution(tuples_nn[i][1])*math.log(tuples_nn[i][0]),\n",
        "               tuples_nn[i][4]<=math.log2(tuples_nn[i][0])*get_optimal_solution(tuples_nn[i][1])])\n",
        "\n",
        "\n",
        "table = tabulate(data,headers,numalign=\"center\",tablefmt = \"presto\")\n",
        "print(table)\n",
        "print(\"-\"*110)\n",
        "print(f\"Average error: {sum(errors_nn)/len(files)}\")"
      ],
      "metadata": {
        "colab": {
          "base_uri": "https://localhost:8080/"
        },
        "id": "q7_w2AzSpv7_",
        "outputId": "40c36817-815d-4aa9-bf91-dace5a6d910c"
      },
      "execution_count": 45,
      "outputs": [
        {
          "output_type": "stream",
          "name": "stdout",
          "text": [
            " File          |  Optimal  |  Nearest Neighbor  |  Error  |  Optimal * log(n)  | approx <= log(n)*optimal\n",
            "---------------+-----------+--------------------+---------+--------------------+----------------------------\n",
            " burma14.tsp   |   3323    |        4694        |  0.413  |      8769.59       | True\n",
            " ulysses16.tsp |   6859    |        9465        |  0.38   |      19017.2       | True\n",
            " ulysses22.tsp |   7013    |        8056        |  0.149  |      21677.5       | True\n",
            " eil51.tsp     |    426    |        497         |  0.167  |      1674.96       | True\n",
            " berlin52.tsp  |   7542    |        8962        |  0.188  |      29800.3       | True\n",
            " kroA100.tsp   |   21282   |       27772        |  0.305  |      98007.2       | True\n",
            " kroD100.tsp   |   21294   |       26906        |  0.264  |      98062.5       | True\n",
            " ch150.tsp     |   6528    |        8259        |  0.265  |      32709.4       | True\n",
            " gr202.tsp     |   40160   |       52774        |  0.314  |       213180       | True\n",
            " gr229.tsp     |  134602   |       168661       |  0.253  |       731390       | True\n",
            " pcb442.tsp    |   50778   |       61926        |  0.22   |       309305       | True\n",
            " d493.tsp      |   35002   |       43244        |  0.235  |       217030       | True\n",
            " dsj1000.tsp   | 18659688  |    2.46305e+07     |  0.32   |    1.28897e+08     | True\n",
            "--------------------------------------------------------------------------------------------------------------\n",
            "Average error: 0.2670754688494543\n"
          ]
        }
      ]
    },
    {
      "cell_type": "markdown",
      "source": [
        "Comparison of Random Insertion with optimal "
      ],
      "metadata": {
        "id": "RjPjKhm2pxcd"
      }
    },
    {
      "cell_type": "code",
      "source": [
        "headers = [\"File\",\"Optimal\",\"Random Insertion\",\"Error\",\"Optimal*log(n)\",\"approx <= log(n)*optimal\"]\n",
        "data =[]\n",
        "for i in range(len(sizes)):\n",
        "  data.append([tuples_randins[i][1],get_optimal_solution(tuples_randins[i][1]),tuples_randins[i][4],round(tuples_randins[i][2],3),\n",
        "               get_optimal_solution(tuples_randins[i][1])*math.log(tuples_randins[i][0]),\n",
        "               tuples_randins[i][4]<=math.log2(tuples_randins[i][0])*get_optimal_solution(tuples_randins[i][1])])\n",
        "\n",
        "\n",
        "table = tabulate(data,headers,numalign=\"center\",tablefmt = \"presto\")\n",
        "print(table)\n",
        "print(\"-\"*110)\n",
        "print(f\"Average error: {sum(errors_rand_ins)/len(files)}\")"
      ],
      "metadata": {
        "colab": {
          "base_uri": "https://localhost:8080/"
        },
        "id": "AkeyCQKPp1D4",
        "outputId": "fc86dd89-d0d5-4971-c218-7b38e22414b0"
      },
      "execution_count": 46,
      "outputs": [
        {
          "output_type": "stream",
          "name": "stdout",
          "text": [
            " File          |  Optimal  |  Random Insertion  |  Error  |  Optimal*log(n)  | approx <= log(n)*optimal\n",
            "---------------+-----------+--------------------+---------+------------------+----------------------------\n",
            " burma14.tsp   |   3323    |        3683        |  0.108  |     8769.59      | True\n",
            " ulysses16.tsp |   6859    |        7103        |  0.036  |     19017.2      | True\n",
            " ulysses22.tsp |   7013    |        7416        |  0.057  |     21677.5      | True\n",
            " eil51.tsp     |    426    |        448         |  0.052  |     1674.96      | True\n",
            " berlin52.tsp  |   7542    |        7744        |  0.027  |     29800.3      | True\n",
            " kroA100.tsp   |   21282   |       21854        |  0.027  |     98007.2      | True\n",
            " kroD100.tsp   |   21294   |       22246        |  0.045  |     98062.5      | True\n",
            " ch150.tsp     |   6528    |        7065        |  0.082  |     32709.4      | True\n",
            " gr202.tsp     |   40160   |       42890        |  0.068  |      213180      | True\n",
            " gr229.tsp     |  134602   |       148748       |  0.105  |      731390      | True\n",
            " pcb442.tsp    |   50778   |       57394        |  0.13   |      309305      | True\n",
            " d493.tsp      |   35002   |       37899        |  0.083  |      217030      | True\n",
            " dsj1000.tsp   | 18659688  |    2.08381e+07     |  0.117  |   1.28897e+08    | True\n",
            "--------------------------------------------------------------------------------------------------------------\n",
            "Average error: 0.07204012366871936\n"
          ]
        }
      ]
    },
    {
      "cell_type": "markdown",
      "source": [
        "## Plots"
      ],
      "metadata": {
        "id": "hHMMkemM1ote"
      }
    },
    {
      "cell_type": "markdown",
      "source": [
        "In this section we further analyze our algorithms by plotting their running times, their error rate and their weights with respect to the sizes of the input graphs."
      ],
      "metadata": {
        "id": "UTbNyLyK-nCO"
      }
    },
    {
      "cell_type": "markdown",
      "source": [
        "Let's first define some useful variables:"
      ],
      "metadata": {
        "id": "CID4nM32-y04"
      }
    },
    {
      "cell_type": "markdown",
      "source": [
        "Plotting error rates with respect to sizes:"
      ],
      "metadata": {
        "id": "Dr39zru__42Q"
      }
    },
    {
      "cell_type": "code",
      "source": [
        "plt.plot(sorted_sizes, sorted_errors_2approx)\n",
        "plt.legend([\"Error rate 2-approx\"])\n",
        "plt.title('2-approximation error rate')\n",
        "plt.ylabel('errors')\n",
        "plt.savefig('2app_err_rate.png', dpi=300)\n",
        "plt.xlabel('size')\n",
        "plt.show()"
      ],
      "metadata": {
        "colab": {
          "base_uri": "https://localhost:8080/",
          "height": 295
        },
        "id": "ilmPVf6D3lfg",
        "outputId": "8f9dae23-4c5b-41c9-f21c-6d9f73abaa0f"
      },
      "execution_count": 47,
      "outputs": [
        {
          "output_type": "display_data",
          "data": {
            "text/plain": [
              "<Figure size 432x288 with 1 Axes>"
            ],
            "image/png": "[encoded data removed]"
          },
          "metadata": {
            "needs_background": "light"
          }
        }
      ]
    },
    {
      "cell_type": "code",
      "source": [
        "plt.plot(sorted_sizes, sorted_errors_nn)\n",
        "plt.legend([\"Error rate Nearest Neighbor\"])\n",
        "plt.title('Nearest neighbor error rate')\n",
        "plt.ylabel('errors')\n",
        "plt.savefig('nn_err_rate.png', dpi=300)\n",
        "plt.xlabel('size')\n",
        "plt.show()"
      ],
      "metadata": {
        "colab": {
          "base_uri": "https://localhost:8080/",
          "height": 295
        },
        "id": "ZlI6jhw13wzk",
        "outputId": "8e198319-cf99-4be7-aa7d-e992d926a469"
      },
      "execution_count": 48,
      "outputs": [
        {
          "output_type": "display_data",
          "data": {
            "text/plain": [
              "<Figure size 432x288 with 1 Axes>"
            ],
            "image/png": "[encoded data removed]"
          },
          "metadata": {
            "needs_background": "light"
          }
        }
      ]
    },
    {
      "cell_type": "code",
      "source": [
        "plt.plot(sorted_sizes, sorted_errors_randins)\n",
        "plt.title('Random Insertion error rate')\n",
        "plt.legend([\"Error rate Random Insertion\"])\n",
        "plt.ylabel('errors')\n",
        "plt.savefig('rand_ins_err_rate.png', dpi=300)\n",
        "plt.xlabel('size')\n",
        "plt.show()"
      ],
      "metadata": {
        "colab": {
          "base_uri": "https://localhost:8080/",
          "height": 295
        },
        "id": "ViET66y63C4_",
        "outputId": "3f816dc3-1afb-46f7-a496-7b5d10530854"
      },
      "execution_count": 49,
      "outputs": [
        {
          "output_type": "display_data",
          "data": {
            "text/plain": [
              "<Figure size 432x288 with 1 Axes>"
            ],
            "image/png": "[encoded data removed]"
          },
          "metadata": {
            "needs_background": "light"
          }
        }
      ]
    },
    {
      "cell_type": "markdown",
      "source": [
        "Plotting the algorithms' running times"
      ],
      "metadata": {
        "id": "qfmnI8pa8fhf"
      }
    },
    {
      "cell_type": "code",
      "source": [
        "fig,ax = plt.subplots()\n",
        "ax.plot(sorted_sizes, sorted_runtimes_2approx)\n",
        "ax.plot(sorted_sizes, sorted_runtimes_nn)\n",
        "plt.plot(sorted_sizes, sorted_runtimes_randins)\n",
        "plt.legend([\"2-approximation\", \"Nearest Neighbor\",\"Random Insertion\"])\n",
        "plt.ylabel('run time (ns)')\n",
        "plt.title(\"TSP algorithms running times\")\n",
        "plt.xlabel('size')\n",
        "plt.savefig('tsp_algorithms_comparisons_times.png', dpi=300)\n",
        "plt.show()"
      ],
      "metadata": {
        "id": "OhOJYUFA4Ao1",
        "colab": {
          "base_uri": "https://localhost:8080/",
          "height": 295
        },
        "outputId": "032ae0e0-0ce2-4df2-85a8-232d903348cc"
      },
      "execution_count": 50,
      "outputs": [
        {
          "output_type": "display_data",
          "data": {
            "text/plain": [
              "<Figure size 432x288 with 1 Axes>"
            ],
            "image/png": "[encoded data removed]"
          },
          "metadata": {
            "needs_background": "light"
          }
        }
      ]
    },
    {
      "cell_type": "markdown",
      "source": [
        "Plotting approximate solutions with respect to optimal:"
      ],
      "metadata": {
        "id": "-aJVSsgPAn-g"
      }
    },
    {
      "cell_type": "code",
      "source": [
        "optimal = []\n",
        "\n",
        "for file in (list(list(zip(*tuples_nn))[1])):\n",
        "  optimal.append(get_optimal_solution(file))"
      ],
      "metadata": {
        "id": "uLPgKI3U91UU"
      },
      "execution_count": 51,
      "outputs": []
    },
    {
      "cell_type": "code",
      "source": [
        "plt.plot(sorted_sizes, sorted_weights_2approx)\n",
        "plt.plot(sorted_sizes, optimal)\n",
        "plt.title(\"2-approximation solution\")\n",
        "plt.legend([\"2-approximation\",\"Optimal\"])\n",
        "plt.ylabel('weights')\n",
        "plt.xlabel('size')\n",
        "plt.savefig('2app_weights.png', dpi=300)\n",
        "plt.show()"
      ],
      "metadata": {
        "colab": {
          "base_uri": "https://localhost:8080/",
          "height": 295
        },
        "id": "mwPGa3Ec9jdu",
        "outputId": "e0752db4-2668-47da-f9bf-1e7e334d7eca"
      },
      "execution_count": 52,
      "outputs": [
        {
          "output_type": "display_data",
          "data": {
            "text/plain": [
              "<Figure size 432x288 with 1 Axes>"
            ],
            "image/png": "[encoded data removed]"
          },
          "metadata": {
            "needs_background": "light"
          }
        }
      ]
    },
    {
      "cell_type": "code",
      "source": [
        "plt.plot(sorted_sizes, sorted_weights_nn)\n",
        "plt.plot(sorted_sizes, optimal)\n",
        "plt.title(\"Nearest Neighbor approximation\")\n",
        "plt.legend([\"Nearest Neighbor\",\"Optimal\"])\n",
        "plt.ylabel('weights')\n",
        "plt.xlabel('size')\n",
        "plt.savefig('nn_weights.png', dpi=300)\n",
        "plt.show()"
      ],
      "metadata": {
        "colab": {
          "base_uri": "https://localhost:8080/",
          "height": 295
        },
        "id": "zsDJUNX8884j",
        "outputId": "4bf540bd-5739-4ebe-a51e-c2e4a4046b3b"
      },
      "execution_count": 53,
      "outputs": [
        {
          "output_type": "display_data",
          "data": {
            "text/plain": [
              "<Figure size 432x288 with 1 Axes>"
            ],
            "image/png": "[encoded data removed]"
          },
          "metadata": {
            "needs_background": "light"
          }
        }
      ]
    },
    {
      "cell_type": "code",
      "source": [
        "plt.plot(sorted_sizes, sorted_weights_rand_ins)\n",
        "plt.plot(sorted_sizes, optimal)\n",
        "plt.title(\"Random Insertion approximation\")\n",
        "plt.legend([\"Random Insertion\",\"Optimal\"])\n",
        "plt.ylabel('weights')\n",
        "plt.xlabel('size')\n",
        "plt.savefig('randins_weights.png', dpi=300)\n",
        "plt.show()"
      ],
      "metadata": {
        "colab": {
          "base_uri": "https://localhost:8080/",
          "height": 295
        },
        "id": "RkSrSHvxBDjj",
        "outputId": "cc08f3c0-0b2b-4e99-fe2d-8c987140a228"
      },
      "execution_count": 54,
      "outputs": [
        {
          "output_type": "display_data",
          "data": {
            "text/plain": [
              "<Figure size 432x288 with 1 Axes>"
            ],
            "image/png": "[encoded data removed]"
          },
          "metadata": {
            "needs_background": "light"
          }
        }
      ]
    },
    {
      "cell_type": "code",
      "source": [
        "plt.plot(sorted_sizes, sorted_weights_nn)\n",
        "plt.plot(sorted_sizes, sorted_weights_rand_ins)\n",
        "plt.plot(sorted_sizes, sorted_weights_2approx)\n",
        "\n",
        "plt.title(\"TSP algorihtms approximate solutions\")\n",
        "plt.legend([\"Nearest Neighbor\",\"Random Insertion\",\"2approx\"])\n",
        "plt.ylabel('weights')\n",
        "plt.xlabel('size')\n",
        "plt.savefig('tsp_algorithms_comparisons_weights.png', dpi=300)\n",
        "plt.show()"
      ],
      "metadata": {
        "colab": {
          "base_uri": "https://localhost:8080/",
          "height": 295
        },
        "id": "DLyaM3JeBIFx",
        "outputId": "05095622-ac49-402b-a723-b548b463e68e"
      },
      "execution_count": 55,
      "outputs": [
        {
          "output_type": "display_data",
          "data": {
            "text/plain": [
              "<Figure size 432x288 with 1 Axes>"
            ],
            "image/png": "[encoded data removed]"
          },
          "metadata": {
            "needs_background": "light"
          }
        }
      ]
    }
  ],
  "metadata": {
    "colab": {
      "collapsed_sections": [
        "A3dvUo-Iz6wD",
        "xRjCC9-_Yqos",
        "n96E8ha1-igR",
        "bD4nEOdvkZwn",
        "T2j4GFBNbZF3",
        "oBs3t6iJvCeW",
        "Qb-tcqTIvFnL",
        "NmGcU-7TvI12"
      ],
      "name": "HW2_AdvAlg_Group5.ipynb",
      "provenance": []
    },
    "kernelspec": {
      "display_name": "Python 3",
      "name": "python3"
    },
    "language_info": {
      "codemirror_mode": {
        "name": "ipython",
        "version": 3
      },
      "file_extension": ".py",
      "mimetype": "text/x-python",
      "name": "python",
      "nbconvert_exporter": "python",
      "pygments_lexer": "ipython3",
      "version": "3.10.4"
    }
  },
  "nbformat": 4,
  "nbformat_minor": 0
}