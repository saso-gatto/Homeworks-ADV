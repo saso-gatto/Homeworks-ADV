{
  "cells": [
    {
      "cell_type": "markdown",
      "metadata": {
        "id": "A3dvUo-Iz6wD"
      },
      "source": [
        "# Imports\n",
        "\n"
      ]
    },
    {
      "cell_type": "code",
      "source": [
        "pip install columnar #package to print table of data "
      ],
      "metadata": {
        "colab": {
          "base_uri": "https://localhost:8080/"
        },
        "id": "g0_0ztHwgJoa",
        "outputId": "b6565239-6f1f-444e-99a1-b1246cd2b500"
      },
      "execution_count": null,
      "outputs": [
        {
          "output_type": "stream",
          "name": "stdout",
          "text": [
            "Collecting columnar\n",
            "  Downloading Columnar-1.4.1-py3-none-any.whl (11 kB)\n",
            "Requirement already satisfied: toolz in /usr/local/lib/python3.7/dist-packages (from columnar) (0.11.2)\n",
            "Requirement already satisfied: wcwidth in /usr/local/lib/python3.7/dist-packages (from columnar) (0.2.5)\n",
            "Installing collected packages: columnar\n",
            "Successfully installed columnar-1.4.1\n"
          ]
        }
      ]
    },
    {
      "cell_type": "code",
      "execution_count": null,
      "metadata": {
        "id": "2TpUl7iDD8Rw"
      },
      "outputs": [],
      "source": [
        "from collections import defaultdict\n",
        "import sys\n",
        "import math\n",
        "import time\n",
        "import heapq\n",
        "import gc\n",
        "import zipfile\n",
        "from time import perf_counter_ns\n",
        "import os\n",
        "import matplotlib.pyplot as plt\n",
        "from columnar import columnar\n"
      ]
    },
    {
      "cell_type": "code",
      "execution_count": null,
      "metadata": {
        "colab": {
          "base_uri": "https://localhost:8080/"
        },
        "id": "u8ztBEn2noYM",
        "outputId": "668b3bfe-c636-48f2-c9b8-2e3d3a2f84ed"
      },
      "outputs": [
        {
          "output_type": "stream",
          "name": "stdout",
          "text": [
            "Mounted at /content/drive\n"
          ]
        }
      ],
      "source": [
        "from google.colab import drive\n",
        "drive.mount('/content/drive')"
      ]
    },
    {
      "cell_type": "code",
      "execution_count": null,
      "metadata": {
        "id": "AsY343bAmG50"
      },
      "outputs": [],
      "source": [
        "with zipfile.ZipFile('/content/drive/MyDrive/mst_dataset.zip', 'r') as zip_ref:\n",
        "\n",
        "     zip_ref.extractall('/content/')"
      ]
    },
    {
      "cell_type": "markdown",
      "metadata": {
        "id": "hb3ZngYLz5n3"
      },
      "source": [
        "# Classes and handy functions"
      ]
    },
    {
      "cell_type": "markdown",
      "metadata": {
        "id": "JvdJRbeL0EiX"
      },
      "source": [
        "In this section we define some useful classes and functions for our algorithm implementations."
      ]
    },
    {
      "cell_type": "code",
      "execution_count": null,
      "metadata": {
        "id": "1WTU5Nr40YWq"
      },
      "outputs": [],
      "source": [
        "class Graph():\n",
        "  def __init__ (self):\n",
        "    self.V=[]\n",
        "    self.E=[]\n",
        "    self.adjacency_list = defaultdict(list)\n",
        "\n",
        "  def add_vertex(self,v):\n",
        "    self.V.append(v)\n",
        "\n",
        "  def remove_vertex (self,v):\n",
        "    self.V.remove(v)\n",
        "\n",
        "  def add_edge(self, source_node, destination_node, weight):\n",
        "    # First case\n",
        "    # We add the source and the destination node only if the are not already present\n",
        "    if (source_node not in self.V):\n",
        "      self.V.append(source_node)\n",
        "    \n",
        "    if (destination_node not in self.V):\n",
        "      self.V.append(destination_node)\n",
        "    \n",
        "    # Now we can add the edge\n",
        "    edge = (source_node, destination_node, weight)\n",
        "    self.E.append(edge)\n",
        "\n",
        "    # Now we update the graph\n",
        "    self.adjacency_list[source_node].append((destination_node,weight))\n",
        "    if (source_node != destination_node):\n",
        "      self.adjacency_list[destination_node].append((source_node,weight))\n",
        "\n",
        "  def remove_edge(self,source_node, destination_node,weight):\n",
        "    edge = (source_node, destination_node, weight)\n",
        "    self.E.remove(edge)\n",
        "    self.graph[source_node].remove((destination_node,weight))\n",
        "\n",
        "  def get_edges(self):\n",
        "    return self.E\n",
        "  \n",
        "  def get_value(self,key):\n",
        "    return self.adjacency_list[key]\n",
        "\n",
        "  def sort_edges(self):\n",
        "    self.E.sort(key=lambda x:x[2])\n",
        "\n",
        "  def print_data(self):\n",
        "    print(self.adjacency_list.items())"
      ]
    },
    {
      "cell_type": "code",
      "execution_count": null,
      "metadata": {
        "id": "IloBa0s4zRXt"
      },
      "outputs": [],
      "source": [
        "def read_input_graph(filepath):\n",
        "  f = open(filepath, \"r\")\n",
        "  lines = f.readlines()\n",
        "  for index, line in enumerate (lines):\n",
        "    text = line.strip()\n",
        "    text_splitted = text.split(\" \")\n",
        "    if (index==0):\n",
        "      graph = Graph()\n",
        "      size = text_splitted[0]\n",
        "    else:\n",
        "      graph.add_edge(text_splitted[0],text_splitted[1],text_splitted[2])\n",
        "  f.close()\n",
        "  return graph,int(size)"
      ]
    },
    {
      "cell_type": "code",
      "execution_count": null,
      "metadata": {
        "id": "fFhwyxnLNrYo"
      },
      "outputs": [],
      "source": [
        "def prim(graph, starting_vertex):\n",
        "\n",
        "    mst = defaultdict(set) # We'll save the minimum spanning tree here\n",
        "    heap = []\n",
        "    keys =[]\n",
        "    for i in range(len(graph)+1):\n",
        "      keys.append(1e6)\n",
        "    keys[int(starting_vertex)] = 0\n",
        "    #Let's now initialize our heap structure\n",
        "    for adjacent_vertex,weight in graph.get(starting_vertex):\n",
        "       # each heap node contains the edge's weight and the two incident vertices\n",
        "      heap.append((int(weight), starting_vertex, adjacent_vertex))\n",
        "    heapq.heapify(heap) \n",
        "\n",
        "    while heap: #iterates until heap is empty\n",
        "        weight, vertex, adj_vertex = heapq.heappop(heap) #extracts minimum node from the heap\n",
        "       \n",
        "        if keys[int(adj_vertex)]== 1e6 and weight < keys[int(adj_vertex)]:\n",
        "            mst[vertex].add((adj_vertex,weight))\n",
        "            keys[int(adj_vertex)] = weight\n",
        "\n",
        "            for next_vertex, weight in graph.get(adj_vertex):\n",
        "\n",
        "                if keys[int(next_vertex)]== 1e6 :\n",
        "                    heapq.heappush(heap, (int(weight), adj_vertex, next_vertex))\n",
        "                   \n",
        "\n",
        "    return mst"
      ]
    },
    {
      "cell_type": "code",
      "source": [
        "# Computes the weight of the minimum spanning tree found by our algorithm\n",
        "def compute_weight(mst):\n",
        "  weight = 0\n",
        "  for vertex in list(mst.items()):\n",
        "    for el in list(vertex[1]):\n",
        "      t = el[1]\n",
        "      weight += int(t)\n",
        "  return weight\n"
      ],
      "metadata": {
        "id": "jjR1Z9ISi6nC"
      },
      "execution_count": null,
      "outputs": []
    },
    {
      "cell_type": "code",
      "execution_count": null,
      "metadata": {
        "id": "oaVXZaUhlCGF"
      },
      "outputs": [],
      "source": [
        "def measure_run_time(num_iterations,input_directory,mst_weights):\n",
        "  sum_times = 0.0\n",
        "  sizes = []\n",
        "  avg_run_times = []\n",
        "  for file in sorted(os.listdir(input_directory)):\n",
        "    print(\"------------------------------------------------------------------------\")\n",
        "    file_path = f\"{input_directory}/{file}\"\n",
        "    graph,size = read_input_graph(file_path)\n",
        "    print(f\"Reading file {file}\")\n",
        "    gc.disable()\n",
        "    for i in range(num_iterations):\n",
        "      start_time = perf_counter_ns()\n",
        "      mst = prim(graph.adjacency_list, '1')\n",
        "      end_time = perf_counter_ns()\n",
        "      sum_times += (end_time-start_time)\n",
        "    weight = compute_weight(mst)\n",
        "    mst_weights.append(weight)\n",
        "    sizes.append(size)\n",
        "    gc.enable()\n",
        "    time = ((end_time - start_time)/num_iterations)\n",
        "    avg_run_times.append(time)\n",
        "    print(f\"Total weight of minimum spanning tree using Prim's Algorithm: {weight}, in {time} ns\")\n",
        "\n",
        "  # return running time in nanoseconds\n",
        "  return avg_run_times,sizes\n",
        "\n"
      ]
    },
    {
      "cell_type": "code",
      "source": [
        "def read_input_times(filepath):\n",
        "  f = open(filepath, \"r\")\n",
        "  lines = f.readlines()\n",
        "  sizes = []\n",
        "  times = []\n",
        "  for index, line in enumerate (lines):\n",
        "    text = line.strip()\n",
        "    text_splitted = text.split(\",\")\n",
        "    sizes.append(int(text_splitted[0].replace('(','')))\n",
        "    times.append(float(text_splitted[1].replace(')','')))\n",
        "  return times,sizes"
      ],
      "metadata": {
        "id": "34fLIoYGCN6i"
      },
      "execution_count": null,
      "outputs": []
    },
    {
      "cell_type": "code",
      "source": [
        "def read_input_data(filepath):\n",
        "  f = open(filepath, \"r\")\n",
        "  lines = f.readlines()\n",
        "  num_vertices = []\n",
        "  num_edges = []\n",
        "  for index, line in enumerate (lines):\n",
        "    text = line.strip()\n",
        "    text_splitted = text.split(\" \")\n",
        "    num_vertices.append(int(text_splitted[0]))\n",
        "    num_edges.append(int(text_splitted[1]))\n",
        "  return num_vertices,num_edges"
      ],
      "metadata": {
        "id": "9QPShLcpkzaY"
      },
      "execution_count": null,
      "outputs": []
    },
    {
      "cell_type": "code",
      "source": [
        "# This is just a handy function to get results of previous experiments that we\n",
        "# stored in a text file so to avoid having to run the code multiple times\n",
        "run_times,sizes =read_input_times('/content/Prim-1000it-25-04-22.txt') \n",
        "num_vertices,num_edges = read_input_data('/content/vertices-edges.txt') #gets number of nodes and edges from input graph"
      ],
      "metadata": {
        "id": "SfmnpxUTCkKz"
      },
      "execution_count": null,
      "outputs": []
    },
    {
      "cell_type": "markdown",
      "metadata": {
        "id": "qD9nJsi73IAC"
      },
      "source": [
        "#Prim's algorithm (debugging purposes)\n",
        "This section is just for running the algorithm on one input graph at a time, for debugging purposes"
      ]
    },
    {
      "cell_type": "markdown",
      "metadata": {
        "id": "90_T_hfb3MXd"
      },
      "source": [
        "Firstly, let's read our input graph from the file"
      ]
    },
    {
      "cell_type": "code",
      "execution_count": null,
      "metadata": {
        "id": "netfJP0ZzkXi"
      },
      "outputs": [],
      "source": [
        "graph,size = read_input_graph(\"/content/mst_dataset/input_random_67_100000.txt\")\n",
        "graph.print_data()\n",
        "size"
      ]
    },
    {
      "cell_type": "markdown",
      "metadata": {
        "id": "B1wSP7ha3RrU"
      },
      "source": [
        "Graph's adjacency list can also be printed in the following, more compact way:"
      ]
    },
    {
      "cell_type": "code",
      "execution_count": null,
      "metadata": {
        "colab": {
          "base_uri": "https://localhost:8080/"
        },
        "id": "xm4EZcm73WDS",
        "outputId": "ebeeab60-e90e-44c7-918d-8edf38ea07a4"
      },
      "outputs": [
        {
          "output_type": "execute_result",
          "data": {
            "text/plain": [
              "dict_items([('1', [('2', '2102')]), ('2', [('1', '2102'), ('3', '5737')]), ('3', [('2', '5737'), ('4', '5493')]), ('4', [('3', '5493'), ('5', '1115'), ('6', '8127')]), ('5', [('4', '1115'), ('6', '5305'), ('15', '-1372')]), ('6', [('4', '8127'), ('5', '5305'), ('7', '8271'), ('15', '-9983')]), ('15', [('5', '-1372'), ('14', '5201'), ('16', '-984'), ('6', '-9983')]), ('7', [('6', '8271'), ('8', '2703')]), ('8', [('7', '2703'), ('9', '4917')]), ('9', [('8', '4917'), ('10', '9529')]), ('10', [('9', '9529'), ('11', '-2771')]), ('11', [('10', '-2771'), ('12', '6223')]), ('12', [('11', '6223'), ('13', '1795')]), ('13', [('12', '1795'), ('14', '-9188'), ('16', '406')]), ('14', [('13', '-9188'), ('15', '5201')]), ('16', [('15', '-984'), ('17', '1810'), ('13', '406')]), ('17', [('16', '1810'), ('18', '-4030')]), ('18', [('17', '-4030'), ('19', '6230')]), ('19', [('18', '6230'), ('20', '6656'), ('19', '118')]), ('20', [('19', '6656')])])"
            ]
          },
          "metadata": {},
          "execution_count": 143
        }
      ],
      "source": [
        "(graph.adjacency_list.items() )"
      ]
    },
    {
      "cell_type": "code",
      "execution_count": null,
      "metadata": {
        "id": "2z1YiDMANtqW"
      },
      "outputs": [],
      "source": [
        "starting_node = '1'\n",
        "mst=dict(prim(graph.adjacency_list, starting_node))"
      ]
    },
    {
      "cell_type": "code",
      "execution_count": null,
      "metadata": {
        "id": "EujHtiwjNuKp",
        "colab": {
          "base_uri": "https://localhost:8080/"
        },
        "outputId": "e40497d6-fffc-4881-d8ba-5aa3e44d7e14"
      },
      "outputs": [
        {
          "output_type": "execute_result",
          "data": {
            "text/plain": [
              "{'1': {('2', 5943), ('6', -7899)},\n",
              " '4': {('3', -7466)},\n",
              " '5': {('4', -5531)},\n",
              " '6': {('7', -6105)},\n",
              " '7': {('5', -9081), ('8', 606)},\n",
              " '8': {('9', -7728)},\n",
              " '9': {('10', -7187)}}"
            ]
          },
          "metadata": {},
          "execution_count": 26
        }
      ],
      "source": [
        "mst"
      ]
    },
    {
      "cell_type": "code",
      "source": [
        "compute_weight(mst)"
      ],
      "metadata": {
        "colab": {
          "base_uri": "https://localhost:8080/"
        },
        "id": "TdTbszAskv8n",
        "outputId": "5d569a99-4513-4812-c393-75ec2f42798e"
      },
      "execution_count": null,
      "outputs": [
        {
          "output_type": "execute_result",
          "data": {
            "text/plain": [
              "-1119906"
            ]
          },
          "metadata": {},
          "execution_count": 30
        }
      ]
    },
    {
      "cell_type": "markdown",
      "metadata": {
        "id": "k2A3f-T5k-jI"
      },
      "source": [
        "# Measuring the algorithm's complexity"
      ]
    },
    {
      "cell_type": "markdown",
      "source": [
        "We measure the algorithm's complexity by running it on each input graph taken from the input directory. We ran the algorithm 1000 times per input, each time taking the average time.\n",
        "\n",
        "Below are our experiments and their outputs. We also store the mst weights in the list mst_weights.\n",
        "\n"
      ],
      "metadata": {
        "id": "saJwjGYi5ZvZ"
      }
    },
    {
      "cell_type": "code",
      "source": [
        "num_iterations = 1000\n",
        "mst_weights = []\n",
        "run_times,sizes = measure_run_time(num_iterations,'/content/mst_dataset',mst_weights)"
      ],
      "metadata": {
        "colab": {
          "base_uri": "https://localhost:8080/"
        },
        "outputId": "fc6f523d-5283-44da-c154-b7462c45462c",
        "id": "8UmT2466x-5b"
      },
      "execution_count": null,
      "outputs": [
        {
          "output_type": "stream",
          "name": "stdout",
          "text": [
            "------------------------------------------------------------------------\n",
            "Reading file input_random_01_10.txt\n",
            "Total weight of minimum spanning tree using Prim's Algorithm: 29316, in 21.594 ns\n",
            "------------------------------------------------------------------------\n",
            "Reading file input_random_02_10.txt\n",
            "Total weight of minimum spanning tree using Prim's Algorithm: 16940, in 24.743 ns\n",
            "------------------------------------------------------------------------\n",
            "Reading file input_random_03_10.txt\n",
            "Total weight of minimum spanning tree using Prim's Algorithm: -44448, in 26.939 ns\n",
            "------------------------------------------------------------------------\n",
            "Reading file input_random_04_10.txt\n",
            "Total weight of minimum spanning tree using Prim's Algorithm: 25217, in 23.658 ns\n",
            "------------------------------------------------------------------------\n",
            "Reading file input_random_05_20.txt\n",
            "Total weight of minimum spanning tree using Prim's Algorithm: -32021, in 56.47 ns\n",
            "------------------------------------------------------------------------\n",
            "Reading file input_random_06_20.txt\n",
            "Total weight of minimum spanning tree using Prim's Algorithm: 25130, in 54.079 ns\n",
            "------------------------------------------------------------------------\n",
            "Reading file input_random_07_20.txt\n",
            "Total weight of minimum spanning tree using Prim's Algorithm: -41693, in 62.485 ns\n",
            "------------------------------------------------------------------------\n",
            "Reading file input_random_08_20.txt\n",
            "Total weight of minimum spanning tree using Prim's Algorithm: -37205, in 57.65 ns\n",
            "------------------------------------------------------------------------\n",
            "Reading file input_random_09_40.txt\n",
            "Total weight of minimum spanning tree using Prim's Algorithm: -114203, in 127.845 ns\n",
            "------------------------------------------------------------------------\n",
            "Reading file input_random_10_40.txt\n",
            "Total weight of minimum spanning tree using Prim's Algorithm: -31929, in 116.901 ns\n",
            "------------------------------------------------------------------------\n",
            "Reading file input_random_11_40.txt\n",
            "Total weight of minimum spanning tree using Prim's Algorithm: -79570, in 118.263 ns\n",
            "------------------------------------------------------------------------\n",
            "Reading file input_random_12_40.txt\n",
            "Total weight of minimum spanning tree using Prim's Algorithm: -79741, in 124.993 ns\n",
            "------------------------------------------------------------------------\n",
            "Reading file input_random_13_80.txt\n",
            "Total weight of minimum spanning tree using Prim's Algorithm: -139926, in 256.04 ns\n",
            "------------------------------------------------------------------------\n",
            "Reading file input_random_14_80.txt\n",
            "Total weight of minimum spanning tree using Prim's Algorithm: -198094, in 259.785 ns\n",
            "------------------------------------------------------------------------\n",
            "Reading file input_random_15_80.txt\n",
            "Total weight of minimum spanning tree using Prim's Algorithm: -110571, in 244.494 ns\n",
            "------------------------------------------------------------------------\n",
            "Reading file input_random_16_80.txt\n",
            "Total weight of minimum spanning tree using Prim's Algorithm: -233320, in 266.168 ns\n",
            "------------------------------------------------------------------------\n",
            "Reading file input_random_17_100.txt\n",
            "Total weight of minimum spanning tree using Prim's Algorithm: -141960, in 356.468 ns\n",
            "------------------------------------------------------------------------\n",
            "Reading file input_random_18_100.txt\n",
            "Total weight of minimum spanning tree using Prim's Algorithm: -271743, in 310.002 ns\n",
            "------------------------------------------------------------------------\n",
            "Reading file input_random_19_100.txt\n",
            "Total weight of minimum spanning tree using Prim's Algorithm: -288906, in 334.637 ns\n",
            "------------------------------------------------------------------------\n",
            "Reading file input_random_20_100.txt\n",
            "Total weight of minimum spanning tree using Prim's Algorithm: -229506, in 316.514 ns\n",
            "------------------------------------------------------------------------\n",
            "Reading file input_random_21_200.txt\n",
            "Total weight of minimum spanning tree using Prim's Algorithm: -510185, in 680.835 ns\n",
            "------------------------------------------------------------------------\n",
            "Reading file input_random_22_200.txt\n",
            "Total weight of minimum spanning tree using Prim's Algorithm: -515136, in 685.122 ns\n",
            "------------------------------------------------------------------------\n",
            "Reading file input_random_23_200.txt\n",
            "Total weight of minimum spanning tree using Prim's Algorithm: -444357, in 705.521 ns\n",
            "------------------------------------------------------------------------\n",
            "Reading file input_random_24_200.txt\n",
            "Total weight of minimum spanning tree using Prim's Algorithm: -393278, in 708.363 ns\n",
            "------------------------------------------------------------------------\n",
            "Reading file input_random_25_400.txt\n",
            "Total weight of minimum spanning tree using Prim's Algorithm: -1119906, in 1480.428 ns\n",
            "------------------------------------------------------------------------\n",
            "Reading file input_random_26_400.txt\n",
            "Total weight of minimum spanning tree using Prim's Algorithm: -788168, in 1387.656 ns\n",
            "------------------------------------------------------------------------\n",
            "Reading file input_random_27_400.txt\n",
            "Total weight of minimum spanning tree using Prim's Algorithm: -895704, in 1420.966 ns\n",
            "------------------------------------------------------------------------\n",
            "Reading file input_random_28_400.txt\n",
            "Total weight of minimum spanning tree using Prim's Algorithm: -733645, in 1431.684 ns\n",
            "------------------------------------------------------------------------\n",
            "Reading file input_random_29_800.txt\n",
            "Total weight of minimum spanning tree using Prim's Algorithm: -1541291, in 3443.798 ns\n",
            "------------------------------------------------------------------------\n",
            "Reading file input_random_30_800.txt\n",
            "Total weight of minimum spanning tree using Prim's Algorithm: -1578294, in 3268.283 ns\n",
            "------------------------------------------------------------------------\n",
            "Reading file input_random_31_800.txt\n",
            "Total weight of minimum spanning tree using Prim's Algorithm: -1664316, in 3098.888 ns\n",
            "------------------------------------------------------------------------\n",
            "Reading file input_random_32_800.txt\n",
            "Total weight of minimum spanning tree using Prim's Algorithm: -1652119, in 3192.392 ns\n",
            "------------------------------------------------------------------------\n",
            "Reading file input_random_33_1000.txt\n",
            "Total weight of minimum spanning tree using Prim's Algorithm: -2089013, in 3985.803 ns\n",
            "------------------------------------------------------------------------\n",
            "Reading file input_random_34_1000.txt\n",
            "Total weight of minimum spanning tree using Prim's Algorithm: -1934208, in 4002.1 ns\n",
            "------------------------------------------------------------------------\n",
            "Reading file input_random_35_1000.txt\n",
            "Total weight of minimum spanning tree using Prim's Algorithm: -2229428, in 4692.345 ns\n",
            "------------------------------------------------------------------------\n",
            "Reading file input_random_36_1000.txt\n",
            "Total weight of minimum spanning tree using Prim's Algorithm: -2356163, in 4076.016 ns\n",
            "------------------------------------------------------------------------\n",
            "Reading file input_random_37_2000.txt\n",
            "Total weight of minimum spanning tree using Prim's Algorithm: -4811598, in 9582.072 ns\n",
            "------------------------------------------------------------------------\n",
            "Reading file input_random_38_2000.txt\n",
            "Total weight of minimum spanning tree using Prim's Algorithm: -4739387, in 10067.37 ns\n",
            "------------------------------------------------------------------------\n",
            "Reading file input_random_39_2000.txt\n",
            "Total weight of minimum spanning tree using Prim's Algorithm: -4717250, in 9200.151 ns\n",
            "------------------------------------------------------------------------\n",
            "Reading file input_random_40_2000.txt\n",
            "Total weight of minimum spanning tree using Prim's Algorithm: -4537267, in 10193.205 ns\n",
            "------------------------------------------------------------------------\n",
            "Reading file input_random_41_4000.txt\n",
            "Total weight of minimum spanning tree using Prim's Algorithm: -8722212, in 21110.791 ns\n",
            "------------------------------------------------------------------------\n",
            "Reading file input_random_42_4000.txt\n",
            "Total weight of minimum spanning tree using Prim's Algorithm: -9314968, in 22657.986 ns\n",
            "------------------------------------------------------------------------\n",
            "Reading file input_random_43_4000.txt\n",
            "Total weight of minimum spanning tree using Prim's Algorithm: -9845767, in 20584.149 ns\n",
            "------------------------------------------------------------------------\n",
            "Reading file input_random_44_4000.txt\n",
            "Total weight of minimum spanning tree using Prim's Algorithm: -8681447, in 21306.157 ns\n",
            "------------------------------------------------------------------------\n",
            "Reading file input_random_45_8000.txt\n",
            "Total weight of minimum spanning tree using Prim's Algorithm: -17844628, in 46321.85 ns\n",
            "------------------------------------------------------------------------\n",
            "Reading file input_random_46_8000.txt\n",
            "Total weight of minimum spanning tree using Prim's Algorithm: -18798446, in 48084.12 ns\n",
            "------------------------------------------------------------------------\n",
            "Reading file input_random_47_8000.txt\n",
            "Total weight of minimum spanning tree using Prim's Algorithm: -18741474, in 46261.312 ns\n",
            "------------------------------------------------------------------------\n",
            "Reading file input_random_48_8000.txt\n",
            "Total weight of minimum spanning tree using Prim's Algorithm: -18178610, in 46552.588 ns\n",
            "------------------------------------------------------------------------\n",
            "Reading file input_random_49_10000.txt\n",
            "Total weight of minimum spanning tree using Prim's Algorithm: -22079522, in 57662.438 ns\n",
            "------------------------------------------------------------------------\n",
            "Reading file input_random_50_10000.txt\n",
            "Total weight of minimum spanning tree using Prim's Algorithm: -22338561, in 61411.044 ns\n",
            "------------------------------------------------------------------------\n",
            "Reading file input_random_51_10000.txt\n",
            "Total weight of minimum spanning tree using Prim's Algorithm: -22581384, in 61091.825 ns\n",
            "------------------------------------------------------------------------\n",
            "Reading file input_random_52_10000.txt\n",
            "Total weight of minimum spanning tree using Prim's Algorithm: -22606313, in 59191.947 ns\n",
            "------------------------------------------------------------------------\n",
            "Reading file input_random_53_20000.txt\n",
            "Total weight of minimum spanning tree using Prim's Algorithm: -45962292, in 140958.958 ns\n",
            "------------------------------------------------------------------------\n",
            "Reading file input_random_54_20000.txt\n",
            "Total weight of minimum spanning tree using Prim's Algorithm: -45195405, in 137279.298 ns\n",
            "------------------------------------------------------------------------\n",
            "Reading file input_random_55_20000.txt\n",
            "Total weight of minimum spanning tree using Prim's Algorithm: -47854708, in 146733.406 ns\n",
            "------------------------------------------------------------------------\n",
            "Reading file input_random_56_20000.txt\n",
            "Total weight of minimum spanning tree using Prim's Algorithm: -46418161, in 129477.657 ns\n",
            "------------------------------------------------------------------------\n",
            "Reading file input_random_57_40000.txt\n",
            "Total weight of minimum spanning tree using Prim's Algorithm: -92003321, in 285932.584 ns\n",
            "------------------------------------------------------------------------\n",
            "Reading file input_random_58_40000.txt\n",
            "Total weight of minimum spanning tree using Prim's Algorithm: -94397064, in 279901.341 ns\n",
            "------------------------------------------------------------------------\n",
            "Reading file input_random_59_40000.txt\n",
            "Total weight of minimum spanning tree using Prim's Algorithm: -88771991, in 280360.969 ns\n",
            "------------------------------------------------------------------------\n",
            "Reading file input_random_60_40000.txt\n",
            "Total weight of minimum spanning tree using Prim's Algorithm: -93017025, in 280687.407 ns\n",
            "------------------------------------------------------------------------\n",
            "Reading file input_random_61_80000.txt\n",
            "Total weight of minimum spanning tree using Prim's Algorithm: -186834082, in 625405.7 ns\n",
            "------------------------------------------------------------------------\n",
            "Reading file input_random_62_80000.txt\n",
            "Total weight of minimum spanning tree using Prim's Algorithm: -185997521, in 613919.52 ns\n",
            "------------------------------------------------------------------------\n",
            "Reading file input_random_63_80000.txt\n",
            "Total weight of minimum spanning tree using Prim's Algorithm: -182065015, in 612205.395 ns\n",
            "------------------------------------------------------------------------\n",
            "Reading file input_random_64_80000.txt\n",
            "Total weight of minimum spanning tree using Prim's Algorithm: -180793224, in 629560.388 ns\n",
            "------------------------------------------------------------------------\n",
            "Reading file input_random_65_100000.txt\n",
            "Total weight of minimum spanning tree using Prim's Algorithm: -230698391, in 816266.817 ns\n",
            "------------------------------------------------------------------------\n",
            "Reading file input_random_66_100000.txt\n",
            "Total weight of minimum spanning tree using Prim's Algorithm: -230168572, in 812035.051 ns\n",
            "------------------------------------------------------------------------\n",
            "Reading file input_random_67_100000.txt\n",
            "Total weight of minimum spanning tree using Prim's Algorithm: -231393935, in 809888.355 ns\n",
            "------------------------------------------------------------------------\n",
            "Reading file input_random_68_100000.txt\n",
            "Total weight of minimum spanning tree using Prim's Algorithm: -231011693, in 801189.29 ns\n"
          ]
        }
      ]
    },
    {
      "cell_type": "markdown",
      "source": [
        "# Plotting the results"
      ],
      "metadata": {
        "id": "SXPAKaA87yM2"
      }
    },
    {
      "cell_type": "markdown",
      "source": [
        "In this section we plot our results, and compare the algorithm with its complexity in big O notation. "
      ],
      "metadata": {
        "id": "hZBMeKs4728T"
      }
    },
    {
      "cell_type": "code",
      "source": [
        "tuples = []\n",
        "for size,runtime in zip(sizes,run_times):\n",
        "  tuples.append((size,runtime)) # here we store the sorted sizes and the respective running times\n",
        "tuples.sort(key=lambda y:y[0])"
      ],
      "metadata": {
        "id": "eIaJEqCDwvaW"
      },
      "execution_count": null,
      "outputs": []
    },
    {
      "cell_type": "code",
      "execution_count": null,
      "metadata": {
        "colab": {
          "base_uri": "https://localhost:8080/"
        },
        "id": "G6RRMyPK769l",
        "outputId": "e1c26de1-d065-46c8-bd74-ce016c9b9e15"
      },
      "outputs": [
        {
          "output_type": "stream",
          "name": "stdout",
          "text": [
            "Size\tTime(ns)\n",
            "--------------------\n",
            "10\t21.594\n",
            "10\t24.743\n",
            "10\t26.939\n",
            "10\t23.658\n",
            "20\t56.47\n",
            "20\t54.079\n",
            "20\t62.485\n",
            "20\t57.65\n",
            "40\t127.845\n",
            "40\t116.901\n",
            "40\t118.263\n",
            "40\t124.993\n",
            "80\t256.04\n",
            "80\t259.785\n",
            "80\t244.494\n",
            "80\t266.168\n",
            "100\t356.468\n",
            "100\t310.002\n",
            "100\t334.637\n",
            "100\t316.514\n",
            "200\t680.835\n",
            "200\t685.122\n",
            "200\t705.521\n",
            "200\t708.363\n",
            "400\t1480.428\n",
            "400\t1387.656\n",
            "400\t1420.966\n",
            "400\t1431.684\n",
            "800\t3443.798\n",
            "800\t3268.283\n",
            "800\t3098.888\n",
            "800\t3192.392\n",
            "1000\t3985.803\n",
            "1000\t4002.1\n",
            "1000\t4692.345\n",
            "1000\t4076.016\n",
            "2000\t9582.072\n",
            "2000\t10067.37\n",
            "2000\t9200.151\n",
            "2000\t10193.205\n",
            "4000\t21110.791\n",
            "4000\t22657.986\n",
            "4000\t20584.149\n",
            "4000\t21306.157\n",
            "8000\t46321.85\n",
            "8000\t48084.12\n",
            "8000\t46261.312\n",
            "8000\t46552.588\n",
            "10000\t57662.438\n",
            "10000\t61411.044\n",
            "10000\t61091.825\n",
            "10000\t59191.947\n",
            "20000\t140958.958\n",
            "20000\t137279.298\n",
            "20000\t146733.406\n",
            "20000\t129477.657\n",
            "40000\t285932.584\n",
            "40000\t279901.341\n",
            "40000\t280360.969\n",
            "40000\t280687.407\n",
            "80000\t625405.7\n",
            "80000\t613919.52\n",
            "80000\t612205.395\n",
            "80000\t629560.388\n",
            "100000\t816266.817\n",
            "100000\t812035.051\n",
            "100000\t809888.355\n",
            "100000\t801189.29\n",
            "--------------------\n"
          ]
        }
      ],
      "source": [
        "print(\"Size\\tTime(ns)\")\n",
        "print(20*\"-\")\n",
        "for i in range(len(sizes)):\n",
        "  print(tuples[i][0], tuples[i][1], sep=\"\\t\")\n",
        "print(20*\"-\")"
      ]
    },
    {
      "cell_type": "markdown",
      "source": [
        "Prim's algorithm's complexity with the heap has a complexity of \n",
        " **O(*m*log *n*)**, where m is the number of edges and n is the number of vertices. \n",
        "T(N) = c* m *logN, so we can find our coefficient estimate by dividing the running time by m * logN"
      ],
      "metadata": {
        "id": "G9boGeoGH3HX"
      }
    },
    {
      "cell_type": "code",
      "execution_count": null,
      "metadata": {
        "colab": {
          "base_uri": "https://localhost:8080/"
        },
        "id": "w1TwraySv3aF",
        "outputId": "d01450e9-d3ad-4640-a1cd-7168f31b70aa"
      },
      "outputs": [
        {
          "output_type": "stream",
          "name": "stdout",
          "text": [
            "          \n",
            "  SIZE    TIME        CONSTANT  RATIO  \n",
            "    \n",
            "  10      21.594      1.042     None   \n",
            "  10      24.743      0.977     1.146  \n",
            "  10      26.939      0.9       1.089  \n",
            "  10      23.658      1.027     0.878  \n",
            "  20      56.47       0.785     2.387  \n",
            "  20      54.079      0.752     0.958  \n",
            "  20      62.485      0.745     1.155  \n",
            "  20      57.65       0.74      0.923  \n",
            "  40      127.845     0.619     2.218  \n",
            "  40      116.901     0.634     0.914  \n",
            "  40      118.263     0.641     1.012  \n",
            "  40      124.993     0.652     1.057  \n",
            "  80      256.04      0.541     2.048  \n",
            "  80      259.785     0.599     1.015  \n",
            "  80      244.494     0.536     0.941  \n",
            "  80      266.168     0.533     1.089  \n",
            "  100     356.468     0.569     1.339  \n",
            "  100     310.002     0.522     0.87   \n",
            "  100     334.637     0.53      1.079  \n",
            "  100     316.514     0.521     0.946  \n",
            "  200     680.835     0.481     2.151  \n",
            "  200     685.122     0.481     1.006  \n",
            "  200     705.521     0.495     1.03   \n",
            "  200     708.363     0.501     1.004  \n",
            "  400     1480.428    0.458     2.09   \n",
            "  400     1387.656    0.447     0.937  \n",
            "  400     1420.966    0.441     1.024  \n",
            "  400     1431.684    0.454     1.008  \n",
            "  800     3443.798    0.485     2.405  \n",
            "  800     3268.283    0.462     0.949  \n",
            "  800     3098.888    0.431     0.948  \n",
            "  800     3192.392    0.455     1.03   \n",
            "  1000    3985.803    0.444     1.249  \n",
            "  1000    4002.1      0.441     1.004  \n",
            "  1000    4692.345    0.512     1.172  \n",
            "  1000    4076.016    0.439     0.869  \n",
            "  2000    9582.072    0.467     2.351  \n",
            "  2000    10067.37    0.499     1.051  \n",
            "  2000    9200.151    0.456     0.914  \n",
            "  2000    10193.205   0.501     1.108  \n",
            "  4000    21110.791   0.475     2.071  \n",
            "  4000    22657.986   0.514     1.073  \n",
            "  4000    20584.149   0.465     0.908  \n",
            "  4000    21306.157   0.479     1.035  \n",
            "  8000    46321.85    0.481     2.174  \n",
            "  8000    48084.12    0.501     1.038  \n",
            "  8000    46261.312   0.483     0.962  \n",
            "  8000    46552.588   0.482     1.006  \n",
            "  10000   57662.438   0.471     1.239  \n",
            "  10000   61411.044   0.5       1.065  \n",
            "  10000   61091.825   0.499     0.995  \n",
            "  10000   59191.947   0.483     0.969  \n",
            "  20000   140958.958  0.534     2.381  \n",
            "  20000   137279.298  0.517     0.974  \n",
            "  20000   146733.406  0.555     1.069  \n",
            "  20000   129477.657  0.49      0.882  \n",
            "  40000   285932.584  0.505     2.208  \n",
            "  40000   279901.341  0.494     0.979  \n",
            "  40000   280360.969  0.497     1.002  \n",
            "  40000   280687.407  0.497     1.001  \n",
            "  80000   625405.7    0.518     2.228  \n",
            "  80000   613919.52   0.51      0.982  \n",
            "  80000   612205.395  0.509     0.997  \n",
            "  80000   629560.388  0.523     1.028  \n",
            "  100000  816266.817  0.532     1.297  \n",
            "  100000  812035.051  0.529     0.995  \n",
            "  100000  809888.355  0.527     0.997  \n",
            "  100000  801189.29   0.521     0.989  \n",
            "\n"
          ]
        }
      ],
      "source": [
        "sorted_sizes = list(zip(*tuples))[0]\n",
        "sorted_runtimes = list(zip(*tuples))[1]\n",
        "ratios = [None] + [round(tuples[i+1][1]/tuples[i][1],3) for i in range(len(sizes)-1)]\n",
        "c_estimates = [round(run_time/(m*math.log(n)),3) for run_time,m,n in zip(sorted_runtimes,num_edges,sorted_sizes)]\n",
        "headers = [\"Size\",\"Time\",\"Constant\",\"Ratio\"]\n",
        "data=[]\n",
        "for i in range(len(sizes)):\n",
        "  data.append([tuples[i][0], tuples[i][1], c_estimates[i], ratios[i]]) \n",
        "table = columnar(data,headers, no_borders= True)\n",
        "print(table)"
      ]
    },
    {
      "cell_type": "markdown",
      "source": [
        "To plot our algorithm's performance, let's take the average value of c_estimates"
      ],
      "metadata": {
        "id": "h6XPSCSt8xgh"
      }
    },
    {
      "cell_type": "code",
      "source": [
        "c = sum(c_estimates)/len(c_estimates)\n",
        "c "
      ],
      "metadata": {
        "id": "x_a0U96rmAF5",
        "colab": {
          "base_uri": "https://localhost:8080/"
        },
        "outputId": "47de376a-a1cb-4859-b2e7-1e8e68a24f67"
      },
      "execution_count": null,
      "outputs": [
        {
          "output_type": "execute_result",
          "data": {
            "text/plain": [
              "0.5486176470588234"
            ]
          },
          "metadata": {},
          "execution_count": 17
        }
      ]
    },
    {
      "cell_type": "markdown",
      "source": [
        "Let's plot the algorithm both in normal scale and in logarithmic scale. We can observe how the orange line, which stands for the O(mlogn) complexity, behaves as an asymptote for our implementation of Prim's, which is stressed even further in the logarithmic scale. "
      ],
      "metadata": {
        "id": "jKvxiD9X9A03"
      }
    },
    {
      "cell_type": "code",
      "source": [
        "reference = [c*m*math.log(n) for n,m in zip(sorted_sizes,num_edges)]\n",
        "plt.plot(sorted_sizes, sorted_runtimes)\n",
        "plt.plot(sorted_sizes, reference)\n",
        "plt.legend([\"Prim's algorithm\", \"c*m*log(n)\"])\n",
        "plt.ylabel('run time (ns)')\n",
        "plt.xlabel('size')\n",
        "plt.savefig('prim_plot.png', dpi=300)\n",
        "plt.show()"
      ],
      "metadata": {
        "colab": {
          "base_uri": "https://localhost:8080/",
          "height": 279
        },
        "id": "aDRx9LcZEuJx",
        "outputId": "22859504-090e-4f4c-ea27-842dd3608290"
      },
      "execution_count": null,
      "outputs": [
        {
          "output_type": "display_data",
          "data": {
            "text/plain": [
              "<Figure size 432x288 with 1 Axes>"
            ],
            "image/png": "[encoded data removed]"
          },
          "metadata": {
            "needs_background": "light"
          }
        }
      ]
    },
    {
      "cell_type": "code",
      "execution_count": null,
      "metadata": {
        "colab": {
          "base_uri": "https://localhost:8080/",
          "height": 279
        },
        "id": "uDDqtFqZvuBO",
        "outputId": "0e95848f-22ed-4626-c349-91840a16cd1d"
      },
      "outputs": [
        {
          "output_type": "display_data",
          "data": {
            "text/plain": [
              "<Figure size 432x288 with 1 Axes>"
            ],
            "image/png": "[encoded data removed]"
          },
          "metadata": {
            "needs_background": "light"
          }
        }
      ],
      "source": [
        "plt.plot(sorted_sizes, sorted_runtimes)\n",
        "plt.yscale(\"log\")\n",
        "plt.plot(sorted_sizes, reference)\n",
        "plt.legend([\"Prim's algorithm\", \"c*m*log(n)\"])\n",
        "plt.ylabel('run time (ns)')\n",
        "plt.xlabel('size')\n",
        "plt.savefig('prim_plot_logarithmic.png', dpi=300)\n",
        "plt.show()"
      ]
    }
  ],
  "metadata": {
    "colab": {
      "collapsed_sections": [
        "qD9nJsi73IAC"
      ],
      "name": "Prim's_Algorithm.ipynb",
      "provenance": []
    },
    "kernelspec": {
      "display_name": "Python 3",
      "name": "python3"
    },
    "language_info": {
      "name": "python"
    }
  },
  "nbformat": 4,
  "nbformat_minor": 0
}
