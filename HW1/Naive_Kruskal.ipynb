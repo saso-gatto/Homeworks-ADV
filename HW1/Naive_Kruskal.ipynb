{
  "cells": [
    {
      "cell_type": "markdown",
      "metadata": {
        "id": "A3dvUo-Iz6wD"
      },
      "source": [
        "# Imports\n",
        "\n"
      ]
    },
    {
      "cell_type": "code",
      "execution_count": 2,
      "metadata": {
        "colab": {
          "base_uri": "https://localhost:8080/"
        },
        "id": "oI2OurybwM81",
        "outputId": "316294d3-4b43-45fb-bcc0-7254dcfbe317"
      },
      "outputs": [
        {
          "name": "stdout",
          "output_type": "stream",
          "text": [
            "Collecting columnar\n",
            "  Downloading Columnar-1.4.1-py3-none-any.whl (11 kB)\n",
            "Requirement already satisfied: wcwidth in /usr/local/lib/python3.7/dist-packages (from columnar) (0.2.5)\n",
            "Requirement already satisfied: toolz in /usr/local/lib/python3.7/dist-packages (from columnar) (0.11.2)\n",
            "Installing collected packages: columnar\n",
            "Successfully installed columnar-1.4.1\n"
          ]
        }
      ],
      "source": [
        "pip install columnar #package to print table of data "
      ]
    },
    {
      "cell_type": "code",
      "execution_count": 3,
      "metadata": {
        "id": "2TpUl7iDD8Rw"
      },
      "outputs": [],
      "source": [
        "from collections import defaultdict\n",
        "import sys\n",
        "import math\n",
        "import time\n",
        "import heapq\n",
        "import gc\n",
        "import zipfile\n",
        "from time import perf_counter_ns\n",
        "import os\n",
        "import matplotlib.pyplot as plt\n",
        "from columnar import columnar\n"
      ]
    },
    {
      "cell_type": "code",
      "execution_count": 4,
      "metadata": {
        "colab": {
          "base_uri": "https://localhost:8080/"
        },
        "id": "u8ztBEn2noYM",
        "outputId": "d8848921-5ba8-4b7f-a066-05e266fed6a3"
      },
      "outputs": [
        {
          "name": "stdout",
          "output_type": "stream",
          "text": [
            "Mounted at /content/drive\n"
          ]
        }
      ],
      "source": [
        "from google.colab import drive\n",
        "drive.mount('/content/drive')"
      ]
    },
    {
      "cell_type": "code",
      "execution_count": 5,
      "metadata": {
        "id": "AsY343bAmG50"
      },
      "outputs": [],
      "source": [
        "with zipfile.ZipFile('/content/drive/MyDrive/mst_dataset.zip', 'r') as zip_ref:\n",
        "\n",
        "     zip_ref.extractall('/content/')"
      ]
    },
    {
      "cell_type": "markdown",
      "metadata": {
        "id": "hb3ZngYLz5n3"
      },
      "source": [
        "# Classes and handy functions"
      ]
    },
    {
      "cell_type": "markdown",
      "metadata": {
        "id": "JvdJRbeL0EiX"
      },
      "source": [
        "In this section we define some useful classes and functions for our algorithm implementations."
      ]
    },
    {
      "cell_type": "code",
      "execution_count": 6,
      "metadata": {
        "id": "1WTU5Nr40YWq"
      },
      "outputs": [],
      "source": [
        "class Graph():\n",
        "  def __init__ (self):\n",
        "    self.V=[]\n",
        "    self.E=[]\n",
        "    self.adjacency_list = defaultdict(list)\n",
        "\n",
        "  def add_vertex(self,v):\n",
        "    self.V.append(v)\n",
        "\n",
        "  def remove_vertex (self,v):\n",
        "    self.V.remove(v)\n",
        "\n",
        "  def add_edge(self, source_node, destination_node, weight):\n",
        "    # First case\n",
        "    # We add the source and the destination node only if the are not already present\n",
        "    if (source_node not in self.V):\n",
        "      self.V.append(source_node)\n",
        "    \n",
        "    if (destination_node not in self.V):\n",
        "      self.V.append(destination_node)\n",
        "    \n",
        "    # Now we can add the edge\n",
        "    edge = (source_node, destination_node, weight)\n",
        "    self.E.append(edge)\n",
        "\n",
        "    # Now we update the graph\n",
        "    self.adjacency_list[source_node].append((destination_node,weight))\n",
        "    if (source_node != destination_node):\n",
        "      self.adjacency_list[destination_node].append((source_node,weight))\n",
        "  \n",
        "  def get_edges(self):\n",
        "    return self.E\n",
        "\n",
        "  def get_vertices(self):\n",
        "    return self.V\n",
        "  \n",
        "  def get_value(self,key):\n",
        "    return self.adjacency_list[key]\n",
        "\n",
        "  def sort_edges(self):\n",
        "    self.E.sort(key=lambda x:x[2])\n",
        "\n",
        "  def print_data(self):\n",
        "    print(self.adjacency_list.items())"
      ]
    },
    {
      "cell_type": "code",
      "execution_count": 7,
      "metadata": {
        "id": "IloBa0s4zRXt"
      },
      "outputs": [],
      "source": [
        "def read_input_graph(filepath):\n",
        "  f = open(filepath, \"r\")\n",
        "  lines = f.readlines()\n",
        "  for index, line in enumerate (lines):\n",
        "    text = line.strip()\n",
        "    text_splitted = text.split(\" \")\n",
        "    if (index==0):\n",
        "      graph = Graph()\n",
        "      size = text_splitted[0]\n",
        "    else:\n",
        "      graph.add_edge(int(text_splitted[0]),int(text_splitted[1]),int(text_splitted[2]))\n",
        "  f.close()\n",
        "  return graph,int(size)"
      ]
    },
    {
      "cell_type": "code",
      "execution_count": 8,
      "metadata": {
        "id": "XbbbphWABNwN"
      },
      "outputs": [],
      "source": [
        "def read_input_times(filepath):\n",
        "  f = open(filepath, \"r\")\n",
        "  lines = f.readlines()\n",
        "  sizes = []\n",
        "  times = []\n",
        "  for index, line in enumerate (lines):\n",
        "    text = line.strip()\n",
        "    text_splitted = text.split(\" \")\n",
        "    sizes.append(int(text_splitted[0]))\n",
        "    times.append(int(text_splitted[1]))\n",
        "  return times,sizes"
      ]
    },
    {
      "cell_type": "code",
      "execution_count": 9,
      "metadata": {
        "id": "wXEhDUU4zt0O"
      },
      "outputs": [],
      "source": [
        "def read_input_data(filepath):\n",
        "  f = open(filepath, \"r\")\n",
        "  lines = f.readlines()\n",
        "  num_verteces = []\n",
        "  num_edges = []\n",
        "  for index, line in enumerate (lines):\n",
        "    text = line.strip()\n",
        "    text_splitted = text.split(\" \")\n",
        "    num_verteces.append(int(text_splitted[0]))\n",
        "    num_edges.append(int(text_splitted[1]))\n",
        "  return num_verteces,num_edges"
      ]
    },
    {
      "cell_type": "markdown",
      "metadata": {
        "id": "BxSNCSErPBxu"
      },
      "source": [
        "# Naive Kruscal's Algorithm"
      ]
    },
    {
      "cell_type": "markdown",
      "metadata": {
        "id": "XV41QjlRP4n2"
      },
      "source": [
        "The method *is_acyclic* verifies if there exists a path between the source node and the destination node. To check the condition, it calls the method exists_path.\n",
        "To iterate the graph, the method *exists_path* calls the function *dfs*. \n",
        "\n",
        "The function *dfs* does a Depth First Search in the graph G."
      ]
    },
    {
      "cell_type": "code",
      "execution_count": 10,
      "metadata": {
        "id": "hcMTuecADR9Q"
      },
      "outputs": [],
      "source": [
        "def is_acyclic(A,source_node,destination_node):\n",
        "  if (source_node!=destination_node):\n",
        "    if (source_node not in A.V or destination_node not in A.V):\n",
        "      return True\n",
        "    elif (not exists_path(A,source_node,destination_node)):\n",
        "      return True\n",
        "    else:\n",
        "      return False\n",
        "  else:\n",
        "    return False"
      ]
    },
    {
      "cell_type": "code",
      "execution_count": 11,
      "metadata": {
        "id": "BFdEt3EhBOmA"
      },
      "outputs": [],
      "source": [
        "def exists_path(G,source_node,destination_node):\n",
        "  visited = [False]*(len(G.V)+1)\n",
        "  if (source_node==destination_node):\n",
        "    return True\n",
        "  result = dfs(G, source_node, destination_node, visited)\n",
        "  return result"
      ]
    },
    {
      "cell_type": "code",
      "execution_count": 12,
      "metadata": {
        "id": "OK6ak7MhBosA"
      },
      "outputs": [],
      "source": [
        "def dfs(G, current_node, destination_node, visited):\n",
        "  if destination_node == current_node:\n",
        "    return True\n",
        "  visited[current_node] = True\n",
        "  for neighbour in G.get_value(current_node):\n",
        "    # neighbour is a tuple which has two value, the first is the destination and the second is the weight\n",
        "    next_node = neighbour[0]\n",
        "    if (visited[next_node]==False and dfs(G,next_node,destination_node,visited)):\n",
        "      return True\n",
        "  return False"
      ]
    },
    {
      "cell_type": "code",
      "execution_count": 13,
      "metadata": {
        "id": "Rhfaf2GlDq1s"
      },
      "outputs": [],
      "source": [
        "def KruskalMST(G):\n",
        "  A = Graph() #A is empty\n",
        "  A.V = [None]*(len(G.V)+1) # We initialize A to the size of G.\n",
        "  sorted_edges= G.E\n",
        "  sorted_edges.sort(key=lambda x:x[2]) # Sort the edges according to the weight.\n",
        "  for edge in sorted_edges:\n",
        "    if (is_acyclic(A,edge[0],edge[1])):\n",
        "      src = edge[0]\n",
        "      dest = edge[1]\n",
        "      weight = edge[2]\n",
        "      A.add_edge(src,dest,weight)\n",
        "  return A"
      ]
    },
    {
      "cell_type": "markdown",
      "metadata": {
        "id": "k2A3f-T5k-jI"
      },
      "source": [
        "# Measuring the algorithm's complexity"
      ]
    },
    {
      "cell_type": "code",
      "execution_count": 14,
      "metadata": {
        "id": "FzmiX00j1xHO"
      },
      "outputs": [],
      "source": [
        "def measure_run_time(num_iterations,input_directory,weights):\n",
        "  sum_times = 0.0\n",
        "  i = 0\n",
        "  sizes = []\n",
        "  run_times = []\n",
        "  for file in sorted(os.listdir(input_directory)):\n",
        "    print(\"------------------------------------------------------------------------\")\n",
        "    file_path = f\"{input_directory}/{file}\"\n",
        "    graph,size = read_input_graph(file_path)\n",
        "    gc.disable() \n",
        "    start_time = perf_counter_ns() \n",
        "    mst = KruskalMST(graph)\n",
        "    end_time = perf_counter_ns()\n",
        "    weight = compute_weight(mst)\n",
        "    weights.append(weight)\n",
        "    total_time = end_time-start_time\n",
        "    run_times.append(total_time)\n",
        "    print(f\"Total weight of minimum spanning tree using Naive Kruskal Algorithm is: {weight}, in {total_time}\")\n",
        "    sizes.append(size)\n",
        "    gc.enable()\n",
        "    i +=1\n",
        "\n",
        "  # return running time in nanoseconds\n",
        "  return run_times,sizes"
      ]
    },
    {
      "cell_type": "markdown",
      "metadata": {
        "id": "DcH6OadBUx2f"
      },
      "source": [
        "The method *compute_weight* computes the weight of the graph which is given as parameter. \n",
        "\n",
        "The method iterates the graph and keeps inside the vector *edges_checked* the edges for the which we have already saved the weight. If an edge is not inside *edges_checked*, it takes its weight.\n",
        "As final step, it return the total weight of the graph."
      ]
    },
    {
      "cell_type": "code",
      "execution_count": 15,
      "metadata": {
        "id": "1zzmKM0G1xnU"
      },
      "outputs": [],
      "source": [
        "def compute_weight(G):\n",
        "  weight = 0\n",
        "  edges_checked = []\n",
        "  for v in (G.get_vertices()):\n",
        "    for neighbour in (G.get_value(v)):\n",
        "      edge_to_check = (v,neighbour[0])\n",
        "      edge_to_check_inv = (neighbour[0],v)\n",
        "      if (edge_to_check not in edges_checked):\n",
        "        edges_checked.append(edge_to_check)\n",
        "        edges_checked.append(edge_to_check_inv)\n",
        "        weight+=neighbour[1]\n",
        "  return weight"
      ]
    },
    {
      "cell_type": "code",
      "execution_count": null,
      "metadata": {
        "colab": {
          "background_save": true,
          "base_uri": "https://localhost:8080/"
        },
        "id": "VsemcW6c10pm",
        "outputId": "0842a4ec-4199-469b-a32b-6083e437172b"
      },
      "outputs": [
        {
          "name": "stdout",
          "output_type": "stream",
          "text": [
            "------------------------------------------------------------------------\n",
            "Reading file input_random_01_10.txt\n",
            "Total weight of minimum spanning tree using Naive Kruskal Algorithm is: 29316, in 67700\n",
            "------------------------------------------------------------------------\n",
            "Reading file input_random_02_10.txt\n",
            "Total weight of minimum spanning tree using Naive Kruskal Algorithm is: 16940, in 73100\n",
            "------------------------------------------------------------------------\n",
            "Reading file input_random_03_10.txt\n",
            "Total weight of minimum spanning tree using Naive Kruskal Algorithm is: -44448, in 67500\n",
            "------------------------------------------------------------------------\n",
            "Reading file input_random_04_10.txt\n",
            "Total weight of minimum spanning tree using Naive Kruskal Algorithm is: 25217, in 57400\n",
            "------------------------------------------------------------------------\n",
            "Reading file input_random_05_20.txt\n",
            "Total weight of minimum spanning tree using Naive Kruskal Algorithm is: -32021, in 159100\n",
            "------------------------------------------------------------------------\n",
            "Reading file input_random_06_20.txt\n",
            "Total weight of minimum spanning tree using Naive Kruskal Algorithm is: 25130, in 147500\n",
            "------------------------------------------------------------------------\n",
            "Reading file input_random_07_20.txt\n",
            "Total weight of minimum spanning tree using Naive Kruskal Algorithm is: -41693, in 218500\n",
            "------------------------------------------------------------------------\n",
            "Reading file input_random_08_20.txt\n",
            "Total weight of minimum spanning tree using Naive Kruskal Algorithm is: -37205, in 164500\n",
            "------------------------------------------------------------------------\n",
            "Reading file input_random_09_40.txt\n",
            "Total weight of minimum spanning tree using Naive Kruskal Algorithm is: -114203, in 873500\n",
            "------------------------------------------------------------------------\n",
            "Reading file input_random_10_40.txt\n",
            "Total weight of minimum spanning tree using Naive Kruskal Algorithm is: -31929, in 627600\n",
            "------------------------------------------------------------------------\n",
            "Reading file input_random_11_40.txt\n",
            "Total weight of minimum spanning tree using Naive Kruskal Algorithm is: -79570, in 1049000\n",
            "------------------------------------------------------------------------\n",
            "Reading file input_random_12_40.txt\n",
            "Total weight of minimum spanning tree using Naive Kruskal Algorithm is: -79741, in 1180600\n",
            "------------------------------------------------------------------------\n",
            "Reading file input_random_13_80.txt\n",
            "Total weight of minimum spanning tree using Naive Kruskal Algorithm is: -139926, in 2625700\n",
            "------------------------------------------------------------------------\n",
            "Reading file input_random_14_80.txt\n",
            "Total weight of minimum spanning tree using Naive Kruskal Algorithm is: -198094, in 2028400\n",
            "------------------------------------------------------------------------\n",
            "Reading file input_random_15_80.txt\n",
            "Total weight of minimum spanning tree using Naive Kruskal Algorithm is: -110571, in 2681600\n",
            "------------------------------------------------------------------------\n",
            "Reading file input_random_16_80.txt\n",
            "Total weight of minimum spanning tree using Naive Kruskal Algorithm is: -233320, in 2915600\n",
            "------------------------------------------------------------------------\n",
            "Reading file input_random_17_100.txt\n",
            "Total weight of minimum spanning tree using Naive Kruskal Algorithm is: -141960, in 5969600\n",
            "------------------------------------------------------------------------\n",
            "Reading file input_random_18_100.txt\n",
            "Total weight of minimum spanning tree using Naive Kruskal Algorithm is: -271743, in 3181000\n",
            "------------------------------------------------------------------------\n",
            "Reading file input_random_19_100.txt\n",
            "Total weight of minimum spanning tree using Naive Kruskal Algorithm is: -288906, in 3580300\n",
            "------------------------------------------------------------------------\n",
            "Reading file input_random_20_100.txt\n",
            "Total weight of minimum spanning tree using Naive Kruskal Algorithm is: -229506, in 5443400\n",
            "------------------------------------------------------------------------\n",
            "Reading file input_random_21_200.txt\n",
            "Total weight of minimum spanning tree using Naive Kruskal Algorithm is: -510185, in 23362500\n",
            "------------------------------------------------------------------------\n",
            "Reading file input_random_22_200.txt\n",
            "Total weight of minimum spanning tree using Naive Kruskal Algorithm is: -515136, in 13650200\n",
            "------------------------------------------------------------------------\n",
            "Reading file input_random_23_200.txt\n",
            "Total weight of minimum spanning tree using Naive Kruskal Algorithm is: -444357, in 53801000\n",
            "------------------------------------------------------------------------\n",
            "Reading file input_random_24_200.txt\n",
            "Total weight of minimum spanning tree using Naive Kruskal Algorithm is: -393278, in 22254800\n",
            "------------------------------------------------------------------------\n",
            "Reading file input_random_25_400.txt\n",
            "Total weight of minimum spanning tree using Naive Kruskal Algorithm is: -1119906, in 64298700\n",
            "------------------------------------------------------------------------\n",
            "Reading file input_random_26_400.txt\n",
            "Total weight of minimum spanning tree using Naive Kruskal Algorithm is: -788168, in 53914500\n",
            "------------------------------------------------------------------------\n",
            "Reading file input_random_27_400.txt\n",
            "Total weight of minimum spanning tree using Naive Kruskal Algorithm is: -895704, in 76067100\n",
            "------------------------------------------------------------------------\n",
            "Reading file input_random_28_400.txt\n",
            "Total weight of minimum spanning tree using Naive Kruskal Algorithm is: -733645, in 49103600\n",
            "------------------------------------------------------------------------\n",
            "Reading file input_random_29_800.txt\n",
            "Total weight of minimum spanning tree using Naive Kruskal Algorithm is: -1541291, in 227401400\n",
            "------------------------------------------------------------------------\n",
            "Reading file input_random_30_800.txt\n",
            "Total weight of minimum spanning tree using Naive Kruskal Algorithm is: -1578294, in 231357000\n",
            "------------------------------------------------------------------------\n",
            "Reading file input_random_31_800.txt\n",
            "Total weight of minimum spanning tree using Naive Kruskal Algorithm is: -1664316, in 192820200\n",
            "------------------------------------------------------------------------\n",
            "Reading file input_random_32_800.txt\n",
            "Total weight of minimum spanning tree using Naive Kruskal Algorithm is: -1652119, in 175729900\n",
            "------------------------------------------------------------------------\n",
            "Reading file input_random_33_1000.txt\n",
            "Total weight of minimum spanning tree using Naive Kruskal Algorithm is: -2089013, in 274804000\n",
            "------------------------------------------------------------------------\n",
            "Reading file input_random_34_1000.txt\n",
            "Total weight of minimum spanning tree using Naive Kruskal Algorithm is: -1934208, in 281717000\n",
            "------------------------------------------------------------------------\n",
            "Reading file input_random_35_1000.txt\n",
            "Total weight of minimum spanning tree using Naive Kruskal Algorithm is: -2229428, in 309225700\n",
            "------------------------------------------------------------------------\n",
            "Reading file input_random_36_1000.txt\n",
            "Total weight of minimum spanning tree using Naive Kruskal Algorithm is: -2356163, in 344536200\n",
            "------------------------------------------------------------------------\n",
            "Reading file input_random_37_2000.txt\n",
            "Total weight of minimum spanning tree using Naive Kruskal Algorithm is: -4811598, in 1258307000\n",
            "------------------------------------------------------------------------\n",
            "Reading file input_random_38_2000.txt\n",
            "Total weight of minimum spanning tree using Naive Kruskal Algorithm is: -4739387, in 1698233000\n",
            "------------------------------------------------------------------------\n",
            "Reading file input_random_39_2000.txt\n",
            "Total weight of minimum spanning tree using Naive Kruskal Algorithm is: -4717250, in 1010170100\n",
            "------------------------------------------------------------------------\n",
            "Reading file input_random_40_2000.txt\n",
            "Total weight of minimum spanning tree using Naive Kruskal Algorithm is: -4537267, in 1847364900\n",
            "------------------------------------------------------------------------\n",
            "Reading file input_random_41_4000.txt\n",
            "Total weight of minimum spanning tree using Naive Kruskal Algorithm is: -8722212, in 5367858400\n",
            "------------------------------------------------------------------------\n",
            "Reading file input_random_42_4000.txt\n",
            "Total weight of minimum spanning tree using Naive Kruskal Algorithm is: -9314968, in 4436053000\n",
            "------------------------------------------------------------------------\n",
            "Reading file input_random_43_4000.txt\n",
            "Total weight of minimum spanning tree using Naive Kruskal Algorithm is: -9845767, in 7195264600\n",
            "------------------------------------------------------------------------\n",
            "Reading file input_random_44_4000.txt\n",
            "Total weight of minimum spanning tree using Naive Kruskal Algorithm is: -8681447, in 8431494800\n",
            "------------------------------------------------------------------------\n",
            "Reading file input_random_45_8000.txt\n",
            "Total weight of minimum spanning tree using Naive Kruskal Algorithm is: -17844628, in 21684315700\n",
            "------------------------------------------------------------------------\n",
            "Reading file input_random_46_8000.txt\n",
            "Total weight of minimum spanning tree using Naive Kruskal Algorithm is: -18798446, in 17636265300\n",
            "------------------------------------------------------------------------\n",
            "Reading file input_random_47_8000.txt\n",
            "Total weight of minimum spanning tree using Naive Kruskal Algorithm is: -18741474, in 19352986400\n",
            "------------------------------------------------------------------------\n",
            "Reading file input_random_48_8000.txt\n",
            "Total weight of minimum spanning tree using Naive Kruskal Algorithm is: -18178610, in 23460017300\n",
            "------------------------------------------------------------------------\n",
            "Reading file input_random_49_10000.txt\n",
            "Total weight of minimum spanning tree using Naive Kruskal Algorithm is: -22079522, in 33874352600\n",
            "------------------------------------------------------------------------\n",
            "Reading file input_random_50_10000.txt\n",
            "Total weight of minimum spanning tree using Naive Kruskal Algorithm is: -22338561, in 35317255500\n",
            "------------------------------------------------------------------------\n",
            "Reading file input_random_51_10000.txt\n",
            "Total weight of minimum spanning tree using Naive Kruskal Algorithm is: -22581384, in 46120617700\n",
            "------------------------------------------------------------------------\n",
            "Reading file input_random_52_10000.txt\n",
            "Total weight of minimum spanning tree using Naive Kruskal Algorithm is: -22606313, in 39750045700\n",
            "------------------------------------------------------------------------\n",
            "Reading file input_random_53_20000.txt\n",
            "Total weight of minimum spanning tree using Naive Kruskal Algorithm is: -45962292, in 188494193500\n",
            "------------------------------------------------------------------------\n",
            "Reading file input_random_54_20000.txt\n",
            "Total weight of minimum spanning tree using Naive Kruskal Algorithm is: -45195405, in 191470755100\n",
            "------------------------------------------------------------------------\n",
            "Reading file input_random_55_20000.txt\n",
            "Total weight of minimum spanning tree using Naive Kruskal Algorithm is: -47854708, in 178664701200\n",
            "------------------------------------------------------------------------\n",
            "Reading file input_random_56_20000.txt\n",
            "Total weight of minimum spanning tree using Naive Kruskal Algorithm is: -46418161, in 180565205200\n",
            "------------------------------------------------------------------------\n",
            "Reading file input_random_57_40000.txt\n",
            "Total weight of minimum spanning tree using Naive Kruskal Algorithm is: -92003321, in 762544720500\n",
            "------------------------------------------------------------------------\n",
            "Reading file input_random_58_40000.txt\n",
            "Total weight of minimum spanning tree using Naive Kruskal Algorithm is: -94397064, in 641447148000\n",
            "------------------------------------------------------------------------\n",
            "Reading file input_random_59_40000.txt\n",
            "Total weight of minimum spanning tree using Naive Kruskal Algorithm is: -88771991, in 634440069700\n",
            "------------------------------------------------------------------------\n",
            "Reading file input_random_60_40000.txt\n",
            "Total weight of minimum spanning tree using Naive Kruskal Algorithm is: -93017025, in 610688580000\n",
            "------------------------------------------------------------------------\n",
            "Reading file input_random_61_80000.txt\n",
            "Total weight of minimum spanning tree using Naive Kruskal Algorithm is: -186834082, in 2807344424400\n",
            "------------------------------------------------------------------------\n",
            "Reading file input_random_62_80000.txt\n",
            "Total weight of minimum spanning tree using Naive Kruskal Algorithm is: -185997521, in 6598568644100\n",
            "------------------------------------------------------------------------\n",
            "Reading file input_random_63_80000.txt\n",
            "Total weight of minimum spanning tree using Naive Kruskal Algorithm is: -182065015, in 2694526828500\n",
            "------------------------------------------------------------------------\n",
            "Reading file input_random_64_80000.txt\n",
            "Total weight of minimum spanning tree using Naive Kruskal Algorithm is: -180793224, in 2752337104100\n",
            "------------------------------------------------------------------------\n",
            "Reading file input_random_65_100000.txt\n",
            "Total weight of minimum spanning tree using Naive Kruskal Algorithm is: -230698391, in 4457202935600\n",
            "------------------------------------------------------------------------\n",
            "Reading file input_random_66_100000.txt\n",
            "Total weight of minimum spanning tree using Naive Kruskal Algorithm is: -230168572, in 4278089144000\n",
            "------------------------------------------------------------------------\n",
            "Reading file input_random_67_100000.txt\n",
            "Total weight of minimum spanning tree using Naive Kruskal Algorithm is: -231393935, in 4249558040900\n",
            "------------------------------------------------------------------------\n",
            "Reading file input_random_68_100000.txt\n",
            "Total weight of minimum spanning tree using Naive Kruskal Algorithm is: -231011693, in 4368828853700\n"
          ]
        }
      ],
      "source": [
        "num_iterations = len(os.listdir('mst_dataset\\mst_dataset'))\n",
        "weights = []\n",
        "run_times,sizes = measure_run_time(num_iterations,'mst_dataset\\mst_dataset', weights)"
      ]
    },
    {
      "cell_type": "code",
      "execution_count": 238,
      "metadata": {
        "colab": {
          "base_uri": "https://localhost:8080/"
        },
        "id": "ZdKDQQsXlrL1",
        "outputId": "f5d8e478-d8b0-4020-f541-5626baff611d"
      },
      "outputs": [
        {
          "name": "stdout",
          "output_type": "stream",
          "text": [
            "[57400, 67500, 67700, 73100, 147500, 159100, 164500, 218500, 627600, 873500, 1049000, 1180600, 2028400, 2625700, 2681600, 2915600, 3181000, 3580300, 5443400, 5969600, 13650200, 22254800, 23362500, 53801000, 49103600, 53914500, 64298700, 76067100, 175729900, 192820200, 227401400, 231357000, 274804000, 281717000, 309225700, 344536200, 1010170100, 11258307000, 1698233000, 1847364900, 4436053000, 5367858400, 7195264600, 8431494800, 17636265300, 19352986400, 21684315700, 23460017300, 33874352600, 35317255500, 39750045700, 46120617700, 178664701200, 180565205200, 185494193500, 189470755100, 610688580000, 634440069700, 641447148000, 762544720500, 2502841562220, 2694526828500, 2752337104100, 2807344424400, 4249558040900, 4278089144000, 4368828853700, 4457202935600]\n"
          ]
        }
      ],
      "source": [
        "print(run_times)"
      ]
    },
    {
      "cell_type": "code",
      "execution_count": 16,
      "metadata": {
        "colab": {
          "base_uri": "https://localhost:8080/"
        },
        "id": "uGqfw2WSBNwb",
        "outputId": "41194a72-8971-4b4f-d5be-5872ee166bc3"
      },
      "outputs": [
        {
          "name": "stdout",
          "output_type": "stream",
          "text": [
            "[57400, 67500, 67700, 73100, 147500, 159100, 164500, 218500, 627600, 873500, 1049000, 1180600, 2028400, 2625700, 2681600, 2915600, 3181000, 3580300, 5443400, 5969600, 13650200, 22254800, 23362500, 53801000, 49103600, 53914500, 64298700, 76067100, 175729900, 192820200, 227401400, 231357000, 274804000, 281717000, 309225700, 344536200, 1010170100, 1258307000, 1698233000, 1847364900, 4436053000, 5367858400, 7195264600, 8431494800, 17636265300, 19352986400, 21684315700, 23460017300, 33874352600, 35317255500, 39750045700, 46120617700, 178664701200, 180565205200, 188494193500, 191470755100, 610688580000, 634440069700, 641447148000, 762544720500, 2502841562220, 2694526828500, 2752337104100, 2807344424400, 4249558040900, 4278089144000, 4368828853700, 4457202935600]\n",
            "[10, 10, 10, 10, 20, 20, 20, 20, 40, 40, 40, 40, 80, 80, 80, 80, 100, 100, 100, 100, 200, 200, 200, 200, 400, 400, 400, 400, 800, 800, 800, 800, 1000, 1000, 1000, 1000, 2000, 2000, 2000, 2000, 4000, 4000, 4000, 4000, 8000, 8000, 8000, 8000, 10000, 10000, 10000, 10000, 20000, 20000, 20000, 20000, 40000, 40000, 40000, 40000, 80000, 80000, 80000, 80000, 100000, 100000, 100000, 100000]\n"
          ]
        }
      ],
      "source": [
        "run_times,sizes = read_input_times('/content/naive_kruskal_tuples.txt')\n",
        "print(run_times)\n",
        "print(sizes)"
      ]
    },
    {
      "cell_type": "code",
      "execution_count": 22,
      "metadata": {
        "id": "5yIMJrr8tRjT"
      },
      "outputs": [],
      "source": [
        "tuples = []\n",
        "for size,runtime in zip(sizes,run_times):\n",
        "  tuples.append((size,runtime))\n",
        "tuples.sort(key=lambda y:y[0])"
      ]
    },
    {
      "cell_type": "code",
      "execution_count": 21,
      "metadata": {
        "colab": {
          "base_uri": "https://localhost:8080/",
          "height": 1000
        },
        "id": "G6RRMyPK769l",
        "outputId": "28e5bcc2-e094-45db-8c7c-1bdf9bed648c"
      },
      "outputs": [
        {
          "name": "stdout",
          "output_type": "stream",
          "text": [
            "Size\tTime(ns)\n",
            "--------------------\n",
            "10\t57400\n",
            "10\t67500\n",
            "10\t67700\n",
            "10\t73100\n",
            "20\t147500\n",
            "20\t159100\n",
            "20\t164500\n",
            "20\t218500\n",
            "40\t627600\n",
            "40\t873500\n",
            "40\t1049000\n",
            "40\t1180600\n",
            "80\t2028400\n",
            "80\t2625700\n",
            "80\t2681600\n",
            "80\t2915600\n",
            "100\t3181000\n",
            "100\t3580300\n",
            "100\t5443400\n",
            "100\t5969600\n",
            "200\t13650200\n",
            "200\t22254800\n",
            "200\t23362500\n",
            "200\t53801000\n",
            "400\t49103600\n",
            "400\t53914500\n",
            "400\t64298700\n",
            "400\t76067100\n",
            "800\t175729900\n",
            "800\t192820200\n",
            "800\t227401400\n",
            "800\t231357000\n",
            "1000\t274804000\n",
            "1000\t281717000\n",
            "1000\t309225700\n",
            "1000\t344536200\n",
            "2000\t1010170100\n",
            "2000\t1258307000\n",
            "2000\t1698233000\n",
            "2000\t1847364900\n",
            "4000\t4436053000\n",
            "4000\t5367858400\n",
            "4000\t7195264600\n",
            "4000\t8431494800\n",
            "8000\t17636265300\n",
            "8000\t19352986400\n",
            "8000\t21684315700\n",
            "8000\t23460017300\n",
            "10000\t33874352600\n",
            "10000\t35317255500\n",
            "10000\t39750045700\n",
            "10000\t46120617700\n",
            "20000\t178664701200\n",
            "20000\t180565205200\n",
            "20000\t188494193500\n",
            "20000\t191470755100\n",
            "40000\t610688580000\n",
            "40000\t634440069700\n",
            "40000\t641447148000\n",
            "40000\t762544720500\n",
            "80000\t2502841562220\n",
            "80000\t2694526828500\n",
            "80000\t2752337104100\n",
            "80000\t2807344424400\n",
            "100000\t4249558040900\n",
            "100000\t4278089144000\n",
            "100000\t4368828853700\n",
            "100000\t4457202935600\n"
          ]
        },
        {
          "data": {
            "application/vnd.google.colaboratory.intrinsic+json": {
              "type": "string"
            },
            "text/plain": [
              "'--------------------'"
            ]
          },
          "execution_count": 21,
          "metadata": {},
          "output_type": "execute_result"
        }
      ],
      "source": [
        "print(\"Size\\tTime(ns)\")\n",
        "print(20*\"-\")\n",
        "for i in range(len(sizes)):\n",
        "  print(tuples[i][0], tuples[i][1], sep=\"\\t\")\n",
        "(20*\"-\")"
      ]
    },
    {
      "cell_type": "code",
      "execution_count": 29,
      "metadata": {
        "colab": {
          "base_uri": "https://localhost:8080/"
        },
        "id": "QZTbgKlSz6gJ",
        "outputId": "cff8caab-ae8d-411f-fd3e-f5754d86e588"
      },
      "outputs": [
        {
          "name": "stdout",
          "output_type": "stream",
          "text": [
            "[10, 10, 10, 10, 20, 20, 20, 20, 40, 40, 40, 40, 80, 80, 80, 80, 100, 100, 100, 100, 200, 200, 200, 200, 400, 400, 400, 400, 800, 800, 800, 800, 1000, 1000, 1000, 1000, 2000, 2000, 2000, 2000, 4000, 4000, 4000, 4000, 8000, 8000, 8000, 8000, 10000, 10000, 10000, 10000, 20000, 20000, 20000, 20000, 40000, 40000, 40000, 40000, 80000, 80000, 80000, 80000, 100000, 100000, 100000, 100000]\n",
            "[9, 11, 13, 10, 24, 24, 28, 26, 56, 50, 50, 52, 108, 99, 104, 114, 136, 129, 137, 132, 267, 269, 269, 267, 540, 518, 538, 526, 1063, 1058, 1076, 1049, 1300, 1313, 1328, 1344, 2699, 2654, 2652, 2677, 5360, 5315, 5340, 5368, 10705, 10670, 10662, 10757, 13301, 13340, 13287, 13311, 26667, 26826, 26673, 26670, 53415, 53446, 53242, 53319, 106914, 106633, 106586, 106554, 133395, 133214, 133524, 133463]\n"
          ]
        }
      ],
      "source": [
        "num_vertices, num_edges = read_input_data(\"/content/vertices-edges.txt\")\n",
        "print(num_vertices)\n",
        "print(num_edges)"
      ]
    },
    {
      "cell_type": "markdown",
      "metadata": {
        "id": "NuSckHrIsug8"
      },
      "source": [
        "Naive Kruskal's has a complexity of \n",
        " **O(*m* *n*)**, where m is the number of edges and n is the number of vertices. \n",
        " \n",
        "T(N) = c* m * n, so we can find our *c_estimate* by dividing the *running_time* by m*n."
      ]
    },
    {
      "cell_type": "code",
      "execution_count": 30,
      "metadata": {
        "colab": {
          "base_uri": "https://localhost:8080/"
        },
        "id": "iyDAOKirs6pL",
        "outputId": "6cde8ce8-83cf-4a0c-dcc3-9762d34bac8e"
      },
      "outputs": [
        {
          "name": "stdout",
          "output_type": "stream",
          "text": [
            "          \n",
            "  SIZE    TIME           CONSTANT  RATIO  \n",
            "    \n",
            "  10      57400          637.778   None   \n",
            "  10      67500          613.636   1.176  \n",
            "  10      67700          520.769   1.003  \n",
            "  10      73100          731.0     1.08   \n",
            "  20      147500         307.292   2.018  \n",
            "  20      159100         331.458   1.079  \n",
            "  20      164500         293.75    1.034  \n",
            "  20      218500         420.192   1.328  \n",
            "  40      627600         280.179   2.872  \n",
            "  40      873500         436.75    1.392  \n",
            "  40      1049000        524.5     1.201  \n",
            "  40      1180600        567.596   1.125  \n",
            "  80      2028400        234.769   1.718  \n",
            "  80      2625700        331.528   1.294  \n",
            "  80      2681600        322.308   1.021  \n",
            "  80      2915600        319.693   1.087  \n",
            "  100     3181000        233.897   1.091  \n",
            "  100     3580300        277.543   1.126  \n",
            "  100     5443400        397.328   1.52   \n",
            "  100     5969600        452.242   1.097  \n",
            "  200     13650200       255.622   2.287  \n",
            "  200     22254800       413.658   1.63   \n",
            "  200     23362500       434.247   1.05   \n",
            "  200     53801000       1007.509  2.303  \n",
            "  400     49103600       227.331   0.913  \n",
            "  400     53914500       260.205   1.098  \n",
            "  400     64298700       298.786   1.193  \n",
            "  400     76067100       361.536   1.183  \n",
            "  800     175729900      206.644   2.31   \n",
            "  800     192820200      227.812   1.097  \n",
            "  800     227401400      264.174   1.179  \n",
            "  800     231357000      275.688   1.017  \n",
            "  1000    274804000      211.388   1.188  \n",
            "  1000    281717000      214.56    1.025  \n",
            "  1000    309225700      232.851   1.098  \n",
            "  1000    344536200      256.351   1.114  \n",
            "  2000    1010170100     187.138   2.932  \n",
            "  2000    1258307000     237.059   1.246  \n",
            "  2000    1698233000     320.18    1.35   \n",
            "  2000    1847364900     345.044   1.088  \n",
            "  4000    4436053000     206.905   2.401  \n",
            "  4000    5367858400     252.486   1.21   \n",
            "  4000    7195264600     336.857   1.34   \n",
            "  4000    8431494800     392.674   1.172  \n",
            "  8000    17636265300    205.935   2.092  \n",
            "  8000    19352986400    226.722   1.097  \n",
            "  8000    21684315700    254.224   1.12   \n",
            "  8000    23460017300    272.613   1.082  \n",
            "  10000   33874352600    254.675   1.444  \n",
            "  10000   35317255500    264.747   1.043  \n",
            "  10000   39750045700    299.165   1.126  \n",
            "  10000   46120617700    346.485   1.16   \n",
            "  20000   178664701200   334.992   3.874  \n",
            "  20000   180565205200   336.549   1.011  \n",
            "  20000   188494193500   353.343   1.044  \n",
            "  20000   191470755100   358.963   1.016  \n",
            "  40000   610688580000   285.823   3.189  \n",
            "  40000   634440069700   296.767   1.039  \n",
            "  40000   641447148000   301.194   1.011  \n",
            "  40000   762544720500   357.539   1.189  \n",
            "  80000   2502841562220  292.623   3.282  \n",
            "  80000   2694526828500  315.865   1.077  \n",
            "  80000   2752337104100  322.784   1.021  \n",
            "  80000   2807344424400  329.334   1.02   \n",
            "  100000  4249558040900  318.57    1.514  \n",
            "  100000  4278089144000  321.144   1.007  \n",
            "  100000  4368828853700  327.194   1.021  \n",
            "  100000  4457202935600  333.965   1.02   \n",
            "\n"
          ]
        }
      ],
      "source": [
        "sorted_sizes = list(zip(*tuples))[0]\n",
        "sorted_runtimes = list(zip(*tuples))[1]\n",
        "\n",
        "ratios = [None] + [round(tuples[i+1][1]/tuples[i][1],3) for i in range(len(sizes)-1)]\n",
        "c_estimates = [round((run_time)/(m*n),3) for run_time,m,n in zip(sorted_runtimes,num_edges,num_vertices)]\n",
        "headers = [\"Size\",\"Time\",\"Constant\",\"Ratio\"]\n",
        "data=[]\n",
        "for i in range(len(sizes)):\n",
        "  data.append([tuples[i][0], tuples[i][1], c_estimates[i], ratios[i]]) \n",
        "table = columnar(data,headers, no_borders= True)\n",
        "print(table)"
      ]
    },
    {
      "cell_type": "code",
      "execution_count": 31,
      "metadata": {
        "colab": {
          "base_uri": "https://localhost:8080/"
        },
        "id": "YPH4sXjstYHh",
        "outputId": "9fb55e21-ac30-4a17-fb0f-cc660888edea"
      },
      "outputs": [
        {
          "data": {
            "text/plain": [
              "337.8254117647059"
            ]
          },
          "execution_count": 31,
          "metadata": {},
          "output_type": "execute_result"
        }
      ],
      "source": [
        "c = sum(c_estimates)/len(c_estimates)\n",
        "c"
      ]
    },
    {
      "cell_type": "code",
      "execution_count": 35,
      "metadata": {
        "colab": {
          "base_uri": "https://localhost:8080/",
          "height": 290
        },
        "id": "nTTV0S5UsxjB",
        "outputId": "b0f4520a-f29a-4fa6-bb0b-5a8fcde9da92"
      },
      "outputs": [
        {
          "data": {
            "image/png": "[encoded data removed]",
            "text/plain": [
              "<Figure size 432x288 with 1 Axes>"
            ]
          },
          "metadata": {
            "needs_background": "light"
          },
          "output_type": "display_data"
        }
      ],
      "source": [
        "reference = [c*m*n for n,m in zip(sorted_sizes,num_edges)]\n",
        "plt.yscale(\"linear\")\n",
        "\n",
        "plt.plot(sorted_sizes, sorted_runtimes)\n",
        "plt.plot(sorted_sizes, reference)\n",
        "\n",
        "plt.legend([\"Measured time\", \"c*m*n\"])\n",
        "\n",
        "plt.ylabel('run time (ns)')\n",
        "plt.xlabel('size')\n",
        "\n",
        "plt.savefig('naive_kruskal_plot.png', dpi=300)\n",
        "\n",
        "plt.show()"
      ]
    }
  ],
  "metadata": {
    "colab": {
      "collapsed_sections": [
        "A3dvUo-Iz6wD",
        "qD9nJsi73IAC"
      ],
      "name": "Naive_Kruskal_Algorithm_Weights_23_04_2022.ipynb",
      "provenance": []
    },
    "kernelspec": {
      "display_name": "Python 3",
      "name": "python3"
    },
    "language_info": {
      "codemirror_mode": {
        "name": "ipython",
        "version": 3
      },
      "file_extension": ".py",
      "mimetype": "text/x-python",
      "name": "python",
      "nbconvert_exporter": "python",
      "pygments_lexer": "ipython3",
      "version": "3.10.4"
    }
  },
  "nbformat": 4,
  "nbformat_minor": 0
}
