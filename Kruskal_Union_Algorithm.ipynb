{
  "cells": [
    {
      "cell_type": "markdown",
      "metadata": {
        "id": "A3dvUo-Iz6wD"
      },
      "source": [
        "# Imports\n",
        "\n"
      ]
    },
    {
      "cell_type": "code",
      "source": [
        "pip install columnar #package to print table of data "
      ],
      "metadata": {
        "colab": {
          "base_uri": "https://localhost:8080/"
        },
        "id": "FDtthFRULPra",
        "outputId": "aeffa73a-838c-449b-a159-bdb1c11562d7"
      },
      "execution_count": null,
      "outputs": [
        {
          "output_type": "stream",
          "name": "stdout",
          "text": [
            "Collecting columnar\n",
            "  Downloading Columnar-1.4.1-py3-none-any.whl (11 kB)\n",
            "Requirement already satisfied: wcwidth in /usr/local/lib/python3.7/dist-packages (from columnar) (0.2.5)\n",
            "Requirement already satisfied: toolz in /usr/local/lib/python3.7/dist-packages (from columnar) (0.11.2)\n",
            "Installing collected packages: columnar\n",
            "Successfully installed columnar-1.4.1\n"
          ]
        }
      ]
    },
    {
      "cell_type": "code",
      "execution_count": null,
      "metadata": {
        "id": "2TpUl7iDD8Rw"
      },
      "outputs": [],
      "source": [
        "from collections import defaultdict\n",
        "import sys\n",
        "import math\n",
        "import time\n",
        "import heapq\n",
        "import gc\n",
        "import zipfile\n",
        "from time import perf_counter_ns\n",
        "import os\n",
        "import matplotlib.pyplot as plt\n",
        "from columnar import columnar"
      ]
    },
    {
      "cell_type": "code",
      "execution_count": null,
      "metadata": {
        "colab": {
          "base_uri": "https://localhost:8080/"
        },
        "id": "u8ztBEn2noYM",
        "outputId": "0e57ac84-81a1-4dfd-c5cd-dd0c715c2697"
      },
      "outputs": [
        {
          "output_type": "stream",
          "name": "stdout",
          "text": [
            "Mounted at /content/drive\n"
          ]
        }
      ],
      "source": [
        "from google.colab import drive\n",
        "drive.mount('/content/drive')"
      ]
    },
    {
      "cell_type": "code",
      "source": [
        "with zipfile.ZipFile('/content/drive/MyDrive/mst_dataset.zip', 'r') as zip_ref:\n",
        "\n",
        "     zip_ref.extractall('/content/')"
      ],
      "metadata": {
        "id": "AvD3agTSst0f"
      },
      "execution_count": null,
      "outputs": []
    },
    {
      "cell_type": "markdown",
      "metadata": {
        "id": "hb3ZngYLz5n3"
      },
      "source": [
        "# Classes and handy functions"
      ]
    },
    {
      "cell_type": "markdown",
      "metadata": {
        "id": "JvdJRbeL0EiX"
      },
      "source": [
        "In this section we define some useful classes and functions for our algorithm implementations."
      ]
    },
    {
      "cell_type": "code",
      "execution_count": null,
      "metadata": {
        "id": "1WTU5Nr40YWq"
      },
      "outputs": [],
      "source": [
        "class Graph():\n",
        "  def __init__ (self):\n",
        "    self.V=[]\n",
        "    self.E=[]\n",
        "    self.adjacency_list = defaultdict(list)\n",
        "\n",
        "  def add_vertex(self,v):\n",
        "    self.V.append(v)\n",
        "\n",
        "  def remove_vertex (self,v):\n",
        "    self.V.remove(v)\n",
        "\n",
        "  def add_edge(self, source_node, destination_node, weight):\n",
        "    # First case\n",
        "    # We add the source and the destination node only if the are not already present\n",
        "    if (source_node not in self.V):\n",
        "      self.V.append(source_node)\n",
        "    \n",
        "    if (destination_node not in self.V):\n",
        "      self.V.append(destination_node)\n",
        "    \n",
        "    # Now we can add the edge\n",
        "    edge = (source_node, destination_node, weight)\n",
        "    self.E.append(edge)\n",
        "\n",
        "    # Now we update the graph\n",
        "    self.adjacency_list[source_node].append((destination_node,weight))\n",
        "    if (source_node != destination_node):\n",
        "      self.adjacency_list[destination_node].append((source_node,weight))\n",
        "\n",
        "  def sort_edges(self):\n",
        "    self.E.sort(key=lambda x:x[2])\n",
        "    \n",
        "  def remove_edge(self,source_node, destination_node,weight):\n",
        "    edge = (source_node, destination_node, weight)\n",
        "    self.E.remove(edge)\n",
        "    self.graph[source_node].remove((destination_node,weight))\n",
        "\n",
        "  def get_edges(self):\n",
        "    return self.E\n",
        "  \n",
        "  def get_value(self,key):\n",
        "    return self.adjacency_list[key]\n",
        "\n",
        "  def print_data(self):\n",
        "    print(self.adjacency_list.items())\n",
        "  "
      ]
    },
    {
      "cell_type": "markdown",
      "source": [
        "The class DisjointSet is our data structure that contains the union and find methods, which we'll use in Kruskal's algorithm."
      ],
      "metadata": {
        "id": "TTY8V_Rc8LSu"
      }
    },
    {
      "cell_type": "code",
      "source": [
        "class DisjointSet:\n",
        "    def __init__(self, size):\n",
        "      self.parent = [math.inf]\n",
        "      self.rank = [0]\n",
        "      for node in range(size):\n",
        "        self.parent.append(node+1)\n",
        "        self.rank.append(1)\n",
        "\n",
        "    # starting from destination_node's position, it traverses parent edges until reaching a position\n",
        "    # such that parent(destination_node) = destination_node \n",
        "    def find(self, destination_node): \n",
        "      if self.parent[destination_node] == destination_node:\n",
        "        return destination_node\n",
        "      return self.find(self.parent[destination_node])\n",
        "\n",
        "    # unites two sets by setting new roots to source_node and destination_node\n",
        "    def union(self, source_node, destination_node):\n",
        "      u_root = self.find(source_node)\n",
        "      v_root = self.find(destination_node)\n",
        "\n",
        "      # Do nothing\n",
        "      if (u_root == v_root):\n",
        "        return \n",
        "\n",
        "      if self.rank[u_root] < self.rank[v_root]:\n",
        "        self.parent[u_root] = v_root\n",
        "        self.rank[v_root] += self.rank[u_root]\n",
        "      elif self.rank[u_root] > self.rank[v_root]:\n",
        "        self.parent[v_root] = u_root\n",
        "        self.rank[u_root]+=self.rank[v_root]\n",
        "      else:\n",
        "        self.parent[v_root] = u_root\n",
        "        self.rank[u_root] += 1"
      ],
      "metadata": {
        "id": "fHctMfybkxSn"
      },
      "execution_count": null,
      "outputs": []
    },
    {
      "cell_type": "markdown",
      "source": [
        "The following is Kruskal's algorithm with union find. It takes the graph G as input and uses Union Find to keep track of connected components of the mst structure (which will contain our minimum spanning tree)."
      ],
      "metadata": {
        "id": "SiSUQZIq7K62"
      }
    },
    {
      "cell_type": "code",
      "source": [
        "def KruskalUnionFind(G):\n",
        "  mst = []\n",
        "  U = DisjointSet(len(G.V))\n",
        "  G.sort_edges()\n",
        "  for edge in G.E:\n",
        "    src = edge[0]\n",
        "    dest = edge[1]\n",
        "    weight = edge[2]\n",
        "    # checks the two vertices are in two different connected components so to avoid cycles\n",
        "    if (U.find(src) != U.find(dest)): \n",
        "      mst.append((src,dest,weight)) # if so, we add them into our mst\n",
        "      U.union(src,dest) # we update the union find data structure\n",
        "  return mst\n"
      ],
      "metadata": {
        "id": "OX2BYJaQrch-"
      },
      "execution_count": null,
      "outputs": []
    },
    {
      "cell_type": "code",
      "source": [
        "def read_input_data(filepath):\n",
        "  f = open(filepath, \"r\")\n",
        "  lines = f.readlines()\n",
        "  num_verteces = []\n",
        "  num_edges = []\n",
        "  for index, line in enumerate (lines):\n",
        "    text = line.strip()\n",
        "    text_splitted = text.split(\" \")\n",
        "    num_verteces.append(int(text_splitted[0]))\n",
        "    num_edges.append(int(text_splitted[1]))\n",
        "  return num_verteces,num_edges"
      ],
      "metadata": {
        "id": "srMxD5oRK41Q"
      },
      "execution_count": null,
      "outputs": []
    },
    {
      "cell_type": "code",
      "execution_count": null,
      "metadata": {
        "id": "ypZ7oeuFMble"
      },
      "outputs": [],
      "source": [
        "def read_input_graph(filepath):\n",
        "  f = open(filepath, \"r\")\n",
        "  lines = f.readlines()\n",
        "  for index, line in enumerate (lines):\n",
        "    text = line.strip()\n",
        "    text_splitted = text.split(\" \")\n",
        "    if (index==0):\n",
        "      graph = Graph()\n",
        "      size = text_splitted[0]\n",
        "    else:\n",
        "      graph.add_edge(int(text_splitted[0]),int(text_splitted[1]),int(text_splitted[2]))\n",
        "  f.close()\n",
        "  return graph,int(size)"
      ]
    },
    {
      "cell_type": "code",
      "execution_count": null,
      "metadata": {
        "id": "XbbbphWABNwN"
      },
      "outputs": [],
      "source": [
        "def read_input_times(filepath):\n",
        "  f = open(filepath, \"r\")\n",
        "  lines = f.readlines()\n",
        "  sizes = []\n",
        "  times = []\n",
        "  for index, line in enumerate (lines):\n",
        "    text = line.strip()\n",
        "    text_splitted = text.split(\" \")\n",
        "    sizes.append(int(text_splitted[0]))\n",
        "    times.append(int(text_splitted[1]))\n",
        "  return times,sizes"
      ]
    },
    {
      "cell_type": "code",
      "source": [
        "def measure_run_time(num_iterations,input_directory,mst_weights):\n",
        "  sum_times = 0.0\n",
        "  sizes = []\n",
        "  avg_run_times = []\n",
        "  for file in sorted(os.listdir(input_directory)):\n",
        "    print(\"------------------------------------------------------------------------\")\n",
        "    file_path = f\"{input_directory}/{file}\"\n",
        "    graph,size = read_input_graph(file_path)\n",
        "    print(f\"Reading file {file}\")\n",
        "    gc.disable()\n",
        "    for i in range(num_iterations):\n",
        "      start_time = perf_counter_ns()\n",
        "      mst = KruskalUnionFind(graph)\n",
        "      end_time = perf_counter_ns()\n",
        "      sum_times += (end_time-start_time)\n",
        "    weight = sum(x[2] for x in mst)\n",
        "    mst_weights.append(weight)\n",
        "    sizes.append(size)\n",
        "    gc.enable()\n",
        "    time = ((end_time - start_time)/num_iterations)\n",
        "    avg_run_times.append(time)\n",
        "    print(f\"Total weight of minimum spanning tree using Naive Kruskal Algorithm is: {weight}, in {time}\")\n",
        "\n",
        "  # return running time in nanoseconds\n",
        "  return avg_run_times,sizes"
      ],
      "metadata": {
        "id": "x9ut8PoB9lRy"
      },
      "execution_count": null,
      "outputs": []
    },
    {
      "cell_type": "markdown",
      "metadata": {
        "id": "k2A3f-T5k-jI"
      },
      "source": [
        "# Measuring the algorithm's complexity"
      ]
    },
    {
      "cell_type": "code",
      "execution_count": null,
      "metadata": {
        "id": "VsemcW6c10pm",
        "colab": {
          "base_uri": "https://localhost:8080/"
        },
        "outputId": "4470ef4e-8cc9-48b1-b55a-f1bf7e64a77c"
      },
      "outputs": [
        {
          "output_type": "stream",
          "name": "stdout",
          "text": [
            "------------------------------------------------------------------------\n",
            "Reading file input_random_01_10.txt\n",
            "Total weight of minimum spanning tree using Naive Kruskal Algorithm is: 29316, in 36.745\n",
            "------------------------------------------------------------------------\n",
            "Reading file input_random_02_10.txt\n",
            "Total weight of minimum spanning tree using Naive Kruskal Algorithm is: 16940, in 31.852\n",
            "------------------------------------------------------------------------\n",
            "Reading file input_random_03_10.txt\n",
            "Total weight of minimum spanning tree using Naive Kruskal Algorithm is: -44448, in 26.823\n",
            "------------------------------------------------------------------------\n",
            "Reading file input_random_04_10.txt\n",
            "Total weight of minimum spanning tree using Naive Kruskal Algorithm is: 25217, in 22.196\n",
            "------------------------------------------------------------------------\n",
            "Reading file input_random_05_20.txt\n",
            "Total weight of minimum spanning tree using Naive Kruskal Algorithm is: -32021, in 53.143\n",
            "------------------------------------------------------------------------\n",
            "Reading file input_random_06_20.txt\n",
            "Total weight of minimum spanning tree using Naive Kruskal Algorithm is: 25130, in 47.957\n",
            "------------------------------------------------------------------------\n",
            "Reading file input_random_07_20.txt\n",
            "Total weight of minimum spanning tree using Naive Kruskal Algorithm is: -41693, in 53.363\n",
            "------------------------------------------------------------------------\n",
            "Reading file input_random_08_20.txt\n",
            "Total weight of minimum spanning tree using Naive Kruskal Algorithm is: -37205, in 54.791\n",
            "------------------------------------------------------------------------\n",
            "Reading file input_random_09_40.txt\n",
            "Total weight of minimum spanning tree using Naive Kruskal Algorithm is: -114203, in 128.459\n",
            "------------------------------------------------------------------------\n",
            "Reading file input_random_10_40.txt\n",
            "Total weight of minimum spanning tree using Naive Kruskal Algorithm is: -31929, in 104.008\n",
            "------------------------------------------------------------------------\n",
            "Reading file input_random_11_40.txt\n",
            "Total weight of minimum spanning tree using Naive Kruskal Algorithm is: -79570, in 204.847\n",
            "------------------------------------------------------------------------\n",
            "Reading file input_random_12_40.txt\n",
            "Total weight of minimum spanning tree using Naive Kruskal Algorithm is: -79741, in 106.221\n",
            "------------------------------------------------------------------------\n",
            "Reading file input_random_13_80.txt\n",
            "Total weight of minimum spanning tree using Naive Kruskal Algorithm is: -139926, in 236.317\n",
            "------------------------------------------------------------------------\n",
            "Reading file input_random_14_80.txt\n",
            "Total weight of minimum spanning tree using Naive Kruskal Algorithm is: -198094, in 236.14\n",
            "------------------------------------------------------------------------\n",
            "Reading file input_random_15_80.txt\n",
            "Total weight of minimum spanning tree using Naive Kruskal Algorithm is: -110571, in 217.308\n",
            "------------------------------------------------------------------------\n",
            "Reading file input_random_16_80.txt\n",
            "Total weight of minimum spanning tree using Naive Kruskal Algorithm is: -233320, in 237.772\n",
            "------------------------------------------------------------------------\n",
            "Reading file input_random_17_100.txt\n",
            "Total weight of minimum spanning tree using Naive Kruskal Algorithm is: -141960, in 286.095\n",
            "------------------------------------------------------------------------\n",
            "Reading file input_random_18_100.txt\n",
            "Total weight of minimum spanning tree using Naive Kruskal Algorithm is: -271743, in 289.976\n",
            "------------------------------------------------------------------------\n",
            "Reading file input_random_19_100.txt\n",
            "Total weight of minimum spanning tree using Naive Kruskal Algorithm is: -288906, in 293.442\n",
            "------------------------------------------------------------------------\n",
            "Reading file input_random_20_100.txt\n",
            "Total weight of minimum spanning tree using Naive Kruskal Algorithm is: -229506, in 275.533\n",
            "------------------------------------------------------------------------\n",
            "Reading file input_random_21_200.txt\n",
            "Total weight of minimum spanning tree using Naive Kruskal Algorithm is: -510185, in 563.795\n",
            "------------------------------------------------------------------------\n",
            "Reading file input_random_22_200.txt\n",
            "Total weight of minimum spanning tree using Naive Kruskal Algorithm is: -515136, in 1184.213\n",
            "------------------------------------------------------------------------\n",
            "Reading file input_random_23_200.txt\n",
            "Total weight of minimum spanning tree using Naive Kruskal Algorithm is: -444357, in 598.863\n",
            "------------------------------------------------------------------------\n",
            "Reading file input_random_24_200.txt\n",
            "Total weight of minimum spanning tree using Naive Kruskal Algorithm is: -393278, in 577.582\n",
            "------------------------------------------------------------------------\n",
            "Reading file input_random_25_400.txt\n",
            "Total weight of minimum spanning tree using Naive Kruskal Algorithm is: -1119906, in 1214.024\n",
            "------------------------------------------------------------------------\n",
            "Reading file input_random_26_400.txt\n",
            "Total weight of minimum spanning tree using Naive Kruskal Algorithm is: -788168, in 1185.234\n",
            "------------------------------------------------------------------------\n",
            "Reading file input_random_27_400.txt\n",
            "Total weight of minimum spanning tree using Naive Kruskal Algorithm is: -895704, in 1207.689\n",
            "------------------------------------------------------------------------\n",
            "Reading file input_random_28_400.txt\n",
            "Total weight of minimum spanning tree using Naive Kruskal Algorithm is: -733645, in 1146.573\n",
            "------------------------------------------------------------------------\n",
            "Reading file input_random_29_800.txt\n",
            "Total weight of minimum spanning tree using Naive Kruskal Algorithm is: -1541291, in 2399.502\n",
            "------------------------------------------------------------------------\n",
            "Reading file input_random_30_800.txt\n",
            "Total weight of minimum spanning tree using Naive Kruskal Algorithm is: -1578294, in 2647.814\n",
            "------------------------------------------------------------------------\n",
            "Reading file input_random_31_800.txt\n",
            "Total weight of minimum spanning tree using Naive Kruskal Algorithm is: -1664316, in 2390.698\n",
            "------------------------------------------------------------------------\n",
            "Reading file input_random_32_800.txt\n",
            "Total weight of minimum spanning tree using Naive Kruskal Algorithm is: -1652119, in 2441.137\n",
            "------------------------------------------------------------------------\n",
            "Reading file input_random_33_1000.txt\n",
            "Total weight of minimum spanning tree using Naive Kruskal Algorithm is: -2089013, in 2907.879\n",
            "------------------------------------------------------------------------\n",
            "Reading file input_random_34_1000.txt\n",
            "Total weight of minimum spanning tree using Naive Kruskal Algorithm is: -1934208, in 2970.206\n",
            "------------------------------------------------------------------------\n",
            "Reading file input_random_35_1000.txt\n",
            "Total weight of minimum spanning tree using Naive Kruskal Algorithm is: -2229428, in 3004.845\n",
            "------------------------------------------------------------------------\n",
            "Reading file input_random_36_1000.txt\n",
            "Total weight of minimum spanning tree using Naive Kruskal Algorithm is: -2356163, in 3064.399\n",
            "------------------------------------------------------------------------\n",
            "Reading file input_random_37_2000.txt\n",
            "Total weight of minimum spanning tree using Naive Kruskal Algorithm is: -4811598, in 6623.715\n",
            "------------------------------------------------------------------------\n",
            "Reading file input_random_38_2000.txt\n",
            "Total weight of minimum spanning tree using Naive Kruskal Algorithm is: -4739387, in 7671.003\n",
            "------------------------------------------------------------------------\n",
            "Reading file input_random_39_2000.txt\n",
            "Total weight of minimum spanning tree using Naive Kruskal Algorithm is: -4717250, in 6290.513\n",
            "------------------------------------------------------------------------\n",
            "Reading file input_random_40_2000.txt\n",
            "Total weight of minimum spanning tree using Naive Kruskal Algorithm is: -4537267, in 6406.52\n",
            "------------------------------------------------------------------------\n",
            "Reading file input_random_41_4000.txt\n",
            "Total weight of minimum spanning tree using Naive Kruskal Algorithm is: -8722212, in 13275.385\n",
            "------------------------------------------------------------------------\n",
            "Reading file input_random_42_4000.txt\n",
            "Total weight of minimum spanning tree using Naive Kruskal Algorithm is: -9314968, in 13245.749\n",
            "------------------------------------------------------------------------\n",
            "Reading file input_random_43_4000.txt\n",
            "Total weight of minimum spanning tree using Naive Kruskal Algorithm is: -9845767, in 13066.505\n",
            "------------------------------------------------------------------------\n",
            "Reading file input_random_44_4000.txt\n",
            "Total weight of minimum spanning tree using Naive Kruskal Algorithm is: -8681447, in 12673.954\n",
            "------------------------------------------------------------------------\n",
            "Reading file input_random_45_8000.txt\n",
            "Total weight of minimum spanning tree using Naive Kruskal Algorithm is: -17844628, in 30627.415\n",
            "------------------------------------------------------------------------\n",
            "Reading file input_random_46_8000.txt\n",
            "Total weight of minimum spanning tree using Naive Kruskal Algorithm is: -18798446, in 32150.786\n",
            "------------------------------------------------------------------------\n",
            "Reading file input_random_47_8000.txt\n",
            "Total weight of minimum spanning tree using Naive Kruskal Algorithm is: -18741474, in 28919.035\n",
            "------------------------------------------------------------------------\n",
            "Reading file input_random_48_8000.txt\n",
            "Total weight of minimum spanning tree using Naive Kruskal Algorithm is: -18178610, in 28462.084\n",
            "------------------------------------------------------------------------\n",
            "Reading file input_random_49_10000.txt\n",
            "Total weight of minimum spanning tree using Naive Kruskal Algorithm is: -22079522, in 39904.374\n",
            "------------------------------------------------------------------------\n",
            "Reading file input_random_50_10000.txt\n",
            "Total weight of minimum spanning tree using Naive Kruskal Algorithm is: -22338561, in 40326.317\n",
            "------------------------------------------------------------------------\n",
            "Reading file input_random_51_10000.txt\n",
            "Total weight of minimum spanning tree using Naive Kruskal Algorithm is: -22581384, in 39238.08\n",
            "------------------------------------------------------------------------\n",
            "Reading file input_random_52_10000.txt\n",
            "Total weight of minimum spanning tree using Naive Kruskal Algorithm is: -22606313, in 41106.496\n",
            "------------------------------------------------------------------------\n",
            "Reading file input_random_53_20000.txt\n",
            "Total weight of minimum spanning tree using Naive Kruskal Algorithm is: -45962292, in 87122.538\n",
            "------------------------------------------------------------------------\n",
            "Reading file input_random_54_20000.txt\n",
            "Total weight of minimum spanning tree using Naive Kruskal Algorithm is: -45195405, in 85601.213\n",
            "------------------------------------------------------------------------\n",
            "Reading file input_random_55_20000.txt\n",
            "Total weight of minimum spanning tree using Naive Kruskal Algorithm is: -47854708, in 83619.183\n",
            "------------------------------------------------------------------------\n",
            "Reading file input_random_56_20000.txt\n",
            "Total weight of minimum spanning tree using Naive Kruskal Algorithm is: -46418161, in 94809.19\n",
            "------------------------------------------------------------------------\n",
            "Reading file input_random_57_40000.txt\n",
            "Total weight of minimum spanning tree using Naive Kruskal Algorithm is: -92003321, in 186253.374\n",
            "------------------------------------------------------------------------\n",
            "Reading file input_random_58_40000.txt\n",
            "Total weight of minimum spanning tree using Naive Kruskal Algorithm is: -94397064, in 189046.857\n",
            "------------------------------------------------------------------------\n",
            "Reading file input_random_59_40000.txt\n",
            "Total weight of minimum spanning tree using Naive Kruskal Algorithm is: -88771991, in 185409.399\n",
            "------------------------------------------------------------------------\n",
            "Reading file input_random_60_40000.txt\n",
            "Total weight of minimum spanning tree using Naive Kruskal Algorithm is: -93017025, in 185642.761\n",
            "------------------------------------------------------------------------\n",
            "Reading file input_random_61_80000.txt\n",
            "Total weight of minimum spanning tree using Naive Kruskal Algorithm is: -186834082, in 410152.122\n",
            "------------------------------------------------------------------------\n",
            "Reading file input_random_62_80000.txt\n",
            "Total weight of minimum spanning tree using Naive Kruskal Algorithm is: -185997521, in 437302.342\n",
            "------------------------------------------------------------------------\n",
            "Reading file input_random_63_80000.txt\n",
            "Total weight of minimum spanning tree using Naive Kruskal Algorithm is: -182065015, in 415764.135\n",
            "------------------------------------------------------------------------\n",
            "Reading file input_random_64_80000.txt\n",
            "Total weight of minimum spanning tree using Naive Kruskal Algorithm is: -180793224, in 436760.316\n",
            "------------------------------------------------------------------------\n",
            "Reading file input_random_65_100000.txt\n",
            "Total weight of minimum spanning tree using Naive Kruskal Algorithm is: -230698391, in 528077.806\n",
            "------------------------------------------------------------------------\n",
            "Reading file input_random_66_100000.txt\n",
            "Total weight of minimum spanning tree using Naive Kruskal Algorithm is: -230168572, in 568040.306\n",
            "------------------------------------------------------------------------\n",
            "Reading file input_random_67_100000.txt\n",
            "Total weight of minimum spanning tree using Naive Kruskal Algorithm is: -231393935, in 540131.605\n",
            "------------------------------------------------------------------------\n",
            "Reading file input_random_68_100000.txt\n",
            "Total weight of minimum spanning tree using Naive Kruskal Algorithm is: -231011693, in 567273.582\n"
          ]
        }
      ],
      "source": [
        "num_iterations = 1000\n",
        "mst_weights = []\n",
        "run_times,sizes = measure_run_time(num_iterations,'/content/mst_dataset',mst_weights)"
      ]
    },
    {
      "cell_type": "code",
      "source": [
        "tuples = []\n",
        "for size,runtime in zip(sizes,run_times):\n",
        "  tuples.append((size,runtime)) # here we store the sorted sizes and the respective running times\n",
        "tuples.sort(key=lambda y:y[0])\n",
        "tuples"
      ],
      "metadata": {
        "colab": {
          "base_uri": "https://localhost:8080/"
        },
        "id": "d-Mrb2reDPwu",
        "outputId": "4eb32621-b48e-422d-e328-467f52f7f147"
      },
      "execution_count": null,
      "outputs": [
        {
          "output_type": "execute_result",
          "data": {
            "text/plain": [
              "[(10, 36.745),\n",
              " (10, 31.852),\n",
              " (10, 26.823),\n",
              " (10, 22.196),\n",
              " (20, 53.143),\n",
              " (20, 47.957),\n",
              " (20, 53.363),\n",
              " (20, 54.791),\n",
              " (40, 128.459),\n",
              " (40, 104.008),\n",
              " (40, 204.847),\n",
              " (40, 106.221),\n",
              " (80, 236.317),\n",
              " (80, 236.14),\n",
              " (80, 217.308),\n",
              " (80, 237.772),\n",
              " (100, 286.095),\n",
              " (100, 289.976),\n",
              " (100, 293.442),\n",
              " (100, 275.533),\n",
              " (200, 563.795),\n",
              " (200, 1184.213),\n",
              " (200, 598.863),\n",
              " (200, 577.582),\n",
              " (400, 1214.024),\n",
              " (400, 1185.234),\n",
              " (400, 1207.689),\n",
              " (400, 1146.573),\n",
              " (800, 2399.502),\n",
              " (800, 2647.814),\n",
              " (800, 2390.698),\n",
              " (800, 2441.137),\n",
              " (1000, 2907.879),\n",
              " (1000, 2970.206),\n",
              " (1000, 3004.845),\n",
              " (1000, 3064.399),\n",
              " (2000, 6623.715),\n",
              " (2000, 7671.003),\n",
              " (2000, 6290.513),\n",
              " (2000, 6406.52),\n",
              " (4000, 13275.385),\n",
              " (4000, 13245.749),\n",
              " (4000, 13066.505),\n",
              " (4000, 12673.954),\n",
              " (8000, 30627.415),\n",
              " (8000, 32150.786),\n",
              " (8000, 28919.035),\n",
              " (8000, 28462.084),\n",
              " (10000, 39904.374),\n",
              " (10000, 40326.317),\n",
              " (10000, 39238.08),\n",
              " (10000, 41106.496),\n",
              " (20000, 87122.538),\n",
              " (20000, 85601.213),\n",
              " (20000, 83619.183),\n",
              " (20000, 94809.19),\n",
              " (40000, 186253.374),\n",
              " (40000, 189046.857),\n",
              " (40000, 185409.399),\n",
              " (40000, 185642.761),\n",
              " (80000, 410152.122),\n",
              " (80000, 437302.342),\n",
              " (80000, 415764.135),\n",
              " (80000, 436760.316),\n",
              " (100000, 528077.806),\n",
              " (100000, 568040.306),\n",
              " (100000, 540131.605),\n",
              " (100000, 567273.582)]"
            ]
          },
          "metadata": {},
          "execution_count": 20
        }
      ]
    },
    {
      "cell_type": "code",
      "source": [
        "print(\"Size\\tTime(ns)\")\n",
        "print(20*\"-\")\n",
        "for i in range(len(sizes)):\n",
        "  print(tuples[i][0], tuples[i][1], sep=\"\\t\")\n",
        "print(20*\"-\")"
      ],
      "metadata": {
        "colab": {
          "base_uri": "https://localhost:8080/"
        },
        "id": "z3hQQjsZCk8A",
        "outputId": "be752c61-26ba-4f4a-da6e-942cdf825c88"
      },
      "execution_count": null,
      "outputs": [
        {
          "output_type": "stream",
          "name": "stdout",
          "text": [
            "Size\tTime(ns)\n",
            "--------------------\n",
            "10\t36.745\n",
            "10\t31.852\n",
            "10\t26.823\n",
            "10\t22.196\n",
            "20\t53.143\n",
            "20\t47.957\n",
            "20\t53.363\n",
            "20\t54.791\n",
            "40\t128.459\n",
            "40\t104.008\n",
            "40\t204.847\n",
            "40\t106.221\n",
            "80\t236.317\n",
            "80\t236.14\n",
            "80\t217.308\n",
            "80\t237.772\n",
            "100\t286.095\n",
            "100\t289.976\n",
            "100\t293.442\n",
            "100\t275.533\n",
            "200\t563.795\n",
            "200\t1184.213\n",
            "200\t598.863\n",
            "200\t577.582\n",
            "400\t1214.024\n",
            "400\t1185.234\n",
            "400\t1207.689\n",
            "400\t1146.573\n",
            "800\t2399.502\n",
            "800\t2647.814\n",
            "800\t2390.698\n",
            "800\t2441.137\n",
            "1000\t2907.879\n",
            "1000\t2970.206\n",
            "1000\t3004.845\n",
            "1000\t3064.399\n",
            "2000\t6623.715\n",
            "2000\t7671.003\n",
            "2000\t6290.513\n",
            "2000\t6406.52\n",
            "4000\t13275.385\n",
            "4000\t13245.749\n",
            "4000\t13066.505\n",
            "4000\t12673.954\n",
            "8000\t30627.415\n",
            "8000\t32150.786\n",
            "8000\t28919.035\n",
            "8000\t28462.084\n",
            "10000\t39904.374\n",
            "10000\t40326.317\n",
            "10000\t39238.08\n",
            "10000\t41106.496\n",
            "20000\t87122.538\n",
            "20000\t85601.213\n",
            "20000\t83619.183\n",
            "20000\t94809.19\n",
            "40000\t186253.374\n",
            "40000\t189046.857\n",
            "40000\t185409.399\n",
            "40000\t185642.761\n",
            "80000\t410152.122\n",
            "80000\t437302.342\n",
            "80000\t415764.135\n",
            "80000\t436760.316\n",
            "100000\t528077.806\n",
            "100000\t568040.306\n",
            "100000\t540131.605\n",
            "100000\t567273.582\n",
            "--------------------\n"
          ]
        }
      ]
    },
    {
      "cell_type": "code",
      "source": [
        "num_vertices, num_edges = read_input_data(\"/content/vertices-edges.txt\")\n",
        "print(num_vertices)\n",
        "print(num_edges)"
      ],
      "metadata": {
        "colab": {
          "base_uri": "https://localhost:8080/"
        },
        "id": "jPWERa5YKy6M",
        "outputId": "702c9a96-e7b0-43b3-9e5a-eed32fabb1f3"
      },
      "execution_count": null,
      "outputs": [
        {
          "output_type": "stream",
          "name": "stdout",
          "text": [
            "[10, 10, 10, 10, 20, 20, 20, 20, 40, 40, 40, 40, 80, 80, 80, 80, 100, 100, 100, 100, 200, 200, 200, 200, 400, 400, 400, 400, 800, 800, 800, 800, 1000, 1000, 1000, 1000, 2000, 2000, 2000, 2000, 4000, 4000, 4000, 4000, 8000, 8000, 8000, 8000, 10000, 10000, 10000, 10000, 20000, 20000, 20000, 20000, 40000, 40000, 40000, 40000, 80000, 80000, 80000, 80000, 100000, 100000, 100000, 100000]\n",
            "[9, 11, 13, 10, 24, 24, 28, 26, 56, 50, 50, 52, 108, 99, 104, 114, 136, 129, 137, 132, 267, 269, 269, 267, 540, 518, 538, 526, 1063, 1058, 1076, 1049, 1300, 1313, 1328, 1344, 2699, 2654, 2652, 2677, 5360, 5315, 5340, 5368, 10705, 10670, 10662, 10757, 13301, 13340, 13287, 13311, 26667, 26826, 26673, 26670, 53415, 53446, 53242, 53319, 106914, 106633, 106586, 106554, 133395, 133214, 133524, 133463]\n"
          ]
        }
      ]
    },
    {
      "cell_type": "code",
      "source": [
        "sorted_sizes = list(zip(*tuples))[0]\n",
        "sorted_runtimes = list(zip(*tuples))[1]\n",
        "ratios = [None] + [round(tuples[i+1][1]/tuples[i][1],3) for i in range(len(sizes)-1)]\n",
        "c_estimates = [round(run_time/(m*math.log(n)),3) for run_time,m,n in zip(sorted_runtimes,num_edges,sorted_sizes)]\n",
        "headers = [\"Size\",\"Time\",\"Constant\",\"Ratio\"]\n",
        "data=[]\n",
        "for i in range(len(sizes)):\n",
        "  data.append([tuples[i][0], tuples[i][1], c_estimates[i], ratios[i]]) \n",
        "table = columnar(data,headers, no_borders= True)\n",
        "print(table)"
      ],
      "metadata": {
        "colab": {
          "base_uri": "https://localhost:8080/"
        },
        "id": "biwsqLecCmvG",
        "outputId": "38236f45-64ea-48da-d9c8-53ea0b3c706c"
      },
      "execution_count": null,
      "outputs": [
        {
          "output_type": "stream",
          "name": "stdout",
          "text": [
            "          \n",
            "  SIZE    TIME        CONSTANT  RATIO  \n",
            "    \n",
            "  10      36.745      1.773     None   \n",
            "  10      31.852      1.258     0.867  \n",
            "  10      26.823      0.896     0.842  \n",
            "  10      22.196      0.964     0.827  \n",
            "  20      53.143      0.739     2.394  \n",
            "  20      47.957      0.667     0.902  \n",
            "  20      53.363      0.636     1.113  \n",
            "  20      54.791      0.703     1.027  \n",
            "  40      128.459     0.622     2.345  \n",
            "  40      104.008     0.564     0.81   \n",
            "  40      204.847     1.111     1.97   \n",
            "  40      106.221     0.554     0.519  \n",
            "  80      236.317     0.499     2.225  \n",
            "  80      236.14      0.544     0.999  \n",
            "  80      217.308     0.477     0.92   \n",
            "  80      237.772     0.476     1.094  \n",
            "  100     286.095     0.457     1.203  \n",
            "  100     289.976     0.488     1.014  \n",
            "  100     293.442     0.465     1.012  \n",
            "  100     275.533     0.453     0.939  \n",
            "  200     563.795     0.399     2.046  \n",
            "  200     1184.213    0.831     2.1    \n",
            "  200     598.863     0.42      0.506  \n",
            "  200     577.582     0.408     0.964  \n",
            "  400     1214.024    0.375     2.102  \n",
            "  400     1185.234    0.382     0.976  \n",
            "  400     1207.689    0.375     1.019  \n",
            "  400     1146.573    0.364     0.949  \n",
            "  800     2399.502    0.338     2.093  \n",
            "  800     2647.814    0.374     1.103  \n",
            "  800     2390.698    0.332     0.903  \n",
            "  800     2441.137    0.348     1.021  \n",
            "  1000    2907.879    0.324     1.191  \n",
            "  1000    2970.206    0.327     1.021  \n",
            "  1000    3004.845    0.328     1.012  \n",
            "  1000    3064.399    0.33      1.02   \n",
            "  2000    6623.715    0.323     2.162  \n",
            "  2000    7671.003    0.38      1.158  \n",
            "  2000    6290.513    0.312     0.82   \n",
            "  2000    6406.52     0.315     1.018  \n",
            "  4000    13275.385   0.299     2.072  \n",
            "  4000    13245.749   0.3       0.998  \n",
            "  4000    13066.505   0.295     0.986  \n",
            "  4000    12673.954   0.285     0.97   \n",
            "  8000    30627.415   0.318     2.417  \n",
            "  8000    32150.786   0.335     1.05   \n",
            "  8000    28919.035   0.302     0.899  \n",
            "  8000    28462.084   0.294     0.984  \n",
            "  10000   39904.374   0.326     1.402  \n",
            "  10000   40326.317   0.328     1.011  \n",
            "  10000   39238.08    0.321     0.973  \n",
            "  10000   41106.496   0.335     1.048  \n",
            "  20000   87122.538   0.33      2.119  \n",
            "  20000   85601.213   0.322     0.983  \n",
            "  20000   83619.183   0.317     0.977  \n",
            "  20000   94809.19    0.359     1.134  \n",
            "  40000   186253.374  0.329     1.965  \n",
            "  40000   189046.857  0.334     1.015  \n",
            "  40000   185409.399  0.329     0.981  \n",
            "  40000   185642.761  0.329     1.001  \n",
            "  80000   410152.122  0.34      2.209  \n",
            "  80000   437302.342  0.363     1.066  \n",
            "  80000   415764.135  0.346     0.951  \n",
            "  80000   436760.316  0.363     1.051  \n",
            "  100000  528077.806  0.344     1.209  \n",
            "  100000  568040.306  0.37      1.076  \n",
            "  100000  540131.605  0.351     0.951  \n",
            "  100000  567273.582  0.369     1.05   \n",
            "\n"
          ]
        }
      ]
    },
    {
      "cell_type": "markdown",
      "source": [
        "To plot the complexity of our algorithm, we take the average of c_estimates"
      ],
      "metadata": {
        "id": "oxju_RHz8YAB"
      }
    },
    {
      "cell_type": "code",
      "source": [
        "c = sum(c_estimates)/len(c_estimates)\n",
        "c "
      ],
      "metadata": {
        "colab": {
          "base_uri": "https://localhost:8080/"
        },
        "id": "6cZrLG66CpGW",
        "outputId": "d4ea281f-2178-4938-c435-999c04ff3bf0"
      },
      "execution_count": null,
      "outputs": [
        {
          "output_type": "execute_result",
          "data": {
            "text/plain": [
              "0.4582941176470591"
            ]
          },
          "metadata": {},
          "execution_count": 25
        }
      ]
    },
    {
      "cell_type": "markdown",
      "source": [
        "In the following plots, we compare our algorithm complexity with O(mlog(n)) in linear and in logarithmic scale."
      ],
      "metadata": {
        "id": "EHiUOQgh8eMT"
      }
    },
    {
      "cell_type": "code",
      "source": [
        "reference = [c*m*math.log(n) for n,m in zip(sorted_sizes,num_edges)]\n",
        "plt.plot(sorted_sizes, sorted_runtimes)\n",
        "plt.plot(sorted_sizes, reference)\n",
        "plt.legend([\"Prim's measured time\", \"c*mlog(n)\"])\n",
        "plt.ylabel('run time (ns)')\n",
        "plt.xlabel('size')\n",
        "plt.show()"
      ],
      "metadata": {
        "colab": {
          "base_uri": "https://localhost:8080/",
          "height": 279
        },
        "id": "0u7iEvhZCqk9",
        "outputId": "30869278-9925-4471-a52c-c26f2e9bb73b"
      },
      "execution_count": null,
      "outputs": [
        {
          "output_type": "display_data",
          "data": {
            "text/plain": [
              "<Figure size 432x288 with 1 Axes>"
            ],
            "image/png": "[encoded data removed]"
          },
          "metadata": {
            "needs_background": "light"
          }
        }
      ]
    },
    {
      "cell_type": "code",
      "source": [
        "plt.plot(sorted_sizes, sorted_runtimes)\n",
        "plt.yscale(\"log\")\n",
        "plt.plot(sorted_sizes, reference)\n",
        "plt.legend([\"Prim's measured time\", \"c*mlog(n)\"])\n",
        "plt.ylabel('run time (ns)')\n",
        "plt.xlabel('size')\n",
        "plt.show()"
      ],
      "metadata": {
        "colab": {
          "base_uri": "https://localhost:8080/",
          "height": 282
        },
        "id": "bmo0JLPOCsFx",
        "outputId": "1eecee43-4251-4cac-d593-799c7926d40c"
      },
      "execution_count": null,
      "outputs": [
        {
          "output_type": "display_data",
          "data": {
            "text/plain": [
              "<Figure size 432x288 with 1 Axes>"
            ],
            "image/png": "[encoded data removed]"
          },
          "metadata": {
            "needs_background": "light"
          }
        }
      ]
    }
  ],
  "metadata": {
    "colab": {
      "collapsed_sections": [],
      "name": "Kruskal_Union_Algorithm.ipynb",
      "provenance": []
    },
    "kernelspec": {
      "display_name": "Python 3",
      "name": "python3"
    },
    "language_info": {
      "name": "python"
    }
  },
  "nbformat": 4,
  "nbformat_minor": 0
}