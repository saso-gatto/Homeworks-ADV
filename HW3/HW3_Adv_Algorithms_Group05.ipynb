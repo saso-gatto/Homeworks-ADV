{
  "cells": [
    {
      "cell_type": "markdown",
      "metadata": {
        "id": "A3dvUo-Iz6wD"
      },
      "source": [
        "# Imports\n",
        "\n"
      ]
    },
    {
      "cell_type": "code",
      "source": [
        "pip install columnar #package to print table of data "
      ],
      "metadata": {
        "colab": {
          "base_uri": "https://localhost:8080/"
        },
        "id": "g0_0ztHwgJoa",
        "outputId": "329693bc-fe88-44cc-f4df-0acc7f2f5a59"
      },
      "execution_count": null,
      "outputs": [
        {
          "output_type": "stream",
          "name": "stdout",
          "text": [
            "Looking in indexes: https://pypi.org/simple, https://us-python.pkg.dev/colab-wheels/public/simple/\n",
            "Collecting columnar\n",
            "  Downloading Columnar-1.4.1-py3-none-any.whl (11 kB)\n",
            "Requirement already satisfied: toolz in /usr/local/lib/python3.7/dist-packages (from columnar) (0.11.2)\n",
            "Requirement already satisfied: wcwidth in /usr/local/lib/python3.7/dist-packages (from columnar) (0.2.5)\n",
            "Installing collected packages: columnar\n",
            "Successfully installed columnar-1.4.1\n"
          ]
        }
      ]
    },
    {
      "cell_type": "code",
      "execution_count": null,
      "metadata": {
        "id": "2TpUl7iDD8Rw"
      },
      "outputs": [],
      "source": [
        "from collections import defaultdict\n",
        "import sys\n",
        "import math\n",
        "import time\n",
        "import heapq\n",
        "import gc\n",
        "import zipfile\n",
        "import random\n",
        "import numpy as np\n",
        "from time import perf_counter_ns, perf_counter\n",
        "import os\n",
        "import matplotlib.pyplot as plt\n",
        "from columnar import columnar\n",
        "import copy"
      ]
    },
    {
      "cell_type": "code",
      "execution_count": null,
      "metadata": {
        "colab": {
          "base_uri": "https://localhost:8080/"
        },
        "id": "u8ztBEn2noYM",
        "outputId": "b2881c59-8e6f-4126-b4a3-ad2e7626ad60"
      },
      "outputs": [
        {
          "output_type": "stream",
          "name": "stdout",
          "text": [
            "Mounted at /content/drive\n"
          ]
        }
      ],
      "source": [
        "from google.colab import drive\n",
        "drive.mount('/content/drive')"
      ]
    },
    {
      "cell_type": "code",
      "execution_count": null,
      "metadata": {
        "id": "AsY343bAmG50"
      },
      "outputs": [],
      "source": [
        "with zipfile.ZipFile('/content/drive/MyDrive/mincut_dataset.zip', 'r') as zip_ref:\n",
        "\n",
        "     zip_ref.extractall('/content/')"
      ]
    },
    {
      "cell_type": "markdown",
      "metadata": {
        "id": "hb3ZngYLz5n3"
      },
      "source": [
        "# Classes and handy functions"
      ]
    },
    {
      "cell_type": "markdown",
      "metadata": {
        "id": "JvdJRbeL0EiX"
      },
      "source": [
        "In this section we define some useful classes and functions for our algorithm implementations."
      ]
    },
    {
      "cell_type": "code",
      "execution_count": null,
      "metadata": {
        "id": "1WTU5Nr40YWq"
      },
      "outputs": [],
      "source": [
        "class Graph_Karger():\n",
        "  def __init__ (self,size):\n",
        "    self.V=[]\n",
        "    self.W = np.zeros((size,size))\n",
        "\n",
        "  #The method adds an edge to weighted adjacency matrix.\n",
        "  def add_edge(self, source_node, destination_node, weight):\n",
        "    # First case\n",
        "    # We add the source and the destination node only if the are not already present\n",
        "    if (source_node not in self.V):\n",
        "      self.V.append(source_node)\n",
        "    \n",
        "    if (destination_node not in self.V):\n",
        "      self.V.append(destination_node)\n",
        "    \n",
        "    # Now we can add the edge\n",
        "    self.W[source_node][destination_node]=weight\n",
        "    self.W[destination_node][source_node]=weight\n",
        "    \n",
        "\n",
        "  def set_w(self,w):\n",
        "    self.W = w\n",
        "\n",
        "  # The method copy creates a new instance of the class GraphKarger whose elements are the same of the current one.\n",
        "  def copy(self):\n",
        "    graph = Graph_Karger(len(self.V))\n",
        "    graph.V = copy.deepcopy(self.V)\n",
        "    graph.W = copy.deepcopy(self.W)\n",
        "    return graph"
      ]
    },
    {
      "cell_type": "code",
      "source": [
        "class Graph_StoerWagner():\n",
        "  def __init__ (self):\n",
        "    self.V=[]\n",
        "    self.E= defaultdict(list)\n",
        "    self.adjacency_list = defaultdict((dict))\n",
        "\n",
        "  def add_edge(self, source_node, destination_node, weight):\n",
        "    # First case\n",
        "    # We add the source and the destination node only if the are not already present\n",
        "    if (source_node not in self.V):\n",
        "      self.V.append(source_node)\n",
        "    \n",
        "    if (destination_node not in self.V):\n",
        "      self.V.append(destination_node)\n",
        "    \n",
        "    # Now we can add the edge\n",
        "    #edge = (source_node.vertex, destination_node.vertex, weight)\n",
        "    self.E[(source_node,destination_node)] = weight\n",
        "\n",
        "    # Now we update the graph\n",
        "    self.adjacency_list[source_node][destination_node]= weight\n",
        "    if (source_node != destination_node):\n",
        "      self.adjacency_list[destination_node][source_node]= weight\n",
        "\n",
        "  # Given an edge, the methods check if it's already present in the Graph.\n",
        "  # If it already exists an edge (v1,v2), it sums to it the new weight. \n",
        "  # Otherwise, it adds the new edge calling the method add_edge.\n",
        "  def update_edge(self,v1,v2,weight):\n",
        "    if v1 == v2:\n",
        "      return\n",
        "    if (self.get_edge(v1,v2)!=0):\n",
        "      old_weight = self.get_edge(v1,v2)\n",
        "      tot = old_weight+weight\n",
        "      self.adjacency_list[v1][v2] = tot\n",
        "      if (v1 != v2):\n",
        "        self.adjacency_list[v2][v1] = tot\n",
        "        if ((v1,v2) in self.E):\n",
        "          self.E[(v1,v2)]=tot\n",
        "        elif ((v2,v1) in self.E):\n",
        "          self.E[(v2,v1)]=tot\n",
        "    else:\n",
        "      self.add_edge(v1,v2,weight)\n",
        "    \n",
        "\n",
        "  def get_edge(self, v1,v2):\n",
        "    if((v1,v2) in self.E):\n",
        "      return self.E.get((v1,v2))\n",
        "    elif ((v2,v1) in self.E):\n",
        "      return self.E.get((v2,v1))\n",
        "    else:\n",
        "      return 0\n",
        "      \n",
        "  def remove_edge(self,v1,v2):\n",
        "    weight = 0\n",
        "    if((v1,v2) in self.E):\n",
        "      weight = self.E[(v1,v2)]\n",
        "      del self.E[(v1,v2)]\n",
        "    else:\n",
        "      weight = self.E[(v2,v1)]\n",
        "      del self.E[(v2,v1)]\n",
        "    \n",
        "    self.adjacency_list[v1].pop(v2)\n",
        "    self.adjacency_list[v2].pop(v1)\n",
        "    \n",
        "    \n",
        "  # The method copy creates a new instance of the class Graph_StoerWagner whose elements are the same of the current one.\n",
        "  def copy(self):\n",
        "    graph = Graph_StoerWagner()\n",
        "    graph.V = copy.deepcopy(self.V)\n",
        "    graph.E = copy.deepcopy(self.E)\n",
        "    graph.adjacency_list = copy.deepcopy(self.adjacency_list)\n",
        "    return graph"
      ],
      "metadata": {
        "id": "aUvPWeE3SVlD"
      },
      "execution_count": null,
      "outputs": []
    },
    {
      "cell_type": "code",
      "source": [
        "def read_input_graph(filepath,algorithm):\n",
        "  f = open(filepath, \"r\")\n",
        "  lines = f.readlines()\n",
        "  for index, line in enumerate (lines):\n",
        "    text = line.strip()\n",
        "    text_splitted = text.split(\" \")\n",
        "    if (index==0):\n",
        "      size = text_splitted[0]\n",
        "      if algorithm==\"Karger\":\n",
        "        graph = Graph_Karger(int(size))\n",
        "      elif algorithm == \"Stoer\":\n",
        "        graph = Graph_StoerWagner()\n",
        "    else:\n",
        "      if algorithm==\"Karger\":\n",
        "        graph.add_edge(int(text_splitted[0])-1,int(text_splitted[1])-1,int(text_splitted[2]))\n",
        "      elif algorithm==\"Stoer\":\n",
        "        graph.add_edge(int(text_splitted[0]),int(text_splitted[1]),int(text_splitted[2]))\n",
        "\n",
        "  f.close()\n",
        "  return graph,int(size)"
      ],
      "metadata": {
        "id": "PYLuv7ASd4Cs"
      },
      "execution_count": null,
      "outputs": []
    },
    {
      "cell_type": "code",
      "execution_count": null,
      "metadata": {
        "id": "oaVXZaUhlCGF"
      },
      "outputs": [],
      "source": [
        "def measure_run_time_karger(input_directory,weights):\n",
        "  avg_sum_times = 0.0\n",
        "  sizes = []\n",
        "  total_times = []\n",
        "  avg_run_times = []\n",
        "\n",
        "  discovery_times=[]\n",
        "  for file in sorted(os.listdir(input_directory)):\n",
        "    print(\"------------------------------------------------------------------------\")\n",
        "    file_path = f\"{input_directory}/{file}\"\n",
        "    original_graph,size = read_input_graph(file_path,\"Karger\")\n",
        "    num_iterations=round(math.log2(size)**2)\n",
        "\n",
        "    print(f\"Reading file {file}\")\n",
        "    gc.disable()\n",
        "    discovery_time = 0\n",
        "    min_weight = 1e6\n",
        "    start_time= perf_counter()\n",
        "    for i in range(num_iterations):\n",
        "      graph =  original_graph.copy()\n",
        "      D,C= initialize_datastructures(graph)\n",
        "      avg_start_time=perf_counter_ns()\n",
        "      weight = (recursive_contract(D,graph.W,0))\n",
        "      avg_end_time=perf_counter_ns()\n",
        "      avg_sum_times += (avg_end_time-avg_start_time)\n",
        "      if weight < min_weight:\n",
        "        discovery_time= perf_counter()-start_time\n",
        "        min_weight = weight\n",
        "    end_time=perf_counter()\n",
        "\n",
        "    weights.append(min_weight)\n",
        "    sizes.append(size)\n",
        "    gc.enable()\n",
        "\n",
        "    time = end_time-start_time\n",
        "    total_times.append(time)\n",
        "    discovery_times.append(discovery_time)\n",
        "\n",
        "    avg_time = (avg_sum_times/num_iterations)\n",
        "    avg_run_times.append(avg_time)\n",
        "    print(f\"Weight minimum cut: {min_weight}, with discovery time {discovery_time} s, total time: {time} s, average time: {avg_time} ns\")\n",
        "\n",
        "  # return running time in nanoseconds\n",
        "  return total_times,sizes,discovery_times,weights,avg_run_times\n",
        "  \n",
        "\n"
      ]
    },
    {
      "cell_type": "code",
      "source": [
        "def measure_run_time_stoer(input_directory):\n",
        "  sum_times = 0.0\n",
        "  num_iterations= 200\n",
        "  sizes = []\n",
        "  avg_run_times = []\n",
        "  weights = []\n",
        "  for file in sorted(os.listdir(input_directory)):\n",
        "    print(\"------------------------------------------------------------------------\")\n",
        "    file_path = f\"{input_directory}/{file}\"\n",
        "    graph,size = read_input_graph(file_path,\"Stoer\")\n",
        "    print(f\"Reading file {file}\")\n",
        "    gc.disable()\n",
        "    for i in range(num_iterations):\n",
        "      start_time=perf_counter_ns()\n",
        "      cut,weight = global_min_cut(graph)\n",
        "      end_time=perf_counter_ns()\n",
        "      sum_times += (end_time-start_time)\n",
        "    sizes.append(size)\n",
        "    weights.append(weight)\n",
        "    gc.enable()\n",
        "    time = (sum_times/num_iterations)\n",
        "    avg_run_times.append(time)\n",
        "    print(f\"Weight minimum cut: {weight}, total time: {time} ns\")\n",
        "\n",
        "  return avg_run_times,sizes,weights"
      ],
      "metadata": {
        "id": "YOBLjSYJV_2x"
      },
      "execution_count": null,
      "outputs": []
    },
    {
      "cell_type": "code",
      "source": [
        "def read_input_data(filepath):\n",
        "  f = open(filepath, \"r\")\n",
        "  lines = f.readlines()\n",
        "  alist = []\n",
        "  for index, line in enumerate (lines):\n",
        "    text = line.strip()\n",
        "    text_splitted = text.split(\",\") \n",
        "    alist.append(int(float(text_splitted[0])))\n",
        "  return alist"
      ],
      "metadata": {
        "id": "9QPShLcpkzaY"
      },
      "execution_count": null,
      "outputs": []
    },
    {
      "cell_type": "code",
      "source": [
        "def read_input_data_float(filepath):\n",
        "  f = open(filepath, \"r\")\n",
        "  lines = f.readlines()\n",
        "  alist = []\n",
        "  for index, line in enumerate (lines):\n",
        "    text = line.strip()\n",
        "    text_splitted = text.split(\",\") \n",
        "    alist.append(float(text_splitted[0]))\n",
        "  return alist"
      ],
      "metadata": {
        "id": "vmi7jHpwa1gG"
      },
      "execution_count": null,
      "outputs": []
    },
    {
      "cell_type": "markdown",
      "metadata": {
        "id": "qD9nJsi73IAC"
      },
      "source": [
        "#Karger and Stein's algorithm \n",
        "This section contains the methods to implement Karger and Stein's algorithm"
      ]
    },
    {
      "cell_type": "code",
      "source": [
        "#This function is to initialize weighted degree of vertices and cumulative weight array.\n",
        "def initialize_datastructures(graph):\n",
        "  weighted_degree =np.zeros(len(graph.V))\n",
        "  c = np.zeros(len(graph.V))\n",
        "  for i in range(len(graph.V)):\n",
        "    weighted_degree[i] = np.sum(graph.W[i])\n",
        "    c[i] = c[i-1] +weighted_degree[i]\n",
        "  return weighted_degree,c"
      ],
      "metadata": {
        "id": "kKuvKU7snKev"
      },
      "execution_count": null,
      "outputs": []
    },
    {
      "cell_type": "code",
      "source": [
        "# This function returns the number of vertices with entries different from zero of the adjacency matrix\n",
        "def get_num_vertices(W):\n",
        "  count = np.count_nonzero(W>0,axis=0)\n",
        "  tot = np.count_nonzero(count>0)\n",
        "  return tot"
      ],
      "metadata": {
        "id": "uQuyALs8bWBy"
      },
      "execution_count": null,
      "outputs": []
    },
    {
      "cell_type": "code",
      "source": [
        "# The method returns the vertices of adjacency matrix W.\n",
        "# For each row it checks if there exists an element greater than zero.\n",
        "# Using np.where, it takes the indices of all vertices >0\n",
        "def get_vertices_np(W):\n",
        "  count = np.count_nonzero(W>0,axis=0)\n",
        "  tot = np.where(count != 0)[0]\n",
        "  return tot"
      ],
      "metadata": {
        "id": "KwCWKdHGPrxn"
      },
      "execution_count": null,
      "outputs": []
    },
    {
      "cell_type": "code",
      "source": [
        "def random_select(C):\n",
        "  r = int(random.uniform(0,C[-1]))\n",
        "\n",
        "  low = 0\n",
        "  high = len(C)-1\n",
        "  best_ind = low\n",
        "\n",
        "  # Binary search\n",
        "  while low <= high:\n",
        "    mid = low + (high - low) // 2\n",
        "    # Condition to verify\n",
        "    if (C[mid-1] <= r and r<C[mid]) or (mid==0 and r<=C[mid]):\n",
        "      break\n",
        "    elif C[mid] <=r:\n",
        "      low = mid +1\n",
        "    elif C[mid] > r:\n",
        "      high =mid\n",
        "  best_ind=mid\n",
        "  return best_ind"
      ],
      "metadata": {
        "id": "WKw_rEMTtxdJ"
      },
      "execution_count": null,
      "outputs": []
    },
    {
      "cell_type": "code",
      "source": [
        "# The method chooses a vertex u with probability proportional to D[u]\n",
        "def edge_select(D,W):\n",
        "  weights_D = []\n",
        "  total_weights = 0\n",
        "  for i in range(len(D)):\n",
        "    total_weights += (D[i])\n",
        "    weights_D.append(total_weights)\n",
        "  u = random_select(weights_D)\n",
        "\n",
        "  weights_W = []\n",
        "  total_weights = 0\n",
        "  \n",
        "  # Once u is fixed, choose v with probability proportional to W[u,v]\n",
        "  for i in range (len(D)):\n",
        "    total_weights += W[u][i]\n",
        "    weights_W.append(total_weights)\n",
        "  v = random_select(weights_W)\n",
        "  return u,v"
      ],
      "metadata": {
        "id": "P7CrxrEms35e"
      },
      "execution_count": null,
      "outputs": []
    },
    {
      "cell_type": "code",
      "source": [
        "# Once we have selected the edge (u,v), we have to contract the graph according to that edge\n",
        "# The idea is to update the weight of u,v\n",
        "def contract_edge_karger(D,W,u,v):\n",
        "  D[u] = D[u] + D[v] - 2*W[u][v]\n",
        "  D[v] = 0\n",
        "  W[u][v] = W[v][u] = 0 # We remove u,v from the graph\n",
        "  for w in (get_vertices_np(W)):   # We have to update the weights of the other edges\n",
        "    if w!=u and w!=v:\n",
        "      W[u][w] = W[u][w]+W[v][w]\n",
        "      W[w][u] = W[w][u]+W[w][v]\n",
        "      W[v][w] = 0\n",
        "      W[w][v] = 0   \n",
        "  return D,W \n"
      ],
      "metadata": {
        "id": "q9ve8awyprCJ"
      },
      "execution_count": null,
      "outputs": []
    },
    {
      "cell_type": "code",
      "source": [
        "# The method conctract returns a contraction of G to k-vertices\n",
        "# The graph G is represetend by the matrix W and the vector D\n",
        "\n",
        "def contract(D,W,k):\n",
        "  num_vertices = get_num_vertices(W)\n",
        "  for i in range(num_vertices-k):\n",
        "    u,v = edge_select(D,W)\n",
        "    D,W =contract_edge_karger(D,W,u,v)\n",
        "  return D,W"
      ],
      "metadata": {
        "id": "SQDEybiIq6N_"
      },
      "execution_count": null,
      "outputs": []
    },
    {
      "cell_type": "code",
      "source": [
        "def recursive_contract(D,W):\n",
        "  num_vertices = get_num_vertices(W)\n",
        "  \n",
        "  if (num_vertices<=6):\n",
        "    temp_D, W = contract(D,W,2)\n",
        "    # The method checks if there exists at least an element greater than zero\n",
        "    # In this case, it returns the first index \n",
        "    if (len(W[W>0])!=0):\n",
        "      return (W[W>0][0])\n",
        "    \n",
        "  \n",
        "  t = math.ceil((num_vertices/math.sqrt(2))+1)\n",
        "  w = []\n",
        "\n",
        "  for i in range (1,2):\n",
        "    temp_D, W = contract(D,W,t)\n",
        "    w.append(recursive_contract(temp_D,W))\n",
        "  min_weight = min(w)\n",
        "  return min_weight\n",
        "\n"
      ],
      "metadata": {
        "id": "8TgCSa4RI3ha"
      },
      "execution_count": null,
      "outputs": []
    },
    {
      "cell_type": "markdown",
      "source": [
        "# Stoer and Wagner\n",
        "This section contains the methods to implement Stoer and Wagner's algorithm"
      ],
      "metadata": {
        "id": "NPoa_30x-Mv6"
      }
    },
    {
      "cell_type": "code",
      "source": [
        "def st_mincut(graph):\n",
        "  heap = []\n",
        "  key = defaultdict(list) # we use this to keep track of the keys in the heap\n",
        "  vertices = graph.V.copy()\n",
        "  for u in graph.V:\n",
        "    key[u] = 0\n",
        "    heap.append((key[u],u)) # add nodes to the heap\n",
        "  s = None\n",
        "  t = None\n",
        "  while heap:\n",
        "    k,u = heapq.heappop(heap) #extract max element\n",
        "    key[u] = 1e6 # flag to mark that u is no longer in the heap\n",
        "    s = t\n",
        "    t = u\n",
        "    for vertex,weight in graph.adjacency_list[u].items():\n",
        "      if key[vertex] != 1e6: # if v is in the heap\n",
        "        index = heap.index((key[vertex],vertex)) # look for the index of vertex in the heap\n",
        "        w = graph.get_edge(vertex,u) # weight of the edge (vertex,u)\n",
        "        key[vertex] = key[vertex] - w #we subtract w since we are taking the opposite of the key (-key)\n",
        "        heap[index] = (key[vertex],vertex) # modify key inside the heap\n",
        "    heapq.heapify(heap) #mantain the heap invariant\n",
        "  vertices.remove(t)\n",
        "  return (vertices,t),s,t,-k"
      ],
      "metadata": {
        "id": "P7nLgcE3Slle"
      },
      "execution_count": null,
      "outputs": []
    },
    {
      "cell_type": "code",
      "source": [
        "def contract_edge_stoer(original_graph,u,v):\n",
        "  graph = original_graph.copy()\n",
        "  for w,weight in original_graph.adjacency_list[v].items():\n",
        "    graph.remove_edge(v,w)\n",
        "    # We update the edge of the contracted graph\n",
        "    graph.update_edge(u,w,weight)\n",
        "  graph.V.remove(v)\n",
        "  del graph.adjacency_list[v]\n",
        "  return graph\n"
      ],
      "metadata": {
        "id": "QRmMyDWu5DFF"
      },
      "execution_count": null,
      "outputs": []
    },
    {
      "cell_type": "code",
      "source": [
        "def global_min_cut(graph):\n",
        "  if len(graph.V)==2:\n",
        "    return (graph.V[0],graph.V[1]),graph.get_edge(graph.V[0],graph.V[1]) #returns cut (v1,v2),weight(v1,v2)\n",
        "  else:\n",
        "    C1,s,t,weight_C1 = st_mincut(graph)\n",
        "    contracted_graph = contract_edge_stoer(graph,s,t)\n",
        "    C2,weight_C2 = global_min_cut(contracted_graph)\n",
        "    if weight_C1 <= weight_C2:\n",
        "      return C1,weight_C1\n",
        "    else:\n",
        "      return C2,weight_C2"
      ],
      "metadata": {
        "id": "fyndI8POAtry"
      },
      "execution_count": null,
      "outputs": []
    },
    {
      "cell_type": "markdown",
      "source": [
        "# Results"
      ],
      "metadata": {
        "id": "tCZw_PhSVP81"
      }
    },
    {
      "cell_type": "code",
      "source": [
        "input_directory = '/content/dataset'\n"
      ],
      "metadata": {
        "id": "Pcs2WMl9LZm4"
      },
      "execution_count": null,
      "outputs": []
    },
    {
      "cell_type": "markdown",
      "source": [
        "## Karger and Stein\n",
        "Execution of Karger and Stein's algorithm on the input graphs"
      ],
      "metadata": {
        "id": "VicVTHtpLdHe"
      }
    },
    {
      "cell_type": "code",
      "source": [
        "weights_Karger =[]"
      ],
      "metadata": {
        "id": "8L2k23carkfn"
      },
      "execution_count": null,
      "outputs": []
    },
    {
      "cell_type": "code",
      "source": [
        "total_times_karger,sizes_karger,discovery_times_karger,weights_karger, avg_times_karger= measure_run_time_karger(input_directory,weights_Karger)"
      ],
      "metadata": {
        "colab": {
          "base_uri": "https://localhost:8080/"
        },
        "id": "OboJRJ-ctKPF",
        "outputId": "d0c29a5a-69c4-4e87-b01c-b2a41887e6a1"
      },
      "execution_count": null,
      "outputs": [
        {
          "output_type": "stream",
          "name": "stdout",
          "text": [
            "------------------------------------------------------------------------\n",
            "Reading file input_random_01_10.txt\n",
            "Weight minimum cut: 3056.0, with discovery time 0.0025349269999423996 s, total time: 0.01157103599985021 s, average time: 918322.7272727273 ns\n",
            "------------------------------------------------------------------------\n",
            "Reading file input_random_02_10.txt\n",
            "Weight minimum cut: 223.0, with discovery time 0.0008055979999426199 s, total time: 0.006854692999922918 s, average time: 1457878.9090909092 ns\n",
            "------------------------------------------------------------------------\n",
            "Reading file input_random_03_10.txt\n",
            "Weight minimum cut: 2302.0, with discovery time 0.002585053000075277 s, total time: 0.006911262000130591 s, average time: 2001718.9090909092 ns\n",
            "------------------------------------------------------------------------\n",
            "Reading file input_random_04_10.txt\n",
            "Weight minimum cut: 4974.0, with discovery time 0.00229468999987148 s, total time: 0.007436408999865307 s, average time: 2579759.0 ns\n",
            "------------------------------------------------------------------------\n",
            "Reading file input_random_05_20.txt\n",
            "Weight minimum cut: 1526.0, with discovery time 0.017618700999946668 s, total time: 0.03276368799993179 s, average time: 3071065.736842105 ns\n",
            "------------------------------------------------------------------------\n",
            "Reading file input_random_06_20.txt\n",
            "Weight minimum cut: 1684.0, with discovery time 0.0018011229999501666 s, total time: 0.03209389599987844 s, average time: 4617408.263157895 ns\n",
            "------------------------------------------------------------------------\n",
            "Reading file input_random_07_20.txt\n",
            "Weight minimum cut: 522.0, with discovery time 0.0018003860000135319 s, total time: 0.04133518300000105 s, average time: 6595853.684210527 ns\n",
            "------------------------------------------------------------------------\n",
            "Reading file input_random_08_20.txt\n",
            "Weight minimum cut: 2866.0, with discovery time 0.00674173599986716 s, total time: 0.03139851700007057 s, average time: 8113137.315789473 ns\n",
            "------------------------------------------------------------------------\n",
            "Reading file input_random_09_40.txt\n",
            "Weight minimum cut: 2137.0, with discovery time 0.005190019999872675 s, total time: 0.1692617449998579 s, average time: 11259033.67857143 ns\n",
            "------------------------------------------------------------------------\n",
            "Reading file input_random_10_40.txt\n",
            "Weight minimum cut: 1446.0, with discovery time 0.015369018000001233 s, total time: 0.1469342160000906 s, average time: 16245156.75 ns\n",
            "------------------------------------------------------------------------\n",
            "Reading file input_random_11_40.txt\n",
            "Weight minimum cut: 648.0, with discovery time 0.01009012100007567 s, total time: 0.16369460000009894 s, average time: 21811265.214285713 ns\n",
            "------------------------------------------------------------------------\n",
            "Reading file input_random_12_40.txt\n",
            "Weight minimum cut: 2486.0, with discovery time 0.010263811999948302 s, total time: 0.14707999300003394 s, average time: 26795808.464285713 ns\n",
            "------------------------------------------------------------------------\n",
            "Reading file input_random_13_60.txt\n",
            "Weight minimum cut: 1282.0, with discovery time 0.04175863299997218 s, total time: 0.3948700370001461 s, average time: 32274042.171428572 ns\n",
            "------------------------------------------------------------------------\n",
            "Reading file input_random_14_60.txt\n",
            "Weight minimum cut: 299.0, with discovery time 0.010479863000000478 s, total time: 0.3970514070001627 s, average time: 43175381.77142857 ns\n",
            "------------------------------------------------------------------------\n",
            "Reading file input_random_15_60.txt\n",
            "Weight minimum cut: 2113.0, with discovery time 0.06337867699994604 s, total time: 0.38603795499989246 s, average time: 53768394.17142857 ns\n",
            "------------------------------------------------------------------------\n",
            "Reading file input_random_16_60.txt\n",
            "Weight minimum cut: 159.0, with discovery time 0.021874354999908974 s, total time: 0.4191560969998136 s, average time: 65263510.37142857 ns\n",
            "------------------------------------------------------------------------\n",
            "Reading file input_random_17_80.txt\n",
            "Weight minimum cut: 969.0, with discovery time 0.1269455740000467 s, total time: 0.737356568999985 s, average time: 74963561.425 ns\n",
            "------------------------------------------------------------------------\n",
            "Reading file input_random_18_80.txt\n",
            "Weight minimum cut: 1756.0, with discovery time 0.08294142599993393 s, total time: 0.7390486699998746 s, average time: 92888051.9 ns\n",
            "------------------------------------------------------------------------\n",
            "Reading file input_random_19_80.txt\n",
            "Weight minimum cut: 714.0, with discovery time 0.01889257900006669 s, total time: 0.7565027289999762 s, average time: 111236291.1 ns\n",
            "------------------------------------------------------------------------\n",
            "Reading file input_random_20_80.txt\n",
            "Weight minimum cut: 2610.0, with discovery time 0.10832119099995907 s, total time: 0.734046072999945 s, average time: 129036378.475 ns\n",
            "------------------------------------------------------------------------\n",
            "Reading file input_random_21_100.txt\n",
            "Weight minimum cut: 341.0, with discovery time 0.05619823400002133 s, total time: 1.2242750379998597 s, average time: 144409374.95454547 ns\n",
            "------------------------------------------------------------------------\n",
            "Reading file input_random_22_100.txt\n",
            "Weight minimum cut: 890.0, with discovery time 0.02657902999999351 s, total time: 1.6474995539999782 s, average time: 181122259.5909091 ns\n",
            "------------------------------------------------------------------------\n",
            "Reading file input_random_23_100.txt\n",
            "Weight minimum cut: 772.0, with discovery time 0.42915865100007977 s, total time: 1.7387608889998774 s, average time: 219884142.72727272 ns\n",
            "------------------------------------------------------------------------\n",
            "Reading file input_random_24_100.txt\n",
            "Weight minimum cut: 1561.0, with discovery time 0.09100083799989989 s, total time: 1.2340953820000777 s, average time: 247140489.88636363 ns\n",
            "------------------------------------------------------------------------\n",
            "Reading file input_random_25_150.txt\n",
            "Weight minimum cut: 951.0, with discovery time 0.06720077099998889 s, total time: 3.119159143999923 s, average time: 268055368.40384614 ns\n",
            "------------------------------------------------------------------------\n",
            "Reading file input_random_26_150.txt\n",
            "Weight minimum cut: 424.0, with discovery time 0.0584005729999717 s, total time: 3.141573062999896 s, average time: 327438054.53846157 ns\n",
            "------------------------------------------------------------------------\n",
            "Reading file input_random_27_150.txt\n",
            "Weight minimum cut: 1153.0, with discovery time 0.07259872700001324 s, total time: 3.1716063329999997 s, average time: 387351854.86538464 ns\n",
            "------------------------------------------------------------------------\n",
            "Reading file input_random_28_150.txt\n",
            "Weight minimum cut: 707.0, with discovery time 0.05919655700017756 s, total time: 3.140481665000152 s, average time: 446684940.5192308 ns\n",
            "------------------------------------------------------------------------\n",
            "Reading file input_random_29_200.txt\n",
            "Weight minimum cut: 484.0, with discovery time 0.10767894700006764 s, total time: 6.2476234240000394 s, average time: 506635584.44827586 ns\n",
            "------------------------------------------------------------------------\n",
            "Reading file input_random_30_200.txt\n",
            "Weight minimum cut: 850.0, with discovery time 0.23034609199999068 s, total time: 6.283472770999879 s, average time: 613359266.6724138 ns\n",
            "------------------------------------------------------------------------\n",
            "Reading file input_random_31_200.txt\n",
            "Weight minimum cut: 1382.0, with discovery time 0.7612686410000151 s, total time: 6.245164248000037 s, average time: 719522625.7241379 ns\n",
            "------------------------------------------------------------------------\n",
            "Reading file input_random_32_200.txt\n",
            "Weight minimum cut: 1102.0, with discovery time 0.6420312609998291 s, total time: 6.235429930000009 s, average time: 825438153.4827586 ns\n",
            "------------------------------------------------------------------------\n",
            "Reading file input_random_33_250.txt\n",
            "Weight minimum cut: 346.0, with discovery time 0.1650822959998095 s, total time: 10.71520055499991 s, average time: 928029851.7142857 ns\n",
            "------------------------------------------------------------------------\n",
            "Reading file input_random_34_250.txt\n",
            "Weight minimum cut: 381.0, with discovery time 0.3363541559999703 s, total time: 10.763394145999882 s, average time: 1096878417.2539682 ns\n",
            "------------------------------------------------------------------------\n",
            "Reading file input_random_35_250.txt\n",
            "Weight minimum cut: 129.0, with discovery time 0.3440549540000575 s, total time: 10.732230186000152 s, average time: 1265266843.3492064 ns\n",
            "------------------------------------------------------------------------\n",
            "Reading file input_random_36_250.txt\n",
            "Weight minimum cut: 670.0, with discovery time 0.17315324600008353 s, total time: 12.808685467000032 s, average time: 1466240997.7936509 ns\n",
            "------------------------------------------------------------------------\n",
            "Reading file input_random_37_300.txt\n",
            "Weight minimum cut: 1137.0, with discovery time 2.00597247099995 s, total time: 19.028257895000024 s, average time: 1635661239.6323528 ns\n",
            "------------------------------------------------------------------------\n",
            "Reading file input_random_38_300.txt\n",
            "Weight minimum cut: 869.0, with discovery time 1.259146919999921 s, total time: 17.026930371999924 s, average time: 1883590313.7058823 ns\n",
            "------------------------------------------------------------------------\n",
            "Reading file input_random_39_300.txt\n",
            "Weight minimum cut: 868.0, with discovery time 0.7588408540000273 s, total time: 17.166103499999963 s, average time: 2133573386.985294 ns\n",
            "------------------------------------------------------------------------\n",
            "Reading file input_random_40_300.txt\n",
            "Weight minimum cut: 1148.0, with discovery time 0.25229249499989237 s, total time: 17.139724914999988 s, average time: 2383175968.779412 ns\n",
            "------------------------------------------------------------------------\n",
            "Reading file input_random_41_350.txt\n",
            "Weight minimum cut: 676.0, with discovery time 0.3574936490001619 s, total time: 24.867386771000156 s, average time: 2629733364.2253523 ns\n",
            "------------------------------------------------------------------------\n",
            "Reading file input_random_42_350.txt\n",
            "Weight minimum cut: 290.0, with discovery time 0.7175949380000475 s, total time: 24.81449318099999 s, average time: 2976288581.3239436 ns\n",
            "------------------------------------------------------------------------\n",
            "Reading file input_random_43_350.txt\n",
            "Weight minimum cut: 818.0, with discovery time 1.7672587849999672 s, total time: 24.949091927999916 s, average time: 3324644835.633803 ns\n",
            "------------------------------------------------------------------------\n",
            "Reading file input_random_44_350.txt\n",
            "Weight minimum cut: 175.0, with discovery time 0.3609977720000188 s, total time: 25.16648629800011 s, average time: 3676163923.450704 ns\n",
            "------------------------------------------------------------------------\n",
            "Reading file input_random_45_400.txt\n",
            "Weight minimum cut: 508.0, with discovery time 0.4932028079999782 s, total time: 35.10489701999995 s, average time: 3944622374.346667 ns\n",
            "------------------------------------------------------------------------\n",
            "Reading file input_random_46_400.txt\n",
            "Weight minimum cut: 904.0, with discovery time 1.8601817939998 s, total time: 37.036660157999904 s, average time: 4434806945.586667 ns\n",
            "------------------------------------------------------------------------\n",
            "Reading file input_random_47_400.txt\n",
            "Weight minimum cut: 362.0, with discovery time 0.4648972889999641 s, total time: 35.36371031099998 s, average time: 4902721183.2 ns\n",
            "------------------------------------------------------------------------\n",
            "Reading file input_random_48_400.txt\n",
            "Weight minimum cut: 509.0, with discovery time 0.47253162699985296 s, total time: 35.19525302499983 s, average time: 5368532612.946667 ns\n",
            "------------------------------------------------------------------------\n",
            "Reading file input_random_49_450.txt\n",
            "Weight minimum cut: 400.0, with discovery time 1.2153737399999045 s, total time: 47.51224628099999 s, average time: 5766985242.230769 ns\n",
            "------------------------------------------------------------------------\n",
            "Reading file input_random_50_450.txt\n",
            "Weight minimum cut: 364.0, with discovery time 1.212231379999821 s, total time: 47.67549148199987 s, average time: 6374064444.807693 ns\n",
            "------------------------------------------------------------------------\n",
            "Reading file input_random_51_450.txt\n",
            "Weight minimum cut: 336.0, with discovery time 1.2257063140000355 s, total time: 49.27595354100026 s, average time: 7001655864.743589 ns\n",
            "------------------------------------------------------------------------\n",
            "Reading file input_random_52_450.txt\n",
            "Weight minimum cut: 639.0, with discovery time 0.7332662060002804 s, total time: 47.65113452300011 s, average time: 7608274731.346154 ns\n",
            "------------------------------------------------------------------------\n",
            "Reading file input_random_53_500.txt\n",
            "Weight minimum cut: 43.0, with discovery time 0.804387872999996 s, total time: 62.113342787999954 s, average time: 8189697657.6625 ns\n",
            "------------------------------------------------------------------------\n",
            "Reading file input_random_54_500.txt\n",
            "Weight minimum cut: 805.0, with discovery time 3.097194502000093 s, total time: 62.08178986199982 s, average time: 8960870726.9125 ns\n",
            "------------------------------------------------------------------------\n",
            "Reading file input_random_55_500.txt\n",
            "Weight minimum cut: 363.0, with discovery time 2.33135008499994 s, total time: 64.1047331159998 s, average time: 9757304724.625 ns\n",
            "------------------------------------------------------------------------\n",
            "Reading file input_random_56_500.txt\n",
            "Weight minimum cut: 584.0, with discovery time 3.1197038039999825 s, total time: 62.47033737300035 s, average time: 10533354245.675 ns\n"
          ]
        }
      ]
    },
    {
      "cell_type": "markdown",
      "source": [
        "## Stoer and Wagner\n",
        "Execution of Stoer and Wagner's algorithm on the input graphs"
      ],
      "metadata": {
        "id": "uh3e9OMALjdc"
      }
    },
    {
      "cell_type": "code",
      "source": [
        "avg_runtimes_stoer,sizes_stoer,weights_stoer = measure_run_time_stoer(input_directory)"
      ],
      "metadata": {
        "colab": {
          "base_uri": "https://localhost:8080/"
        },
        "id": "T8RZYdScaRtA",
        "outputId": "5461de5e-1161-4cc3-eae6-c42493766576"
      },
      "execution_count": null,
      "outputs": [
        {
          "output_type": "stream",
          "name": "stdout",
          "text": [
            "------------------------------------------------------------------------\n",
            "Reading file input_random_01_10.txt\n",
            "Weight minimum cut: 3056, total time: 995267.345 ns\n",
            "------------------------------------------------------------------------\n",
            "Reading file input_random_02_10.txt\n",
            "Weight minimum cut: 223, total time: 1829620.705 ns\n",
            "------------------------------------------------------------------------\n",
            "Reading file input_random_03_10.txt\n",
            "Weight minimum cut: 2302, total time: 2754048.74 ns\n",
            "------------------------------------------------------------------------\n",
            "Reading file input_random_04_10.txt\n",
            "Weight minimum cut: 4974, total time: 3549839.765 ns\n",
            "------------------------------------------------------------------------\n",
            "Reading file input_random_05_20.txt\n",
            "Weight minimum cut: 1526, total time: 7025988.8 ns\n",
            "------------------------------------------------------------------------\n",
            "Reading file input_random_06_20.txt\n",
            "Weight minimum cut: 1684, total time: 10409800.51 ns\n",
            "------------------------------------------------------------------------\n",
            "Reading file input_random_07_20.txt\n",
            "Weight minimum cut: 522, total time: 13645381.735 ns\n",
            "------------------------------------------------------------------------\n",
            "Reading file input_random_08_20.txt\n",
            "Weight minimum cut: 2866, total time: 16967643.2 ns\n",
            "------------------------------------------------------------------------\n",
            "Reading file input_random_09_40.txt\n",
            "Weight minimum cut: 2137, total time: 30590686.585 ns\n",
            "------------------------------------------------------------------------\n",
            "Reading file input_random_10_40.txt\n",
            "Weight minimum cut: 1446, total time: 44637738.2 ns\n",
            "------------------------------------------------------------------------\n",
            "Reading file input_random_11_40.txt\n",
            "Weight minimum cut: 648, total time: 58120168.515 ns\n",
            "------------------------------------------------------------------------\n",
            "Reading file input_random_12_40.txt\n",
            "Weight minimum cut: 2486, total time: 71625287.5 ns\n",
            "------------------------------------------------------------------------\n",
            "Reading file input_random_13_60.txt\n",
            "Weight minimum cut: 1282, total time: 104062804.695 ns\n",
            "------------------------------------------------------------------------\n",
            "Reading file input_random_14_60.txt\n",
            "Weight minimum cut: 299, total time: 135152130.54 ns\n",
            "------------------------------------------------------------------------\n",
            "Reading file input_random_15_60.txt\n",
            "Weight minimum cut: 2113, total time: 168826928.47 ns\n",
            "------------------------------------------------------------------------\n",
            "Reading file input_random_16_60.txt\n",
            "Weight minimum cut: 159, total time: 211604623.79 ns\n",
            "------------------------------------------------------------------------\n",
            "Reading file input_random_17_80.txt\n",
            "Weight minimum cut: 969, total time: 271670895.125 ns\n",
            "------------------------------------------------------------------------\n",
            "Reading file input_random_18_80.txt\n",
            "Weight minimum cut: 1756, total time: 332260265.915 ns\n",
            "------------------------------------------------------------------------\n",
            "Reading file input_random_19_80.txt\n",
            "Weight minimum cut: 714, total time: 393963074.125 ns\n",
            "------------------------------------------------------------------------\n",
            "Reading file input_random_20_80.txt\n",
            "Weight minimum cut: 2610, total time: 453933203.85 ns\n",
            "------------------------------------------------------------------------\n",
            "Reading file input_random_21_100.txt\n",
            "Weight minimum cut: 341, total time: 553323994.055 ns\n",
            "------------------------------------------------------------------------\n",
            "Reading file input_random_22_100.txt\n",
            "Weight minimum cut: 890, total time: 643046283.995 ns\n",
            "------------------------------------------------------------------------\n",
            "Reading file input_random_23_100.txt\n",
            "Weight minimum cut: 772, total time: 736243212.46 ns\n",
            "------------------------------------------------------------------------\n",
            "Reading file input_random_24_100.txt\n",
            "Weight minimum cut: 1561, total time: 833383695.35 ns\n",
            "------------------------------------------------------------------------\n",
            "Reading file input_random_25_150.txt\n",
            "Weight minimum cut: 951, total time: 1077957181.545 ns\n",
            "------------------------------------------------------------------------\n",
            "Reading file input_random_26_150.txt\n",
            "Weight minimum cut: 424, total time: 1333881028.14 ns\n",
            "------------------------------------------------------------------------\n",
            "Reading file input_random_27_150.txt\n",
            "Weight minimum cut: 1153, total time: 1575897003.785 ns\n",
            "------------------------------------------------------------------------\n",
            "Reading file input_random_28_150.txt\n",
            "Weight minimum cut: 707, total time: 1835077798.53 ns\n",
            "------------------------------------------------------------------------\n",
            "Reading file input_random_29_200.txt\n",
            "Weight minimum cut: 484, total time: 2325605143.185 ns\n",
            "------------------------------------------------------------------------\n",
            "Reading file input_random_30_200.txt\n",
            "Weight minimum cut: 850, total time: 2791033019.585 ns\n",
            "------------------------------------------------------------------------\n",
            "Reading file input_random_31_200.txt\n",
            "Weight minimum cut: 1382, total time: 3278433274.475 ns\n",
            "------------------------------------------------------------------------\n",
            "Reading file input_random_32_200.txt\n",
            "Weight minimum cut: 1102, total time: 3765140023.835 ns\n",
            "------------------------------------------------------------------------\n",
            "Reading file input_random_33_250.txt\n",
            "Weight minimum cut: 346, total time: 4550227153.98 ns\n",
            "------------------------------------------------------------------------\n",
            "Reading file input_random_34_250.txt\n",
            "Weight minimum cut: 381, total time: 5353728048.715 ns\n",
            "------------------------------------------------------------------------\n",
            "Reading file input_random_35_250.txt\n",
            "Weight minimum cut: 129, total time: 6187091731.09 ns\n",
            "------------------------------------------------------------------------\n",
            "Reading file input_random_36_250.txt\n",
            "Weight minimum cut: 670, total time: 7000264067.715 ns\n",
            "------------------------------------------------------------------------\n",
            "Reading file input_random_37_300.txt\n",
            "Weight minimum cut: 1137, total time: 8283433921.63 ns\n",
            "------------------------------------------------------------------------\n",
            "Reading file input_random_38_300.txt\n",
            "Weight minimum cut: 869, total time: 9538502944.85 ns\n",
            "------------------------------------------------------------------------\n",
            "Reading file input_random_39_300.txt\n",
            "Weight minimum cut: 868, total time: 10846581479.075 ns\n",
            "------------------------------------------------------------------------\n",
            "Reading file input_random_40_300.txt\n",
            "Weight minimum cut: 1148, total time: 12181775538.995 ns\n",
            "------------------------------------------------------------------------\n",
            "Reading file input_random_41_350.txt\n",
            "Weight minimum cut: 676, total time: 14083802590.065 ns\n",
            "------------------------------------------------------------------------\n",
            "Reading file input_random_42_350.txt\n",
            "Weight minimum cut: 290, total time: 16041825444.565 ns\n",
            "------------------------------------------------------------------------\n",
            "Reading file input_random_43_350.txt\n",
            "Weight minimum cut: 818, total time: 17943903804.335 ns\n",
            "------------------------------------------------------------------------\n",
            "Reading file input_random_44_350.txt\n",
            "Weight minimum cut: 175, total time: 19844521093.17 ns\n",
            "------------------------------------------------------------------------\n",
            "Reading file input_random_45_400.txt\n",
            "Weight minimum cut: 508, total time: 22510659064.475 ns\n",
            "------------------------------------------------------------------------\n",
            "Reading file input_random_46_400.txt\n",
            "Weight minimum cut: 904, total time: 25181953267.995 ns\n",
            "------------------------------------------------------------------------\n",
            "Reading file input_random_47_400.txt\n",
            "Weight minimum cut: 362, total time: 27842135787.9 ns\n",
            "------------------------------------------------------------------------\n",
            "Reading file input_random_48_400.txt\n",
            "Weight minimum cut: 509, total time: 30480445441.61 ns\n",
            "------------------------------------------------------------------------\n",
            "Reading file input_random_49_450.txt\n",
            "Weight minimum cut: 400, total time: 34083202870.69 ns\n",
            "------------------------------------------------------------------------\n",
            "Reading file input_random_50_450.txt\n",
            "Weight minimum cut: 364, total time: 37724923718.41 ns\n",
            "------------------------------------------------------------------------\n",
            "Reading file input_random_51_450.txt\n",
            "Weight minimum cut: 336, total time: 41282732230.69 ns\n",
            "------------------------------------------------------------------------\n",
            "Reading file input_random_52_450.txt\n",
            "Weight minimum cut: 639, total time: 44860921513.795 ns\n",
            "------------------------------------------------------------------------\n",
            "Reading file input_random_53_500.txt\n",
            "Weight minimum cut: 43, total time: 49700359243.885 ns\n",
            "------------------------------------------------------------------------\n",
            "Reading file input_random_54_500.txt\n",
            "Weight minimum cut: 805, total time: 54497760004.04 ns\n",
            "------------------------------------------------------------------------\n",
            "Reading file input_random_55_500.txt\n",
            "Weight minimum cut: 363, total time: 59301099368.45 ns\n",
            "------------------------------------------------------------------------\n",
            "Reading file input_random_56_500.txt\n",
            "Weight minimum cut: 584, total time: 64038566293.24 ns\n"
          ]
        }
      ]
    },
    {
      "cell_type": "markdown",
      "source": [
        "# Fast initialization\n",
        "\n",
        "This is just to get results of previous experiments that we stored in a text file so to avoid having to run the code multiple times"
      ],
      "metadata": {
        "id": "co36yH62aIjt"
      }
    },
    {
      "cell_type": "code",
      "source": [
        "sizes = read_input_data('/content/sizes.txt')\n"
      ],
      "metadata": {
        "id": "AJo5IVEtfHgt"
      },
      "execution_count": null,
      "outputs": []
    },
    {
      "cell_type": "code",
      "source": [
        "\n",
        "# STOER\n",
        "edges = read_input_data('/content/num_edges.txt') #gets number of edges from input graph\n",
        "sizes = read_input_data('/content/sizes.txt')\n",
        "weights_stoer = read_input_data('/content/weights_stoerwagner.txt')\n",
        "avg_runtimes_stoer = read_input_data_float('/content/avg_runtimes_stoerwagner.txt')\n"
      ],
      "metadata": {
        "id": "SfmnpxUTCkKz"
      },
      "execution_count": null,
      "outputs": []
    },
    {
      "cell_type": "code",
      "source": [
        "# KARGER\n",
        "sizes_karger = sizes\n",
        "weights_karger = read_input_data('/content/weights-karger.txt')\n",
        "discovery_times_karger = read_input_data_float('/content/discovery-times-karger.txt')\n",
        "avg_times_karger = read_input_data_float('/content/avg_times-karger.txt')\n",
        "total_times_karger = read_input_data_float('/content/total_times_karger.txt')"
      ],
      "metadata": {
        "id": "PefdEFmcdDYF"
      },
      "execution_count": null,
      "outputs": []
    },
    {
      "cell_type": "code",
      "source": [
        "files = []\n",
        "for file in sorted(os.listdir('/content/dataset')):\n",
        "  files.append(file)\n",
        "print(files)"
      ],
      "metadata": {
        "id": "Ro54JUjsr6uI"
      },
      "execution_count": null,
      "outputs": []
    },
    {
      "cell_type": "code",
      "source": [
        "tuples_stoer = []\n",
        "for size,weight,runtime in zip(sizes,weights_stoer, avg_runtimes_stoer):\n",
        "  tuples_stoer.append((size,weight,runtime))\n"
      ],
      "metadata": {
        "id": "3XNeXBTop_7v"
      },
      "execution_count": null,
      "outputs": []
    },
    {
      "cell_type": "code",
      "source": [
        "tuples_karger = []\n",
        "for size,weight,disc_time,total_time,avg_time in zip(sizes_karger,weights_karger,discovery_times_karger, total_times_karger,avg_times_karger):\n",
        "  tuples_karger.append((size,weight,disc_time,total_time,avg_time))\n"
      ],
      "metadata": {
        "id": "cQ-yff3-WhAm"
      },
      "execution_count": null,
      "outputs": []
    },
    {
      "cell_type": "markdown",
      "source": [
        "# Plots\n",
        "In this section we plot our results."
      ],
      "metadata": {
        "id": "juJWK7h0Y6w1"
      }
    },
    {
      "cell_type": "markdown",
      "source": [
        "## Karger and Stein"
      ],
      "metadata": {
        "id": "5FbMjXY4cMdI"
      }
    },
    {
      "cell_type": "code",
      "source": [
        "sorted_sizes_karger = list(zip(*tuples_karger))[0]\n",
        "sorted_weights_karger = list(zip(*tuples_karger))[1]\n",
        "sorted_runtimes_karger = list(zip(*tuples_karger))[4]"
      ],
      "metadata": {
        "id": "lRowL9xUPoOn"
      },
      "execution_count": null,
      "outputs": []
    },
    {
      "cell_type": "code",
      "source": [
        "sorted_weights_karger"
      ],
      "metadata": {
        "id": "xPyDMyQEf8R1"
      },
      "execution_count": null,
      "outputs": []
    },
    {
      "cell_type": "markdown",
      "source": [
        "Summary table of Karger's computation times"
      ],
      "metadata": {
        "id": "ZEwvgW59yt_z"
      }
    },
    {
      "cell_type": "code",
      "source": [
        "headers = [\"Filename\",\"Size\",\"Solution\",\"Discovery Time (s)\", \"Total Time (s)\",\"Average Time (ns)\"]\n",
        "data=[]\n",
        "for i in range(len(sizes_karger)):\n",
        "  data.append([files[i],tuples_karger[i][0], round(tuples_karger[i][1]),round(tuples_karger[i][2],7),round(tuples_karger[i][3],7),round(tuples_karger[i][4],5)])\n",
        "\n",
        "table = columnar(data,headers, no_borders= False)\n",
        "print(table)"
      ],
      "metadata": {
        "colab": {
          "base_uri": "https://localhost:8080/"
        },
        "id": "pn05L6ETWecD",
        "outputId": "2921aa3d-8ef4-4b79-b81f-c1c05c0d89d8"
      },
      "execution_count": null,
      "outputs": [
        {
          "output_type": "stream",
          "name": "stdout",
          "text": [
            "|---------------|-----|--------|---------------|--------------|---------------|\n",
            "|Filename       |Size |Solution|Discovery Time |Total Time (s)|Average Time (n|\n",
            "|               |     |        |(s)            |              |s)             |\n",
            "|=============================================================================|\n",
            "|input_random_01|10   |3056    |0.0025349      |0.011571      |918322.72727   |\n",
            "|_10.txt        |     |        |               |              |               |\n",
            "|---------------|-----|--------|---------------|--------------|---------------|\n",
            "|input_random_02|10   |223     |0.0008056      |0.0068547     |1457878.90909  |\n",
            "|_10.txt        |     |        |               |              |               |\n",
            "|---------------|-----|--------|---------------|--------------|---------------|\n",
            "|input_random_03|10   |2302    |0.0025851      |0.0069113     |2001718.90909  |\n",
            "|_10.txt        |     |        |               |              |               |\n",
            "|---------------|-----|--------|---------------|--------------|---------------|\n",
            "|input_random_04|10   |4974    |0.0022947      |0.0074364     |2579759.0      |\n",
            "|_10.txt        |     |        |               |              |               |\n",
            "|---------------|-----|--------|---------------|--------------|---------------|\n",
            "|input_random_05|20   |1526    |0.0176187      |0.0327637     |3071065.73684  |\n",
            "|_20.txt        |     |        |               |              |               |\n",
            "|---------------|-----|--------|---------------|--------------|---------------|\n",
            "|input_random_06|20   |1684    |0.0018011      |0.0320939     |4617408.26316  |\n",
            "|_20.txt        |     |        |               |              |               |\n",
            "|---------------|-----|--------|---------------|--------------|---------------|\n",
            "|input_random_07|20   |522     |0.0018004      |0.0413352     |6595853.68421  |\n",
            "|_20.txt        |     |        |               |              |               |\n",
            "|---------------|-----|--------|---------------|--------------|---------------|\n",
            "|input_random_08|20   |2866    |0.0067417      |0.0313985     |8113137.31579  |\n",
            "|_20.txt        |     |        |               |              |               |\n",
            "|---------------|-----|--------|---------------|--------------|---------------|\n",
            "|input_random_09|40   |2137    |0.00519        |0.1692617     |11259033.67857 |\n",
            "|_40.txt        |     |        |               |              |               |\n",
            "|---------------|-----|--------|---------------|--------------|---------------|\n",
            "|input_random_10|40   |1446    |0.015369       |0.1469342     |16245156.75    |\n",
            "|_40.txt        |     |        |               |              |               |\n",
            "|---------------|-----|--------|---------------|--------------|---------------|\n",
            "|input_random_11|40   |648     |0.0100901      |0.1636946     |21811265.21429 |\n",
            "|_40.txt        |     |        |               |              |               |\n",
            "|---------------|-----|--------|---------------|--------------|---------------|\n",
            "|input_random_12|40   |2486    |0.0102638      |0.14708       |26795808.46429 |\n",
            "|_40.txt        |     |        |               |              |               |\n",
            "|---------------|-----|--------|---------------|--------------|---------------|\n",
            "|input_random_13|60   |1282    |0.0417586      |0.39487       |32274042.17143 |\n",
            "|_60.txt        |     |        |               |              |               |\n",
            "|---------------|-----|--------|---------------|--------------|---------------|\n",
            "|input_random_14|60   |299     |0.0104799      |0.3970514     |43175381.77143 |\n",
            "|_60.txt        |     |        |               |              |               |\n",
            "|---------------|-----|--------|---------------|--------------|---------------|\n",
            "|input_random_15|60   |2113    |0.0633787      |0.386038      |53768394.17143 |\n",
            "|_60.txt        |     |        |               |              |               |\n",
            "|---------------|-----|--------|---------------|--------------|---------------|\n",
            "|input_random_16|60   |159     |0.0218744      |0.4191561     |65263510.37143 |\n",
            "|_60.txt        |     |        |               |              |               |\n",
            "|---------------|-----|--------|---------------|--------------|---------------|\n",
            "|input_random_17|80   |969     |0.1269456      |0.7373566     |74963561.425   |\n",
            "|_80.txt        |     |        |               |              |               |\n",
            "|---------------|-----|--------|---------------|--------------|---------------|\n",
            "|input_random_18|80   |1756    |0.0829414      |0.7390487     |92888051.9     |\n",
            "|_80.txt        |     |        |               |              |               |\n",
            "|---------------|-----|--------|---------------|--------------|---------------|\n",
            "|input_random_19|80   |714     |0.0188926      |0.7565027     |111236291.1    |\n",
            "|_80.txt        |     |        |               |              |               |\n",
            "|---------------|-----|--------|---------------|--------------|---------------|\n",
            "|input_random_20|80   |2610    |0.1083212      |0.7340461     |129036378.475  |\n",
            "|_80.txt        |     |        |               |              |               |\n",
            "|---------------|-----|--------|---------------|--------------|---------------|\n",
            "|input_random_21|100  |341     |0.0561982      |1.224275      |144409374.95455|\n",
            "|_100.txt       |     |        |               |              |               |\n",
            "|---------------|-----|--------|---------------|--------------|---------------|\n",
            "|input_random_22|100  |890     |0.026579       |1.6474996     |181122259.59091|\n",
            "|_100.txt       |     |        |               |              |               |\n",
            "|---------------|-----|--------|---------------|--------------|---------------|\n",
            "|input_random_23|100  |772     |0.4291587      |1.7387609     |219884142.72727|\n",
            "|_100.txt       |     |        |               |              |               |\n",
            "|---------------|-----|--------|---------------|--------------|---------------|\n",
            "|input_random_24|100  |1561    |0.0910008      |1.2340954     |247140489.88636|\n",
            "|_100.txt       |     |        |               |              |               |\n",
            "|---------------|-----|--------|---------------|--------------|---------------|\n",
            "|input_random_25|150  |951     |0.0672008      |3.1191591     |268055368.40385|\n",
            "|_150.txt       |     |        |               |              |               |\n",
            "|---------------|-----|--------|---------------|--------------|---------------|\n",
            "|input_random_26|150  |424     |0.0584006      |3.1415731     |327438054.53846|\n",
            "|_150.txt       |     |        |               |              |               |\n",
            "|---------------|-----|--------|---------------|--------------|---------------|\n",
            "|input_random_27|150  |1153    |0.0725987      |3.1716063     |387351854.86538|\n",
            "|_150.txt       |     |        |               |              |               |\n",
            "|---------------|-----|--------|---------------|--------------|---------------|\n",
            "|input_random_28|150  |707     |0.0591966      |3.1404817     |446684940.51923|\n",
            "|_150.txt       |     |        |               |              |               |\n",
            "|---------------|-----|--------|---------------|--------------|---------------|\n",
            "|input_random_29|200  |484     |0.1076789      |6.2476234     |506635584.44828|\n",
            "|_200.txt       |     |        |               |              |               |\n",
            "|---------------|-----|--------|---------------|--------------|---------------|\n",
            "|input_random_30|200  |850     |0.2303461      |6.2834728     |613359266.67241|\n",
            "|_200.txt       |     |        |               |              |               |\n",
            "|---------------|-----|--------|---------------|--------------|---------------|\n",
            "|input_random_31|200  |1382    |0.7612686      |6.2451642     |719522625.72414|\n",
            "|_200.txt       |     |        |               |              |               |\n",
            "|---------------|-----|--------|---------------|--------------|---------------|\n",
            "|input_random_32|200  |1102    |0.6420313      |6.2354299     |825438153.48276|\n",
            "|_200.txt       |     |        |               |              |               |\n",
            "|---------------|-----|--------|---------------|--------------|---------------|\n",
            "|input_random_33|250  |346     |0.1650823      |10.7152006    |928029851.71429|\n",
            "|_250.txt       |     |        |               |              |               |\n",
            "|---------------|-----|--------|---------------|--------------|---------------|\n",
            "|input_random_34|250  |381     |0.3363542      |10.7633941    |1096878417.2539|\n",
            "|_250.txt       |     |        |               |              |7              |\n",
            "|---------------|-----|--------|---------------|--------------|---------------|\n",
            "|input_random_35|250  |129     |0.344055       |10.7322302    |1265266843.3492|\n",
            "|_250.txt       |     |        |               |              |1              |\n",
            "|---------------|-----|--------|---------------|--------------|---------------|\n",
            "|input_random_36|250  |670     |0.1731532      |12.8086855    |1466240997.7936|\n",
            "|_250.txt       |     |        |               |              |5              |\n",
            "|---------------|-----|--------|---------------|--------------|---------------|\n",
            "|input_random_37|300  |1137    |2.0059725      |19.0282579    |1635661239.6323|\n",
            "|_300.txt       |     |        |               |              |5              |\n",
            "|---------------|-----|--------|---------------|--------------|---------------|\n",
            "|input_random_38|300  |869     |1.2591469      |17.0269304    |1883590313.7058|\n",
            "|_300.txt       |     |        |               |              |8              |\n",
            "|---------------|-----|--------|---------------|--------------|---------------|\n",
            "|input_random_39|300  |868     |0.7588409      |17.1661035    |2133573386.9852|\n",
            "|_300.txt       |     |        |               |              |9              |\n",
            "|---------------|-----|--------|---------------|--------------|---------------|\n",
            "|input_random_40|300  |1148    |0.2522925      |17.1397249    |2383175968.7794|\n",
            "|_300.txt       |     |        |               |              |1              |\n",
            "|---------------|-----|--------|---------------|--------------|---------------|\n",
            "|input_random_41|350  |676     |0.3574936      |24.8673868    |2629733364.2253|\n",
            "|_350.txt       |     |        |               |              |5              |\n",
            "|---------------|-----|--------|---------------|--------------|---------------|\n",
            "|input_random_42|350  |290     |0.7175949      |24.8144932    |2976288581.3239|\n",
            "|_350.txt       |     |        |               |              |4              |\n",
            "|---------------|-----|--------|---------------|--------------|---------------|\n",
            "|input_random_43|350  |818     |1.7672588      |24.9490919    |3324644835.6338|\n",
            "|_350.txt       |     |        |               |              |               |\n",
            "|---------------|-----|--------|---------------|--------------|---------------|\n",
            "|input_random_44|350  |175     |0.3609978      |25.1664863    |3676163923.4507|\n",
            "|_350.txt       |     |        |               |              |               |\n",
            "|---------------|-----|--------|---------------|--------------|---------------|\n",
            "|input_random_45|400  |508     |0.4932028      |35.104897     |3944622374.3466|\n",
            "|_400.txt       |     |        |               |              |7              |\n",
            "|---------------|-----|--------|---------------|--------------|---------------|\n",
            "|input_random_46|400  |904     |1.8601818      |37.0366602    |4434806945.5866|\n",
            "|_400.txt       |     |        |               |              |7              |\n",
            "|---------------|-----|--------|---------------|--------------|---------------|\n",
            "|input_random_47|400  |362     |0.4648973      |35.3637103    |4902721183.2   |\n",
            "|_400.txt       |     |        |               |              |               |\n",
            "|---------------|-----|--------|---------------|--------------|---------------|\n",
            "|input_random_48|400  |509     |0.4725316      |35.195253     |5368532612.9466|\n",
            "|_400.txt       |     |        |               |              |7              |\n",
            "|---------------|-----|--------|---------------|--------------|---------------|\n",
            "|input_random_49|450  |400     |1.2153737      |47.5122463    |5766985242.2307|\n",
            "|_450.txt       |     |        |               |              |7              |\n",
            "|---------------|-----|--------|---------------|--------------|---------------|\n",
            "|input_random_50|450  |364     |1.2122314      |47.6754915    |6374064444.8076|\n",
            "|_450.txt       |     |        |               |              |9              |\n",
            "|---------------|-----|--------|---------------|--------------|---------------|\n",
            "|input_random_51|450  |336     |1.2257063      |49.2759535    |7001655864.7435|\n",
            "|_450.txt       |     |        |               |              |9              |\n",
            "|---------------|-----|--------|---------------|--------------|---------------|\n",
            "|input_random_52|450  |639     |0.7332662      |47.6511345    |7608274731.3461|\n",
            "|_450.txt       |     |        |               |              |5              |\n",
            "|---------------|-----|--------|---------------|--------------|---------------|\n",
            "|input_random_53|500  |43      |0.8043879      |62.1133428    |8189697657.6625|\n",
            "|_500.txt       |     |        |               |              |               |\n",
            "|---------------|-----|--------|---------------|--------------|---------------|\n",
            "|input_random_54|500  |805     |3.0971945      |62.0817899    |8960870726.9125|\n",
            "|_500.txt       |     |        |               |              |               |\n",
            "|---------------|-----|--------|---------------|--------------|---------------|\n",
            "|input_random_55|500  |363     |2.3313501      |64.1047331    |9757304724.625 |\n",
            "|_500.txt       |     |        |               |              |               |\n",
            "|---------------|-----|--------|---------------|--------------|---------------|\n",
            "|input_random_56|500  |584     |3.1197038      |62.4703374    |10533354245.675|\n",
            "|_500.txt       |     |        |               |              |               |\n",
            "|---------------|-----|--------|---------------|--------------|---------------|\n",
            "\n"
          ]
        }
      ]
    },
    {
      "cell_type": "markdown",
      "source": [
        "Plot of Karger and Stein's complexity (our implementation vs. theoretical complexity)"
      ],
      "metadata": {
        "id": "6TTITaepyzgL"
      }
    },
    {
      "cell_type": "code",
      "source": [
        "c_estimates = [round((run_time/ ((n**2)*(math.log2(n)**3))),3) for run_time,n in zip(sorted_runtimes_karger,sorted_sizes_karger)]\n",
        "c = sum(c_estimates)/len(c_estimates)\n",
        "\n",
        "reference_karger = [(c*math.pow(n,2)*math.log2(n)**3) for n in (sorted_sizes_karger)]\n",
        "plt.plot(sizes_karger, sorted_runtimes_karger)\n",
        "plt.plot(sizes_karger, reference_karger)\n",
        "plt.legend([\"Karger Stein's algorithm\", \"c*n*n*log^3(n)\"])\n",
        "plt.yscale('linear')\n",
        "plt.ylabel('run time (ns)')\n",
        "plt.savefig('karger-stein.png', dpi=300)\n",
        "plt.xlabel('size')\n",
        "plt.show()"
      ],
      "metadata": {
        "colab": {
          "base_uri": "https://localhost:8080/",
          "height": 290
        },
        "id": "gzoMiq6p7dbp",
        "outputId": "25f506b6-1592-43d9-9c0e-04df8116de1a"
      },
      "execution_count": null,
      "outputs": [
        {
          "output_type": "display_data",
          "data": {
            "text/plain": [
              "<Figure size 432x288 with 1 Axes>"
            ],
            "image/png": "[encoded data removed]"
          },
          "metadata": {
            "needs_background": "light"
          }
        }
      ]
    },
    {
      "cell_type": "markdown",
      "source": [
        "Karger's total times with respect to the size"
      ],
      "metadata": {
        "id": "MDZCguiky6g_"
      }
    },
    {
      "cell_type": "code",
      "source": [
        "plt.plot(sizes_karger, total_times_karger)\n",
        "plt.title('Total runtime [Karger]')\n",
        "plt.ylabel('Total runtime(s)')\n",
        "plt.xlabel('Size')\n",
        "plt.show()"
      ],
      "metadata": {
        "colab": {
          "base_uri": "https://localhost:8080/",
          "height": 295
        },
        "id": "tt3QukU7Vh0s",
        "outputId": "adfdef9e-f5a6-4a05-c22e-ec4c5d424efa"
      },
      "execution_count": null,
      "outputs": [
        {
          "output_type": "display_data",
          "data": {
            "text/plain": [
              "<Figure size 432x288 with 1 Axes>"
            ],
            "image/png": "[encoded data removed]"
          },
          "metadata": {
            "needs_background": "light"
          }
        }
      ]
    },
    {
      "cell_type": "markdown",
      "source": [
        "Karger's discovery times with respect to the size"
      ],
      "metadata": {
        "id": "3Ilu-WukzAer"
      }
    },
    {
      "cell_type": "code",
      "source": [
        "plt.plot(sizes_karger,discovery_times_karger)\n",
        "plt.title('Discovery time [Karger]')\n",
        "plt.ylabel('Discovery time(s)')\n",
        "plt.xlabel('Size')\n",
        "plt.show()"
      ],
      "metadata": {
        "colab": {
          "base_uri": "https://localhost:8080/",
          "height": 295
        },
        "id": "oAy4pm47pX04",
        "outputId": "3f92e4ef-b70d-4767-a4bd-c9042d9de211"
      },
      "execution_count": null,
      "outputs": [
        {
          "output_type": "display_data",
          "data": {
            "text/plain": [
              "<Figure size 432x288 with 1 Axes>"
            ],
            "image/png": "[encoded data removed]"
          },
          "metadata": {
            "needs_background": "light"
          }
        }
      ]
    },
    {
      "cell_type": "markdown",
      "source": [
        "Karger's discovery times vs. total times in seconds with respect to the size"
      ],
      "metadata": {
        "id": "ZzXAtAoCzFlJ"
      }
    },
    {
      "cell_type": "code",
      "source": [
        "fig,ax = plt.subplots()\n",
        "ax.plot(sizes_karger,discovery_times_karger)\n",
        "plt.plot(sizes_karger, total_times_karger)\n",
        "plt.legend([\"Discovery time\", \"Total runtime\"])\n",
        "plt.ylabel('time (s)')\n",
        "plt.title(\"Discovery time vs total runtime [Karger]\")\n",
        "plt.xlabel('size')\n",
        "plt.show()"
      ],
      "metadata": {
        "colab": {
          "base_uri": "https://localhost:8080/",
          "height": 295
        },
        "id": "czr_67rLbH5m",
        "outputId": "a9420928-d7f3-49ea-8048-cb170ad73baa"
      },
      "execution_count": null,
      "outputs": [
        {
          "output_type": "display_data",
          "data": {
            "text/plain": [
              "<Figure size 432x288 with 1 Axes>"
            ],
            "image/png": "[encoded data removed]"
          },
          "metadata": {
            "needs_background": "light"
          }
        }
      ]
    },
    {
      "cell_type": "markdown",
      "source": [
        "## Stoer and Wagner"
      ],
      "metadata": {
        "id": "uh_Cks6mcKCx"
      }
    },
    {
      "cell_type": "code",
      "source": [
        "sorted_sizes_stoer = list(zip(*tuples_stoer))[0]\n",
        "sorted_weights_stoer = list(zip(*tuples_stoer))[1]\n",
        "sorted_runtimes_stoer = list(zip(*tuples_stoer))[2]"
      ],
      "metadata": {
        "id": "YtMalPCpbEx-"
      },
      "execution_count": null,
      "outputs": []
    },
    {
      "cell_type": "markdown",
      "source": [
        "Summary table of Stoer and Wagner's results: sizes of the graph, weights, average times in nanoseconds"
      ],
      "metadata": {
        "id": "ZbuH3mNuzQvX"
      }
    },
    {
      "cell_type": "code",
      "source": [
        "headers = [\"Filename\",\"Size\",\"Solution\",\"Time\"]\n",
        "data=[]\n",
        "for i in range(len(sorted_sizes_stoer)):\n",
        "  data.append([files[i],tuples_stoer[i][0], tuples_stoer[i][1],tuples_stoer[i][2]])\n",
        "\n",
        "table = columnar(data,headers, no_borders= False)\n",
        "print(table)"
      ],
      "metadata": {
        "colab": {
          "base_uri": "https://localhost:8080/"
        },
        "id": "zzz9LhhoosJT",
        "outputId": "f4915820-2eca-4fe4-e9a4-a251e665a3cf"
      },
      "execution_count": null,
      "outputs": [
        {
          "output_type": "stream",
          "name": "stdout",
          "text": [
            "|-----------------------|-----|--------|---------------|\n",
            "|Filename               |Size |Solution|Time           |\n",
            "|======================================================|\n",
            "|input_random_01_10.txt |10   |3056    |995267.345     |\n",
            "|-----------------------|-----|--------|---------------|\n",
            "|input_random_02_10.txt |10   |223     |1829620.705    |\n",
            "|-----------------------|-----|--------|---------------|\n",
            "|input_random_03_10.txt |10   |2302    |2754048.74     |\n",
            "|-----------------------|-----|--------|---------------|\n",
            "|input_random_04_10.txt |10   |4974    |3549839.765    |\n",
            "|-----------------------|-----|--------|---------------|\n",
            "|input_random_05_20.txt |20   |1526    |7025988.8      |\n",
            "|-----------------------|-----|--------|---------------|\n",
            "|input_random_06_20.txt |20   |1684    |10409800.51    |\n",
            "|-----------------------|-----|--------|---------------|\n",
            "|input_random_07_20.txt |20   |522     |13645381.735   |\n",
            "|-----------------------|-----|--------|---------------|\n",
            "|input_random_08_20.txt |20   |2866    |16967643.2     |\n",
            "|-----------------------|-----|--------|---------------|\n",
            "|input_random_09_40.txt |40   |2137    |30590686.585   |\n",
            "|-----------------------|-----|--------|---------------|\n",
            "|input_random_10_40.txt |40   |1446    |44637738.2     |\n",
            "|-----------------------|-----|--------|---------------|\n",
            "|input_random_11_40.txt |40   |648     |58120168.515   |\n",
            "|-----------------------|-----|--------|---------------|\n",
            "|input_random_12_40.txt |40   |2486    |71625287.5     |\n",
            "|-----------------------|-----|--------|---------------|\n",
            "|input_random_13_60.txt |60   |1282    |104062804.695  |\n",
            "|-----------------------|-----|--------|---------------|\n",
            "|input_random_14_60.txt |60   |299     |135152130.54   |\n",
            "|-----------------------|-----|--------|---------------|\n",
            "|input_random_15_60.txt |60   |2113    |168826928.47   |\n",
            "|-----------------------|-----|--------|---------------|\n",
            "|input_random_16_60.txt |60   |159     |211604623.79   |\n",
            "|-----------------------|-----|--------|---------------|\n",
            "|input_random_17_80.txt |80   |969     |271670895.125  |\n",
            "|-----------------------|-----|--------|---------------|\n",
            "|input_random_18_80.txt |80   |1756    |332260265.915  |\n",
            "|-----------------------|-----|--------|---------------|\n",
            "|input_random_19_80.txt |80   |714     |393963074.125  |\n",
            "|-----------------------|-----|--------|---------------|\n",
            "|input_random_20_80.txt |80   |2610    |453933203.85   |\n",
            "|-----------------------|-----|--------|---------------|\n",
            "|input_random_21_100.txt|100  |341     |553323994.055  |\n",
            "|-----------------------|-----|--------|---------------|\n",
            "|input_random_22_100.txt|100  |890     |643046283.995  |\n",
            "|-----------------------|-----|--------|---------------|\n",
            "|input_random_23_100.txt|100  |772     |736243212.46   |\n",
            "|-----------------------|-----|--------|---------------|\n",
            "|input_random_24_100.txt|100  |1561    |833383695.35   |\n",
            "|-----------------------|-----|--------|---------------|\n",
            "|input_random_25_150.txt|150  |951     |1077957181.545 |\n",
            "|-----------------------|-----|--------|---------------|\n",
            "|input_random_26_150.txt|150  |424     |1333881028.14  |\n",
            "|-----------------------|-----|--------|---------------|\n",
            "|input_random_27_150.txt|150  |1153    |1575897003.785 |\n",
            "|-----------------------|-----|--------|---------------|\n",
            "|input_random_28_150.txt|150  |707     |1835077798.53  |\n",
            "|-----------------------|-----|--------|---------------|\n",
            "|input_random_29_200.txt|200  |484     |2325605143.185 |\n",
            "|-----------------------|-----|--------|---------------|\n",
            "|input_random_30_200.txt|200  |850     |2791033019.585 |\n",
            "|-----------------------|-----|--------|---------------|\n",
            "|input_random_31_200.txt|200  |1382    |3278433274.475 |\n",
            "|-----------------------|-----|--------|---------------|\n",
            "|input_random_32_200.txt|200  |1102    |3765140023.835 |\n",
            "|-----------------------|-----|--------|---------------|\n",
            "|input_random_33_250.txt|250  |346     |4550227153.98  |\n",
            "|-----------------------|-----|--------|---------------|\n",
            "|input_random_34_250.txt|250  |381     |5353728048.715 |\n",
            "|-----------------------|-----|--------|---------------|\n",
            "|input_random_35_250.txt|250  |129     |6187091731.09  |\n",
            "|-----------------------|-----|--------|---------------|\n",
            "|input_random_36_250.txt|250  |670     |7000264067.715 |\n",
            "|-----------------------|-----|--------|---------------|\n",
            "|input_random_37_300.txt|300  |1137    |8283433921.63  |\n",
            "|-----------------------|-----|--------|---------------|\n",
            "|input_random_38_300.txt|300  |869     |9538502944.85  |\n",
            "|-----------------------|-----|--------|---------------|\n",
            "|input_random_39_300.txt|300  |868     |10846581479.075|\n",
            "|-----------------------|-----|--------|---------------|\n",
            "|input_random_40_300.txt|300  |1148    |12181775538.995|\n",
            "|-----------------------|-----|--------|---------------|\n",
            "|input_random_41_350.txt|350  |676     |14083802590.065|\n",
            "|-----------------------|-----|--------|---------------|\n",
            "|input_random_42_350.txt|350  |290     |16041825444.565|\n",
            "|-----------------------|-----|--------|---------------|\n",
            "|input_random_43_350.txt|350  |818     |17943903804.335|\n",
            "|-----------------------|-----|--------|---------------|\n",
            "|input_random_44_350.txt|350  |175     |19844521093.17 |\n",
            "|-----------------------|-----|--------|---------------|\n",
            "|input_random_45_400.txt|400  |508     |22510659064.475|\n",
            "|-----------------------|-----|--------|---------------|\n",
            "|input_random_46_400.txt|400  |904     |25181953267.995|\n",
            "|-----------------------|-----|--------|---------------|\n",
            "|input_random_47_400.txt|400  |362     |27842135787.9  |\n",
            "|-----------------------|-----|--------|---------------|\n",
            "|input_random_48_400.txt|400  |509     |30480445441.61 |\n",
            "|-----------------------|-----|--------|---------------|\n",
            "|input_random_49_450.txt|450  |400     |34083202870.69 |\n",
            "|-----------------------|-----|--------|---------------|\n",
            "|input_random_50_450.txt|450  |364     |37724923718.41 |\n",
            "|-----------------------|-----|--------|---------------|\n",
            "|input_random_51_450.txt|450  |336     |41282732230.69 |\n",
            "|-----------------------|-----|--------|---------------|\n",
            "|input_random_52_450.txt|450  |639     |44860921513.795|\n",
            "|-----------------------|-----|--------|---------------|\n",
            "|input_random_53_500.txt|500  |43      |49700359243.885|\n",
            "|-----------------------|-----|--------|---------------|\n",
            "|input_random_54_500.txt|500  |805     |54497760004.04 |\n",
            "|-----------------------|-----|--------|---------------|\n",
            "|input_random_55_500.txt|500  |363     |59301099368.45 |\n",
            "|-----------------------|-----|--------|---------------|\n",
            "|input_random_56_500.txt|500  |584     |64038566293.24 |\n",
            "|-----------------------|-----|--------|---------------|\n",
            "\n"
          ]
        }
      ]
    },
    {
      "cell_type": "markdown",
      "source": [
        "Plot of Stoer-Wagner's complexity (our implementation vs. theoretical)"
      ],
      "metadata": {
        "id": "IDhzk6MWzah7"
      }
    },
    {
      "cell_type": "code",
      "source": [
        "c_estimates = [round(run_time/(m*n*math.log2(n)),3) for run_time,m,n in zip(sorted_runtimes_stoer,edges,sorted_sizes_stoer)]\n",
        "c = c_estimates[-1] # we take the last c in c_estimates\n",
        "reference_stoer = [c*m*n*math.log2(n) for n,m in zip(sorted_sizes_stoer,edges)]\n",
        "plt.plot(sorted_sizes_stoer, sorted_runtimes_stoer)\n",
        "plt.plot(sorted_sizes_stoer, reference_stoer)\n",
        "plt.legend([\"Stoer Wagner's algorithm\", \"c*m*n*log(n)\"])\n",
        "plt.ylabel('run time (ns)')\n",
        "plt.savefig('stoer_wagner.png', dpi=300)\n",
        "plt.xlabel('size')\n",
        "plt.show()"
      ],
      "metadata": {
        "colab": {
          "base_uri": "https://localhost:8080/",
          "height": 290
        },
        "id": "bzBrpn_g-gVK",
        "outputId": "9bcb5f3a-03ba-46c2-b069-34a41aab3396"
      },
      "execution_count": null,
      "outputs": [
        {
          "output_type": "display_data",
          "data": {
            "text/plain": [
              "<Figure size 432x288 with 1 Axes>"
            ],
            "image/png": "[encoded data removed]"
          },
          "metadata": {
            "needs_background": "light"
          }
        }
      ]
    },
    {
      "cell_type": "markdown",
      "source": [
        "## Comparison\n",
        "We plot both algorithms' complexities to make a comparison"
      ],
      "metadata": {
        "id": "N0gUE5LlPseV"
      }
    },
    {
      "cell_type": "code",
      "source": [
        "plt.plot(sorted_sizes_stoer, sorted_runtimes_stoer)\n",
        "plt.plot(sorted_sizes_stoer, sorted_runtimes_karger)\n",
        "plt.legend([\"Stoer Wagner\", \"Karger and Stein\"])\n",
        "plt.ylabel('run time (ns)')\n",
        "plt.savefig('comparison.png', dpi=300)\n",
        "plt.xlabel('size')\n",
        "plt.show()"
      ],
      "metadata": {
        "colab": {
          "base_uri": "https://localhost:8080/",
          "height": 290
        },
        "id": "pJ57ALEuPV2B",
        "outputId": "9f08cac6-5e47-4d35-ed03-81d3ffe00f37"
      },
      "execution_count": null,
      "outputs": [
        {
          "output_type": "display_data",
          "data": {
            "text/plain": [
              "<Figure size 432x288 with 1 Axes>"
            ],
            "image/png": "[encoded data removed]"
          },
          "metadata": {
            "needs_background": "light"
          }
        }
      ]
    },
    {
      "cell_type": "markdown",
      "source": [
        "Let's now plot the theoretical complexities together: Stein (O(mnlogn)), Karger (On^2logn^3)"
      ],
      "metadata": {
        "id": "akUPkq7aztN-"
      }
    },
    {
      "cell_type": "markdown",
      "source": [
        "Logarithmic scale:"
      ],
      "metadata": {
        "id": "1bZlmsbf0A0v"
      }
    },
    {
      "cell_type": "code",
      "source": [
        "reference_karger = [(c*math.pow(n,2)*math.log2(n)**3) for n in (sorted_sizes_karger)]\n",
        "reference_stoer = [c*m*n*math.log2(n) for n,m in zip(sorted_sizes_stoer,edges)]\n",
        "\n",
        "plt.plot(sorted_sizes_stoer, reference_stoer)\n",
        "plt.plot(sorted_sizes_stoer, reference_karger)\n",
        "plt.legend([\"Stoer Wagner (reference)\", \"Karger and Stein (reference)\"])\n",
        "plt.ylabel('run time (ns)')\n",
        "plt.xlabel('size')\n",
        "plt.yscale('log')\n",
        "plt.savefig('comparison_references_logarithm.png', dpi=300)\n",
        "plt.show()"
      ],
      "metadata": {
        "colab": {
          "base_uri": "https://localhost:8080/",
          "height": 279
        },
        "id": "PcDI2SpkSNWK",
        "outputId": "107b5ea4-542d-4176-f148-7828bfad0513"
      },
      "execution_count": null,
      "outputs": [
        {
          "output_type": "display_data",
          "data": {
            "text/plain": [
              "<Figure size 432x288 with 1 Axes>"
            ],
            "image/png": "[encoded data removed]"
          },
          "metadata": {
            "needs_background": "light"
          }
        }
      ]
    },
    {
      "cell_type": "markdown",
      "source": [
        "Linear scale:"
      ],
      "metadata": {
        "id": "9wXDhThS0CVy"
      }
    },
    {
      "cell_type": "code",
      "source": [
        "plt.plot(sorted_sizes_stoer, reference_stoer)\n",
        "plt.plot(sorted_sizes_stoer, reference_karger)\n",
        "plt.legend([\"Stoer Wagner (reference)\", \"Karger and Stein (reference)\"])\n",
        "plt.ylabel('run time (ns)')\n",
        "plt.savefig('comparison_references.png', dpi=300)\n",
        "plt.xlabel('size')\n",
        "plt.yscale('linear')\n",
        "plt.show()"
      ],
      "metadata": {
        "colab": {
          "base_uri": "https://localhost:8080/",
          "height": 290
        },
        "id": "4Hc8x44rSQ1_",
        "outputId": "aa1fb41c-7d78-4606-da8b-bede75a988e9"
      },
      "execution_count": null,
      "outputs": [
        {
          "output_type": "display_data",
          "data": {
            "text/plain": [
              "<Figure size 432x288 with 1 Axes>"
            ],
            "image/png": "[encoded data removed]"
          },
          "metadata": {
            "needs_background": "light"
          }
        }
      ]
    }
  ],
  "metadata": {
    "colab": {
      "collapsed_sections": [
        "A3dvUo-Iz6wD",
        "hb3ZngYLz5n3",
        "NPoa_30x-Mv6"
      ],
      "name": "HW3_Adv_Algorithms_Group05.ipynb",
      "provenance": [],
      "toc_visible": true
    },
    "kernelspec": {
      "display_name": "Python 3",
      "name": "python3"
    },
    "language_info": {
      "name": "python"
    }
  },
  "nbformat": 4,
  "nbformat_minor": 0
}